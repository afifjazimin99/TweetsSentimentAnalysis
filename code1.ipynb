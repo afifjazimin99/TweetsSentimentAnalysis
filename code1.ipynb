{
  "cells": [
    {
      "cell_type": "code",
      "execution_count": null,
      "id": "pL226K1uV9BI",
      "metadata": {
        "colab": {
          "base_uri": "https://localhost:8080/"
        },
        "id": "pL226K1uV9BI",
        "outputId": "a1c86787-d045-4af5-b700-1ba5a4260372"
      },
      "outputs": [],
      "source": [
        "!pip install transformers==4.37.2 accelerate==0.27.2 datasets evaluate peft==0.10.0 --quiet\n"
      ]
    },
    {
      "cell_type": "code",
      "execution_count": 2,
      "id": "797f9fcf",
      "metadata": {
        "id": "797f9fcf"
      },
      "outputs": [
        {
          "name": "stderr",
          "output_type": "stream",
          "text": [
            "d:\\anaconda\\envs\\airfrance_nlp\\Lib\\site-packages\\tqdm\\auto.py:21: TqdmWarning: IProgress not found. Please update jupyter and ipywidgets. See https://ipywidgets.readthedocs.io/en/stable/user_install.html\n",
            "  from .autonotebook import tqdm as notebook_tqdm\n"
          ]
        }
      ],
      "source": [
        "import pandas as pd\n",
        "import spacy\n",
        "import kagglehub\n",
        "from collections import defaultdict\n",
        "import nltk\n",
        "from nltk.corpus import stopwords, wordnet\n",
        "from nltk.tokenize import word_tokenize\n",
        "from nltk.stem import WordNetLemmatizer\n",
        "import re"
      ]
    },
    {
      "cell_type": "code",
      "execution_count": null,
      "id": "vzwmSdy6WENf",
      "metadata": {
        "colab": {
          "base_uri": "https://localhost:8080/"
        },
        "id": "vzwmSdy6WENf",
        "outputId": "d7a20a01-e799-48d5-cec1-7645b97c490a"
      },
      "outputs": [
        {
          "name": "stderr",
          "output_type": "stream",
          "text": [
            "W0624 04:18:05.457000 10936 site-packages\\torch\\distributed\\elastic\\multiprocessing\\redirects.py:29] NOTE: Redirects are currently not supported in Windows or MacOs.\n"
          ]
        },
        {
          "name": "stdout",
          "output_type": "stream",
          "text": [
            "✅ Trainer and Transformers are working!\n"
          ]
        }
      ],
      "source": [
        "from transformers import Trainer, TrainingArguments\n",
        "print(\"Trainer and Transformers are working!\")\n"
      ]
    },
    {
      "cell_type": "code",
      "execution_count": 4,
      "id": "b041a65f",
      "metadata": {
        "colab": {
          "base_uri": "https://localhost:8080/"
        },
        "id": "b041a65f",
        "outputId": "0b81124a-7736-437d-d9dd-46279ca2490a"
      },
      "outputs": [
        {
          "name": "stderr",
          "output_type": "stream",
          "text": [
            "[nltk_data] Downloading package punkt to\n",
            "[nltk_data]     C:\\Users\\user\\AppData\\Roaming\\nltk_data...\n",
            "[nltk_data]   Package punkt is already up-to-date!\n",
            "[nltk_data] Downloading package stopwords to\n",
            "[nltk_data]     C:\\Users\\user\\AppData\\Roaming\\nltk_data...\n",
            "[nltk_data]   Package stopwords is already up-to-date!\n",
            "[nltk_data] Downloading package wordnet to\n",
            "[nltk_data]     C:\\Users\\user\\AppData\\Roaming\\nltk_data...\n",
            "[nltk_data]   Package wordnet is already up-to-date!\n",
            "[nltk_data] Downloading package omw-1.4 to\n",
            "[nltk_data]     C:\\Users\\user\\AppData\\Roaming\\nltk_data...\n",
            "[nltk_data]   Package omw-1.4 is already up-to-date!\n",
            "[nltk_data] Downloading package averaged_perceptron_tagger_eng to\n",
            "[nltk_data]     C:\\Users\\user\\AppData\\Roaming\\nltk_data...\n",
            "[nltk_data]   Package averaged_perceptron_tagger_eng is already up-to-\n",
            "[nltk_data]       date!\n",
            "[nltk_data] Downloading package vader_lexicon to\n",
            "[nltk_data]     C:\\Users\\user\\AppData\\Roaming\\nltk_data...\n",
            "[nltk_data]   Package vader_lexicon is already up-to-date!\n"
          ]
        },
        {
          "data": {
            "text/plain": [
              "True"
            ]
          },
          "execution_count": 4,
          "metadata": {},
          "output_type": "execute_result"
        }
      ],
      "source": [
        "# Download required NLTK data\n",
        "nltk.download('punkt')\n",
        "nltk.download('stopwords')\n",
        "nltk.download('wordnet')\n",
        "nltk.download('omw-1.4')\n",
        "nltk.download('averaged_perceptron_tagger_eng')\n",
        "nltk.download('vader_lexicon')"
      ]
    },
    {
      "cell_type": "code",
      "execution_count": 5,
      "id": "8b6010f0",
      "metadata": {
        "colab": {
          "base_uri": "https://localhost:8080/"
        },
        "id": "8b6010f0",
        "outputId": "c66eaf75-7aaa-408e-a942-3811c1253a41"
      },
      "outputs": [
        {
          "name": "stdout",
          "output_type": "stream",
          "text": [
            "Path to dataset files: C:\\Users\\user\\.cache\\kagglehub\\datasets\\yasserh\\twitter-tweets-sentiment-dataset\\versions\\1\n"
          ]
        }
      ],
      "source": [
        "path = kagglehub.dataset_download(\"yasserh/twitter-tweets-sentiment-dataset\")\n",
        "\n",
        "print(\"Path to dataset files:\", path)"
      ]
    },
    {
      "cell_type": "code",
      "execution_count": 6,
      "id": "d2619fc9",
      "metadata": {
        "colab": {
          "base_uri": "https://localhost:8080/",
          "height": 206
        },
        "id": "d2619fc9",
        "outputId": "44bb6eff-e68c-439c-8b79-684fd62b647c"
      },
      "outputs": [
        {
          "data": {
            "text/html": [
              "<div>\n",
              "<style scoped>\n",
              "    .dataframe tbody tr th:only-of-type {\n",
              "        vertical-align: middle;\n",
              "    }\n",
              "\n",
              "    .dataframe tbody tr th {\n",
              "        vertical-align: top;\n",
              "    }\n",
              "\n",
              "    .dataframe thead th {\n",
              "        text-align: right;\n",
              "    }\n",
              "</style>\n",
              "<table border=\"1\" class=\"dataframe\">\n",
              "  <thead>\n",
              "    <tr style=\"text-align: right;\">\n",
              "      <th></th>\n",
              "      <th>textID</th>\n",
              "      <th>text</th>\n",
              "      <th>selected_text</th>\n",
              "      <th>sentiment</th>\n",
              "    </tr>\n",
              "  </thead>\n",
              "  <tbody>\n",
              "    <tr>\n",
              "      <th>0</th>\n",
              "      <td>cb774db0d1</td>\n",
              "      <td>I`d have responded, if I were going</td>\n",
              "      <td>I`d have responded, if I were going</td>\n",
              "      <td>neutral</td>\n",
              "    </tr>\n",
              "    <tr>\n",
              "      <th>1</th>\n",
              "      <td>549e992a42</td>\n",
              "      <td>Sooo SAD I will miss you here in San Diego!!!</td>\n",
              "      <td>Sooo SAD</td>\n",
              "      <td>negative</td>\n",
              "    </tr>\n",
              "    <tr>\n",
              "      <th>2</th>\n",
              "      <td>088c60f138</td>\n",
              "      <td>my boss is bullying me...</td>\n",
              "      <td>bullying me</td>\n",
              "      <td>negative</td>\n",
              "    </tr>\n",
              "    <tr>\n",
              "      <th>3</th>\n",
              "      <td>9642c003ef</td>\n",
              "      <td>what interview! leave me alone</td>\n",
              "      <td>leave me alone</td>\n",
              "      <td>negative</td>\n",
              "    </tr>\n",
              "    <tr>\n",
              "      <th>4</th>\n",
              "      <td>358bd9e861</td>\n",
              "      <td>Sons of ****, why couldn`t they put them on t...</td>\n",
              "      <td>Sons of ****,</td>\n",
              "      <td>negative</td>\n",
              "    </tr>\n",
              "  </tbody>\n",
              "</table>\n",
              "</div>"
            ],
            "text/plain": [
              "       textID                                               text  \\\n",
              "0  cb774db0d1                I`d have responded, if I were going   \n",
              "1  549e992a42      Sooo SAD I will miss you here in San Diego!!!   \n",
              "2  088c60f138                          my boss is bullying me...   \n",
              "3  9642c003ef                     what interview! leave me alone   \n",
              "4  358bd9e861   Sons of ****, why couldn`t they put them on t...   \n",
              "\n",
              "                         selected_text sentiment  \n",
              "0  I`d have responded, if I were going   neutral  \n",
              "1                             Sooo SAD  negative  \n",
              "2                          bullying me  negative  \n",
              "3                       leave me alone  negative  \n",
              "4                        Sons of ****,  negative  "
            ]
          },
          "execution_count": 6,
          "metadata": {},
          "output_type": "execute_result"
        }
      ],
      "source": [
        "df = pd.read_csv(path + \"/Tweets.csv\")\n",
        "df.head()"
      ]
    },
    {
      "cell_type": "code",
      "execution_count": 7,
      "id": "30fb971a",
      "metadata": {
        "colab": {
          "base_uri": "https://localhost:8080/"
        },
        "id": "30fb971a",
        "outputId": "ef577e2f-1f1b-4756-daa8-786d713b3063"
      },
      "outputs": [
        {
          "name": "stdout",
          "output_type": "stream",
          "text": [
            "<class 'pandas.core.frame.DataFrame'>\n",
            "RangeIndex: 27481 entries, 0 to 27480\n",
            "Data columns (total 4 columns):\n",
            " #   Column         Non-Null Count  Dtype \n",
            "---  ------         --------------  ----- \n",
            " 0   textID         27481 non-null  object\n",
            " 1   text           27480 non-null  object\n",
            " 2   selected_text  27480 non-null  object\n",
            " 3   sentiment      27481 non-null  object\n",
            "dtypes: object(4)\n",
            "memory usage: 858.9+ KB\n"
          ]
        }
      ],
      "source": [
        "df.info()"
      ]
    },
    {
      "cell_type": "markdown",
      "id": "60a982ec",
      "metadata": {
        "id": "60a982ec"
      },
      "source": [
        "## Data Preprocessing"
      ]
    },
    {
      "cell_type": "code",
      "execution_count": 8,
      "id": "878632b9",
      "metadata": {
        "id": "878632b9"
      },
      "outputs": [],
      "source": [
        "# drop selected_text & text ID column\n",
        "#df.drop(['selected_text', 'textID'], axis=1, inplace=True)"
      ]
    },
    {
      "cell_type": "code",
      "execution_count": 9,
      "id": "9387a492",
      "metadata": {
        "colab": {
          "base_uri": "https://localhost:8080/"
        },
        "id": "9387a492",
        "outputId": "d63d062f-f9b2-458e-eccd-4535ca70e534"
      },
      "outputs": [
        {
          "data": {
            "text/plain": [
              "True"
            ]
          },
          "execution_count": 9,
          "metadata": {},
          "output_type": "execute_result"
        }
      ],
      "source": [
        "df.isnull().values.any()"
      ]
    },
    {
      "cell_type": "code",
      "execution_count": 10,
      "id": "581a97ba",
      "metadata": {
        "id": "581a97ba"
      },
      "outputs": [],
      "source": [
        "df = df.dropna()"
      ]
    },
    {
      "cell_type": "code",
      "execution_count": 11,
      "id": "a3f6d392",
      "metadata": {
        "colab": {
          "base_uri": "https://localhost:8080/"
        },
        "id": "a3f6d392",
        "outputId": "a69bc917-1bdc-4268-9a5e-e158ea96c95a"
      },
      "outputs": [
        {
          "data": {
            "text/plain": [
              "0"
            ]
          },
          "execution_count": 11,
          "metadata": {},
          "output_type": "execute_result"
        }
      ],
      "source": [
        "# check duplicated rows\n",
        "df.duplicated().sum()"
      ]
    },
    {
      "cell_type": "code",
      "execution_count": 12,
      "id": "884cbf2b",
      "metadata": {
        "colab": {
          "base_uri": "https://localhost:8080/",
          "height": 1000
        },
        "id": "884cbf2b",
        "outputId": "90419d5b-db39-4104-e3d1-18806eb935d0"
      },
      "outputs": [
        {
          "data": {
            "text/html": [
              "<div>\n",
              "<style scoped>\n",
              "    .dataframe tbody tr th:only-of-type {\n",
              "        vertical-align: middle;\n",
              "    }\n",
              "\n",
              "    .dataframe tbody tr th {\n",
              "        vertical-align: top;\n",
              "    }\n",
              "\n",
              "    .dataframe thead th {\n",
              "        text-align: right;\n",
              "    }\n",
              "</style>\n",
              "<table border=\"1\" class=\"dataframe\">\n",
              "  <thead>\n",
              "    <tr style=\"text-align: right;\">\n",
              "      <th></th>\n",
              "      <th>textID</th>\n",
              "      <th>text</th>\n",
              "      <th>selected_text</th>\n",
              "      <th>sentiment</th>\n",
              "    </tr>\n",
              "  </thead>\n",
              "  <tbody>\n",
              "    <tr>\n",
              "      <th>0</th>\n",
              "      <td>cb774db0d1</td>\n",
              "      <td>I`d have responded, if I were going</td>\n",
              "      <td>I`d have responded, if I were going</td>\n",
              "      <td>neutral</td>\n",
              "    </tr>\n",
              "    <tr>\n",
              "      <th>1</th>\n",
              "      <td>549e992a42</td>\n",
              "      <td>Sooo SAD I will miss you here in San Diego!!!</td>\n",
              "      <td>Sooo SAD</td>\n",
              "      <td>negative</td>\n",
              "    </tr>\n",
              "    <tr>\n",
              "      <th>2</th>\n",
              "      <td>088c60f138</td>\n",
              "      <td>my boss is bullying me...</td>\n",
              "      <td>bullying me</td>\n",
              "      <td>negative</td>\n",
              "    </tr>\n",
              "    <tr>\n",
              "      <th>3</th>\n",
              "      <td>9642c003ef</td>\n",
              "      <td>what interview! leave me alone</td>\n",
              "      <td>leave me alone</td>\n",
              "      <td>negative</td>\n",
              "    </tr>\n",
              "    <tr>\n",
              "      <th>4</th>\n",
              "      <td>358bd9e861</td>\n",
              "      <td>Sons of ****, why couldn`t they put them on t...</td>\n",
              "      <td>Sons of ****,</td>\n",
              "      <td>negative</td>\n",
              "    </tr>\n",
              "    <tr>\n",
              "      <th>5</th>\n",
              "      <td>28b57f3990</td>\n",
              "      <td>http://www.dothebouncy.com/smf - some shameles...</td>\n",
              "      <td>http://www.dothebouncy.com/smf - some shameles...</td>\n",
              "      <td>neutral</td>\n",
              "    </tr>\n",
              "    <tr>\n",
              "      <th>6</th>\n",
              "      <td>6e0c6d75b1</td>\n",
              "      <td>2am feedings for the baby are fun when he is a...</td>\n",
              "      <td>fun</td>\n",
              "      <td>positive</td>\n",
              "    </tr>\n",
              "    <tr>\n",
              "      <th>7</th>\n",
              "      <td>50e14c0bb8</td>\n",
              "      <td>Soooo high</td>\n",
              "      <td>Soooo high</td>\n",
              "      <td>neutral</td>\n",
              "    </tr>\n",
              "    <tr>\n",
              "      <th>8</th>\n",
              "      <td>e050245fbd</td>\n",
              "      <td>Both of you</td>\n",
              "      <td>Both of you</td>\n",
              "      <td>neutral</td>\n",
              "    </tr>\n",
              "    <tr>\n",
              "      <th>9</th>\n",
              "      <td>fc2cbefa9d</td>\n",
              "      <td>Journey!? Wow... u just became cooler.  hehe....</td>\n",
              "      <td>Wow... u just became cooler.</td>\n",
              "      <td>positive</td>\n",
              "    </tr>\n",
              "    <tr>\n",
              "      <th>10</th>\n",
              "      <td>2339a9b08b</td>\n",
              "      <td>as much as i love to be hopeful, i reckon the...</td>\n",
              "      <td>as much as i love to be hopeful, i reckon the ...</td>\n",
              "      <td>neutral</td>\n",
              "    </tr>\n",
              "    <tr>\n",
              "      <th>11</th>\n",
              "      <td>16fab9f95b</td>\n",
              "      <td>I really really like the song Love Story by Ta...</td>\n",
              "      <td>like</td>\n",
              "      <td>positive</td>\n",
              "    </tr>\n",
              "    <tr>\n",
              "      <th>12</th>\n",
              "      <td>74a76f6e0a</td>\n",
              "      <td>My Sharpie is running DANGERously low on ink</td>\n",
              "      <td>DANGERously</td>\n",
              "      <td>negative</td>\n",
              "    </tr>\n",
              "    <tr>\n",
              "      <th>13</th>\n",
              "      <td>04dd1d2e34</td>\n",
              "      <td>i want to go to music tonight but i lost my vo...</td>\n",
              "      <td>lost</td>\n",
              "      <td>negative</td>\n",
              "    </tr>\n",
              "    <tr>\n",
              "      <th>14</th>\n",
              "      <td>bbe3cbf620</td>\n",
              "      <td>test test from the LG enV2</td>\n",
              "      <td>test test from the LG enV2</td>\n",
              "      <td>neutral</td>\n",
              "    </tr>\n",
              "    <tr>\n",
              "      <th>15</th>\n",
              "      <td>8a939bfb59</td>\n",
              "      <td>Uh oh, I am sunburned</td>\n",
              "      <td>Uh oh, I am sunburned</td>\n",
              "      <td>negative</td>\n",
              "    </tr>\n",
              "    <tr>\n",
              "      <th>16</th>\n",
              "      <td>3440297f8b</td>\n",
              "      <td>S`ok, trying to plot alternatives as we speak...</td>\n",
              "      <td>*sigh*</td>\n",
              "      <td>negative</td>\n",
              "    </tr>\n",
              "    <tr>\n",
              "      <th>17</th>\n",
              "      <td>919fa93391</td>\n",
              "      <td>i`ve been sick for the past few days  and thus...</td>\n",
              "      <td>sick</td>\n",
              "      <td>negative</td>\n",
              "    </tr>\n",
              "    <tr>\n",
              "      <th>18</th>\n",
              "      <td>af3fed7fc3</td>\n",
              "      <td>is back home now      gonna miss every one</td>\n",
              "      <td>onna</td>\n",
              "      <td>negative</td>\n",
              "    </tr>\n",
              "    <tr>\n",
              "      <th>19</th>\n",
              "      <td>40e7becabf</td>\n",
              "      <td>Hes just not that into you</td>\n",
              "      <td>Hes just not that into you</td>\n",
              "      <td>neutral</td>\n",
              "    </tr>\n",
              "    <tr>\n",
              "      <th>20</th>\n",
              "      <td>04d17ef61e</td>\n",
              "      <td>oh Marly, I`m so sorry!!  I hope you find her...</td>\n",
              "      <td>oh Marly, I`m so sorry!!  I hope you find her ...</td>\n",
              "      <td>neutral</td>\n",
              "    </tr>\n",
              "    <tr>\n",
              "      <th>21</th>\n",
              "      <td>e48b0b8a23</td>\n",
              "      <td>Playing Ghost Online is really interesting. Th...</td>\n",
              "      <td>interesting.</td>\n",
              "      <td>positive</td>\n",
              "    </tr>\n",
              "    <tr>\n",
              "      <th>22</th>\n",
              "      <td>7de057cf40</td>\n",
              "      <td>is cleaning the house for her family who is co...</td>\n",
              "      <td>is cleaning the house for her family who is co...</td>\n",
              "      <td>neutral</td>\n",
              "    </tr>\n",
              "    <tr>\n",
              "      <th>23</th>\n",
              "      <td>9ce5570064</td>\n",
              "      <td>gotta restart my computer .. I thought Win7 wa...</td>\n",
              "      <td>gotta restart my computer .. I thought Win7 wa...</td>\n",
              "      <td>neutral</td>\n",
              "    </tr>\n",
              "    <tr>\n",
              "      <th>24</th>\n",
              "      <td>0c8cc71c46</td>\n",
              "      <td>SEe waT I Mean bOuT FoLL0w fRiiDaYs... It`S cA...</td>\n",
              "      <td>SEe waT I Mean bOuT FoLL0w fRiiDaYs... It`S cA...</td>\n",
              "      <td>neutral</td>\n",
              "    </tr>\n",
              "    <tr>\n",
              "      <th>25</th>\n",
              "      <td>e00c6ef376</td>\n",
              "      <td>the free fillin` app on my ipod is fun, im add...</td>\n",
              "      <td>the free fillin` app on my ipod is fun, im add...</td>\n",
              "      <td>positive</td>\n",
              "    </tr>\n",
              "    <tr>\n",
              "      <th>26</th>\n",
              "      <td>852edc3769</td>\n",
              "      <td>I`m sorry.</td>\n",
              "      <td>I`m sorry.</td>\n",
              "      <td>negative</td>\n",
              "    </tr>\n",
              "    <tr>\n",
              "      <th>27</th>\n",
              "      <td>bdc32ea43c</td>\n",
              "      <td>On the way to Malaysia...no internet access to...</td>\n",
              "      <td>.no internet</td>\n",
              "      <td>negative</td>\n",
              "    </tr>\n",
              "    <tr>\n",
              "      <th>28</th>\n",
              "      <td>6ce4a4954b</td>\n",
              "      <td>juss came backk from Berkeleyy ; omg its madd ...</td>\n",
              "      <td>fun</td>\n",
              "      <td>positive</td>\n",
              "    </tr>\n",
              "    <tr>\n",
              "      <th>29</th>\n",
              "      <td>d22e6d40a7</td>\n",
              "      <td>Went to sleep and there is a power cut in Noid...</td>\n",
              "      <td>Power back up not working too</td>\n",
              "      <td>negative</td>\n",
              "    </tr>\n",
              "    <tr>\n",
              "      <th>30</th>\n",
              "      <td>d33f811375</td>\n",
              "      <td>I`m going home now. Have you seen my new twitt...</td>\n",
              "      <td>Quite....heavenly</td>\n",
              "      <td>positive</td>\n",
              "    </tr>\n",
              "    <tr>\n",
              "      <th>31</th>\n",
              "      <td>7d8c4c11e4</td>\n",
              "      <td>i hope unni will make the audition . fighting ...</td>\n",
              "      <td>hope</td>\n",
              "      <td>positive</td>\n",
              "    </tr>\n",
              "    <tr>\n",
              "      <th>32</th>\n",
              "      <td>1c31703aef</td>\n",
              "      <td>If it is any consolation I got my BMI tested ...</td>\n",
              "      <td>well so much for being unhappy for about 10 mi...</td>\n",
              "      <td>negative</td>\n",
              "    </tr>\n",
              "    <tr>\n",
              "      <th>33</th>\n",
              "      <td>2dc51711bc</td>\n",
              "      <td>That`s very funny.  Cute kids.</td>\n",
              "      <td>funny.</td>\n",
              "      <td>positive</td>\n",
              "    </tr>\n",
              "    <tr>\n",
              "      <th>34</th>\n",
              "      <td>d21ab5855b</td>\n",
              "      <td>Ahhh, I slept through the game.  I`m gonna tr...</td>\n",
              "      <td>Ahhh, I slept through the game.  I`m gonna try...</td>\n",
              "      <td>neutral</td>\n",
              "    </tr>\n",
              "    <tr>\n",
              "      <th>35</th>\n",
              "      <td>4f5267ad70</td>\n",
              "      <td>Thats it, its the end. Tears for Fears vs Eric...</td>\n",
              "      <td>Thats it, its the end. Tears for Fears</td>\n",
              "      <td>neutral</td>\n",
              "    </tr>\n",
              "    <tr>\n",
              "      <th>36</th>\n",
              "      <td>2724775d6b</td>\n",
              "      <td>Born and raised in NYC and living in Texas for...</td>\n",
              "      <td>miss</td>\n",
              "      <td>negative</td>\n",
              "    </tr>\n",
              "    <tr>\n",
              "      <th>37</th>\n",
              "      <td>1cbc812ece</td>\n",
              "      <td>just in case you wonder, we are really busy to...</td>\n",
              "      <td>just in case you wonder, we are really busy to...</td>\n",
              "      <td>neutral</td>\n",
              "    </tr>\n",
              "    <tr>\n",
              "      <th>38</th>\n",
              "      <td>4b61dffbeb</td>\n",
              "      <td>i`m soooooo sleeeeepy!!! the last day o` schoo...</td>\n",
              "      <td>soooooo sleeeeepy!!!</td>\n",
              "      <td>negative</td>\n",
              "    </tr>\n",
              "    <tr>\n",
              "      <th>39</th>\n",
              "      <td>2863f435bd</td>\n",
              "      <td>A little happy for the wine jeje ok it`sm my f...</td>\n",
              "      <td>A little happy fo</td>\n",
              "      <td>positive</td>\n",
              "    </tr>\n",
              "    <tr>\n",
              "      <th>40</th>\n",
              "      <td>d93afa85cf</td>\n",
              "      <td>Car not happy, big big dent in boot! Hoping t...</td>\n",
              "      <td>Car not happy, big big dent in boot! Hoping th...</td>\n",
              "      <td>neutral</td>\n",
              "    </tr>\n",
              "    <tr>\n",
              "      <th>41</th>\n",
              "      <td>fab6b7d16c</td>\n",
              "      <td>im an avid fan of **** magazine and i love you...</td>\n",
              "      <td>avid fan of</td>\n",
              "      <td>positive</td>\n",
              "    </tr>\n",
              "    <tr>\n",
              "      <th>42</th>\n",
              "      <td>2e7082d1c8</td>\n",
              "      <td>MAYDAY?!</td>\n",
              "      <td>MAYDAY?!</td>\n",
              "      <td>neutral</td>\n",
              "    </tr>\n",
              "    <tr>\n",
              "      <th>43</th>\n",
              "      <td>684081e4e7</td>\n",
              "      <td>RATT ROCKED NASHVILLE TONITE..ONE THING SUCKED...</td>\n",
              "      <td>RATT ROCKED NASHVILLE TONITE..ONE THING SUCKED...</td>\n",
              "      <td>neutral</td>\n",
              "    </tr>\n",
              "    <tr>\n",
              "      <th>44</th>\n",
              "      <td>c77717b103</td>\n",
              "      <td>I love to! But I`m only available from 5pm.  ...</td>\n",
              "      <td>I love to!</td>\n",
              "      <td>positive</td>\n",
              "    </tr>\n",
              "    <tr>\n",
              "      <th>45</th>\n",
              "      <td>a9d499e123</td>\n",
              "      <td>The girl in the hair salon asked me 'Shall I t...</td>\n",
              "      <td>The girl in the hair salon asked me 'Shall I t...</td>\n",
              "      <td>neutral</td>\n",
              "    </tr>\n",
              "    <tr>\n",
              "      <th>46</th>\n",
              "      <td>ddf296dffa</td>\n",
              "      <td>egh blah and boooooooooooo i dunno wanna go to...</td>\n",
              "      <td>SUCKKKKKK</td>\n",
              "      <td>negative</td>\n",
              "    </tr>\n",
              "    <tr>\n",
              "      <th>47</th>\n",
              "      <td>c3924dc9e4</td>\n",
              "      <td>:visiting my friendster and facebook</td>\n",
              "      <td>:visiting my friendster and facebook</td>\n",
              "      <td>neutral</td>\n",
              "    </tr>\n",
              "    <tr>\n",
              "      <th>48</th>\n",
              "      <td>3d9d4b0b55</td>\n",
              "      <td>i donbt like to peel prawns, i also dont like ...</td>\n",
              "      <td>dont like go</td>\n",
              "      <td>negative</td>\n",
              "    </tr>\n",
              "    <tr>\n",
              "      <th>49</th>\n",
              "      <td>3fcea4debc</td>\n",
              "      <td>which case? I got a new one last week and I`m...</td>\n",
              "      <td>d I`m not thrilled at all with mine.</td>\n",
              "      <td>negative</td>\n",
              "    </tr>\n",
              "  </tbody>\n",
              "</table>\n",
              "</div>"
            ],
            "text/plain": [
              "        textID                                               text  \\\n",
              "0   cb774db0d1                I`d have responded, if I were going   \n",
              "1   549e992a42      Sooo SAD I will miss you here in San Diego!!!   \n",
              "2   088c60f138                          my boss is bullying me...   \n",
              "3   9642c003ef                     what interview! leave me alone   \n",
              "4   358bd9e861   Sons of ****, why couldn`t they put them on t...   \n",
              "5   28b57f3990  http://www.dothebouncy.com/smf - some shameles...   \n",
              "6   6e0c6d75b1  2am feedings for the baby are fun when he is a...   \n",
              "7   50e14c0bb8                                         Soooo high   \n",
              "8   e050245fbd                                        Both of you   \n",
              "9   fc2cbefa9d   Journey!? Wow... u just became cooler.  hehe....   \n",
              "10  2339a9b08b   as much as i love to be hopeful, i reckon the...   \n",
              "11  16fab9f95b  I really really like the song Love Story by Ta...   \n",
              "12  74a76f6e0a       My Sharpie is running DANGERously low on ink   \n",
              "13  04dd1d2e34  i want to go to music tonight but i lost my vo...   \n",
              "14  bbe3cbf620                         test test from the LG enV2   \n",
              "15  8a939bfb59                              Uh oh, I am sunburned   \n",
              "16  3440297f8b   S`ok, trying to plot alternatives as we speak...   \n",
              "17  919fa93391  i`ve been sick for the past few days  and thus...   \n",
              "18  af3fed7fc3         is back home now      gonna miss every one   \n",
              "19  40e7becabf                         Hes just not that into you   \n",
              "20  04d17ef61e   oh Marly, I`m so sorry!!  I hope you find her...   \n",
              "21  e48b0b8a23  Playing Ghost Online is really interesting. Th...   \n",
              "22  7de057cf40  is cleaning the house for her family who is co...   \n",
              "23  9ce5570064  gotta restart my computer .. I thought Win7 wa...   \n",
              "24  0c8cc71c46  SEe waT I Mean bOuT FoLL0w fRiiDaYs... It`S cA...   \n",
              "25  e00c6ef376  the free fillin` app on my ipod is fun, im add...   \n",
              "26  852edc3769                                         I`m sorry.   \n",
              "27  bdc32ea43c  On the way to Malaysia...no internet access to...   \n",
              "28  6ce4a4954b  juss came backk from Berkeleyy ; omg its madd ...   \n",
              "29  d22e6d40a7  Went to sleep and there is a power cut in Noid...   \n",
              "30  d33f811375  I`m going home now. Have you seen my new twitt...   \n",
              "31  7d8c4c11e4  i hope unni will make the audition . fighting ...   \n",
              "32  1c31703aef   If it is any consolation I got my BMI tested ...   \n",
              "33  2dc51711bc                     That`s very funny.  Cute kids.   \n",
              "34  d21ab5855b   Ahhh, I slept through the game.  I`m gonna tr...   \n",
              "35  4f5267ad70  Thats it, its the end. Tears for Fears vs Eric...   \n",
              "36  2724775d6b  Born and raised in NYC and living in Texas for...   \n",
              "37  1cbc812ece  just in case you wonder, we are really busy to...   \n",
              "38  4b61dffbeb  i`m soooooo sleeeeepy!!! the last day o` schoo...   \n",
              "39  2863f435bd  A little happy for the wine jeje ok it`sm my f...   \n",
              "40  d93afa85cf   Car not happy, big big dent in boot! Hoping t...   \n",
              "41  fab6b7d16c  im an avid fan of **** magazine and i love you...   \n",
              "42  2e7082d1c8                                           MAYDAY?!   \n",
              "43  684081e4e7  RATT ROCKED NASHVILLE TONITE..ONE THING SUCKED...   \n",
              "44  c77717b103   I love to! But I`m only available from 5pm.  ...   \n",
              "45  a9d499e123  The girl in the hair salon asked me 'Shall I t...   \n",
              "46  ddf296dffa  egh blah and boooooooooooo i dunno wanna go to...   \n",
              "47  c3924dc9e4               :visiting my friendster and facebook   \n",
              "48  3d9d4b0b55  i donbt like to peel prawns, i also dont like ...   \n",
              "49  3fcea4debc   which case? I got a new one last week and I`m...   \n",
              "\n",
              "                                        selected_text sentiment  \n",
              "0                 I`d have responded, if I were going   neutral  \n",
              "1                                            Sooo SAD  negative  \n",
              "2                                         bullying me  negative  \n",
              "3                                      leave me alone  negative  \n",
              "4                                       Sons of ****,  negative  \n",
              "5   http://www.dothebouncy.com/smf - some shameles...   neutral  \n",
              "6                                                 fun  positive  \n",
              "7                                          Soooo high   neutral  \n",
              "8                                         Both of you   neutral  \n",
              "9                        Wow... u just became cooler.  positive  \n",
              "10  as much as i love to be hopeful, i reckon the ...   neutral  \n",
              "11                                               like  positive  \n",
              "12                                        DANGERously  negative  \n",
              "13                                               lost  negative  \n",
              "14                         test test from the LG enV2   neutral  \n",
              "15                              Uh oh, I am sunburned  negative  \n",
              "16                                             *sigh*  negative  \n",
              "17                                               sick  negative  \n",
              "18                                               onna  negative  \n",
              "19                         Hes just not that into you   neutral  \n",
              "20  oh Marly, I`m so sorry!!  I hope you find her ...   neutral  \n",
              "21                                       interesting.  positive  \n",
              "22  is cleaning the house for her family who is co...   neutral  \n",
              "23  gotta restart my computer .. I thought Win7 wa...   neutral  \n",
              "24  SEe waT I Mean bOuT FoLL0w fRiiDaYs... It`S cA...   neutral  \n",
              "25  the free fillin` app on my ipod is fun, im add...  positive  \n",
              "26                                         I`m sorry.  negative  \n",
              "27                                       .no internet  negative  \n",
              "28                                                fun  positive  \n",
              "29                      Power back up not working too  negative  \n",
              "30                                  Quite....heavenly  positive  \n",
              "31                                               hope  positive  \n",
              "32  well so much for being unhappy for about 10 mi...  negative  \n",
              "33                                             funny.  positive  \n",
              "34  Ahhh, I slept through the game.  I`m gonna try...   neutral  \n",
              "35             Thats it, its the end. Tears for Fears   neutral  \n",
              "36                                               miss  negative  \n",
              "37  just in case you wonder, we are really busy to...   neutral  \n",
              "38                               soooooo sleeeeepy!!!  negative  \n",
              "39                                  A little happy fo  positive  \n",
              "40  Car not happy, big big dent in boot! Hoping th...   neutral  \n",
              "41                                        avid fan of  positive  \n",
              "42                                           MAYDAY?!   neutral  \n",
              "43  RATT ROCKED NASHVILLE TONITE..ONE THING SUCKED...   neutral  \n",
              "44                                         I love to!  positive  \n",
              "45  The girl in the hair salon asked me 'Shall I t...   neutral  \n",
              "46                                          SUCKKKKKK  negative  \n",
              "47               :visiting my friendster and facebook   neutral  \n",
              "48                                       dont like go  negative  \n",
              "49               d I`m not thrilled at all with mine.  negative  "
            ]
          },
          "execution_count": 12,
          "metadata": {},
          "output_type": "execute_result"
        }
      ],
      "source": [
        "df = df.reset_index(drop = True)\n",
        "df.head(50)"
      ]
    },
    {
      "cell_type": "markdown",
      "id": "fce39329",
      "metadata": {
        "id": "fce39329"
      },
      "source": [
        "### Text Normalization"
      ]
    },
    {
      "cell_type": "code",
      "execution_count": 13,
      "id": "f86d1afc",
      "metadata": {
        "colab": {
          "base_uri": "https://localhost:8080/"
        },
        "id": "f86d1afc",
        "outputId": "150a7628-5618-44e3-a087-69049e4bc476"
      },
      "outputs": [
        {
          "name": "stdout",
          "output_type": "stream",
          "text": [
            "0                     id have responded if i were going\n",
            "1                                              sooo sad\n",
            "2                                           bullying me\n",
            "3                                        leave me alone\n",
            "4                                               sons of\n",
            "5     some shameless plugging for the best rangers f...\n",
            "6                                                   fun\n",
            "7                                            soooo high\n",
            "8                                           both of you\n",
            "9                              wow u just became cooler\n",
            "10    as much as i love to be hopeful i reckon the c...\n",
            "11                                                 like\n",
            "12                                          dangerously\n",
            "13                                                 lost\n",
            "14                           test test from the lg env2\n",
            "15                                 uh oh i am sunburned\n",
            "16                                                 sigh\n",
            "17                                                 sick\n",
            "18                                                 onna\n",
            "19                           hes just not that into you\n",
            "Name: normalized_text, dtype: object\n"
          ]
        }
      ],
      "source": [
        "# Define selected_text normalization function\n",
        "def normalize_text(text):\n",
        "    if not isinstance(text, str):\n",
        "        return \"\"\n",
        "    text = text.lower()  # lowercase\n",
        "    text = re.sub(r'http\\S+|www\\S+|https\\S+', '', text)  # remove URLs\n",
        "    text = re.sub(r'[^a-z0-9\\s]', '', text)  # remove special characters except letters, numbers, and spaces\n",
        "    text = re.sub(r'\\s+', ' ', text).strip()  # remove extra whitespace\n",
        "    return text\n",
        "\n",
        "# Apply normalization to the tweet selected text column\n",
        "df['normalized_text'] = df['selected_text'].apply(normalize_text)\n",
        "\n",
        "# Check the result\n",
        "print(df['normalized_text'].head(20))"
      ]
    },
    {
      "cell_type": "markdown",
      "id": "013995a3",
      "metadata": {
        "id": "013995a3"
      },
      "source": [
        "### Tokenization"
      ]
    },
    {
      "cell_type": "code",
      "execution_count": 14,
      "id": "ee86a683",
      "metadata": {
        "colab": {
          "base_uri": "https://localhost:8080/"
        },
        "id": "ee86a683",
        "outputId": "9e8c3158-ec09-4c75-cd61-d427e676aa6f"
      },
      "outputs": [
        {
          "name": "stdout",
          "output_type": "stream",
          "text": [
            "0             [id, have, responded, if, i, were, going]\n",
            "1                                           [sooo, sad]\n",
            "2                                        [bullying, me]\n",
            "3                                    [leave, me, alone]\n",
            "4                                            [sons, of]\n",
            "5     [some, shameless, plugging, for, the, best, ra...\n",
            "6                                                 [fun]\n",
            "7                                         [soooo, high]\n",
            "8                                       [both, of, you]\n",
            "9                        [wow, u, just, became, cooler]\n",
            "10    [as, much, as, i, love, to, be, hopeful, i, re...\n",
            "11                                               [like]\n",
            "12                                        [dangerously]\n",
            "13                                               [lost]\n",
            "14                    [test, test, from, the, lg, env2]\n",
            "15                           [uh, oh, i, am, sunburned]\n",
            "16                                               [sigh]\n",
            "17                                               [sick]\n",
            "18                                               [onna]\n",
            "19                    [hes, just, not, that, into, you]\n",
            "Name: tokenized_text, dtype: object\n"
          ]
        }
      ],
      "source": [
        "def tokenize_text(normalize_text):\n",
        "    if not isinstance(normalize_text, str):\n",
        "        return []\n",
        "    return normalize_text.split()\n",
        "\n",
        "df['tokenized_text'] = df['normalized_text'].apply(tokenize_text)\n",
        "\n",
        "# Check the result\n",
        "print(df['tokenized_text'].head(20))\n"
      ]
    },
    {
      "cell_type": "markdown",
      "id": "08569e66",
      "metadata": {
        "id": "08569e66"
      },
      "source": [
        "### Stopword Removal"
      ]
    },
    {
      "cell_type": "code",
      "execution_count": 15,
      "id": "a9a5c652",
      "metadata": {
        "colab": {
          "base_uri": "https://localhost:8080/"
        },
        "id": "a9a5c652",
        "outputId": "6c351bba-6f86-4e0a-8426-1424ef0dbf73"
      },
      "outputs": [
        {
          "name": "stdout",
          "output_type": "stream",
          "text": [
            "0                                [id, responded, going]\n",
            "1                                           [sooo, sad]\n",
            "2                                            [bullying]\n",
            "3                                        [leave, alone]\n",
            "4                                                [sons]\n",
            "5     [shameless, plugging, best, rangers, forum, ea...\n",
            "6                                                 [fun]\n",
            "7                                         [soooo, high]\n",
            "8                                                    []\n",
            "9                              [wow, u, became, cooler]\n",
            "10    [much, love, hopeful, reckon, chances, minimal...\n",
            "11                                               [like]\n",
            "12                                        [dangerously]\n",
            "13                                               [lost]\n",
            "14                               [test, test, lg, env2]\n",
            "15                                  [uh, oh, sunburned]\n",
            "16                                               [sigh]\n",
            "17                                               [sick]\n",
            "18                                               [onna]\n",
            "19                                                [hes]\n",
            "Name: stopword_text, dtype: object\n"
          ]
        }
      ],
      "source": [
        "stop_words = set(stopwords.words('english'))\n",
        "\n",
        "def remove_stopwords(tokenized_text):\n",
        "    if not isinstance(tokenized_text, list):\n",
        "        return []\n",
        "    filtered_tokens = [word for word in tokenized_text if word not in stop_words]\n",
        "    return filtered_tokens\n",
        "\n",
        "df['stopword_text'] = df['tokenized_text'].apply(remove_stopwords)\n",
        "\n",
        "# Check the result\n",
        "print(df['stopword_text'].head(20))\n"
      ]
    },
    {
      "cell_type": "markdown",
      "id": "6e202ad3",
      "metadata": {
        "id": "6e202ad3"
      },
      "source": [
        "### Lemmetization"
      ]
    },
    {
      "cell_type": "code",
      "execution_count": 16,
      "id": "955c0958",
      "metadata": {
        "colab": {
          "base_uri": "https://localhost:8080/"
        },
        "id": "955c0958",
        "outputId": "9597e4ec-c3db-41ef-9182-1ea9c0f80054"
      },
      "outputs": [
        {
          "name": "stdout",
          "output_type": "stream",
          "text": [
            "0                                     [id, respond, go]\n",
            "1                                           [sooo, sad]\n",
            "2                                            [bullying]\n",
            "3                                        [leave, alone]\n",
            "4                                                 [son]\n",
            "5         [shameless, plug, best, ranger, forum, earth]\n",
            "6                                                 [fun]\n",
            "7                                         [soooo, high]\n",
            "8                                                    []\n",
            "9                              [wow, u, become, cooler]\n",
            "10    [much, love, hopeful, reckon, chance, minimal,...\n",
            "11                                               [like]\n",
            "12                                        [dangerously]\n",
            "13                                               [lose]\n",
            "14                               [test, test, lg, env2]\n",
            "15                                    [uh, oh, sunburn]\n",
            "16                                               [sigh]\n",
            "17                                               [sick]\n",
            "18                                               [onna]\n",
            "19                                                 [he]\n",
            "Name: lemmetized_text, dtype: object\n"
          ]
        }
      ],
      "source": [
        "lemmatizer = WordNetLemmatizer()\n",
        "\n",
        "def get_wordnet_pos(treebank_tag):\n",
        "    if treebank_tag.startswith('J'):\n",
        "        return wordnet.ADJ\n",
        "    elif treebank_tag.startswith('V'):\n",
        "        return wordnet.VERB\n",
        "    elif treebank_tag.startswith('R'):\n",
        "        return wordnet.ADV\n",
        "    else:\n",
        "        return wordnet.NOUN  # Default to noun\n",
        "\n",
        "def lemmatize_tokens_with_pos(tokens):\n",
        "    if not isinstance(tokens, list):\n",
        "        return []\n",
        "    pos_tagged = nltk.pos_tag(tokens)  # POS tagging\n",
        "    lemmatized = [lemmatizer.lemmatize(token, get_wordnet_pos(pos)) for token, pos in pos_tagged]\n",
        "    return lemmatized\n",
        "\n",
        "df['lemmetized_text'] = df['stopword_text'].apply(lemmatize_tokens_with_pos)\n",
        "\n",
        "print(df['lemmetized_text'].head(20))"
      ]
    },
    {
      "cell_type": "markdown",
      "id": "6cff92df",
      "metadata": {
        "id": "6cff92df"
      },
      "source": [
        "### Remove Empty Rows After Preprocessed"
      ]
    },
    {
      "cell_type": "code",
      "execution_count": 17,
      "id": "78444ec9",
      "metadata": {
        "id": "78444ec9"
      },
      "outputs": [],
      "source": [
        "df = df[df['lemmetized_text'].apply(lambda x: isinstance(x, list) and len(x) > 0)].reset_index(drop=True)"
      ]
    },
    {
      "cell_type": "code",
      "execution_count": 18,
      "id": "63dd0eca",
      "metadata": {
        "colab": {
          "base_uri": "https://localhost:8080/",
          "height": 677
        },
        "id": "63dd0eca",
        "outputId": "9dbe4e2c-93bf-4076-88fa-6f212e96856c"
      },
      "outputs": [
        {
          "data": {
            "text/html": [
              "<div>\n",
              "<style scoped>\n",
              "    .dataframe tbody tr th:only-of-type {\n",
              "        vertical-align: middle;\n",
              "    }\n",
              "\n",
              "    .dataframe tbody tr th {\n",
              "        vertical-align: top;\n",
              "    }\n",
              "\n",
              "    .dataframe thead th {\n",
              "        text-align: right;\n",
              "    }\n",
              "</style>\n",
              "<table border=\"1\" class=\"dataframe\">\n",
              "  <thead>\n",
              "    <tr style=\"text-align: right;\">\n",
              "      <th></th>\n",
              "      <th>textID</th>\n",
              "      <th>text</th>\n",
              "      <th>selected_text</th>\n",
              "      <th>sentiment</th>\n",
              "      <th>normalized_text</th>\n",
              "      <th>tokenized_text</th>\n",
              "      <th>stopword_text</th>\n",
              "      <th>lemmetized_text</th>\n",
              "    </tr>\n",
              "  </thead>\n",
              "  <tbody>\n",
              "    <tr>\n",
              "      <th>0</th>\n",
              "      <td>cb774db0d1</td>\n",
              "      <td>I`d have responded, if I were going</td>\n",
              "      <td>I`d have responded, if I were going</td>\n",
              "      <td>neutral</td>\n",
              "      <td>id have responded if i were going</td>\n",
              "      <td>[id, have, responded, if, i, were, going]</td>\n",
              "      <td>[id, responded, going]</td>\n",
              "      <td>[id, respond, go]</td>\n",
              "    </tr>\n",
              "    <tr>\n",
              "      <th>1</th>\n",
              "      <td>549e992a42</td>\n",
              "      <td>Sooo SAD I will miss you here in San Diego!!!</td>\n",
              "      <td>Sooo SAD</td>\n",
              "      <td>negative</td>\n",
              "      <td>sooo sad</td>\n",
              "      <td>[sooo, sad]</td>\n",
              "      <td>[sooo, sad]</td>\n",
              "      <td>[sooo, sad]</td>\n",
              "    </tr>\n",
              "    <tr>\n",
              "      <th>2</th>\n",
              "      <td>088c60f138</td>\n",
              "      <td>my boss is bullying me...</td>\n",
              "      <td>bullying me</td>\n",
              "      <td>negative</td>\n",
              "      <td>bullying me</td>\n",
              "      <td>[bullying, me]</td>\n",
              "      <td>[bullying]</td>\n",
              "      <td>[bullying]</td>\n",
              "    </tr>\n",
              "    <tr>\n",
              "      <th>3</th>\n",
              "      <td>9642c003ef</td>\n",
              "      <td>what interview! leave me alone</td>\n",
              "      <td>leave me alone</td>\n",
              "      <td>negative</td>\n",
              "      <td>leave me alone</td>\n",
              "      <td>[leave, me, alone]</td>\n",
              "      <td>[leave, alone]</td>\n",
              "      <td>[leave, alone]</td>\n",
              "    </tr>\n",
              "    <tr>\n",
              "      <th>4</th>\n",
              "      <td>358bd9e861</td>\n",
              "      <td>Sons of ****, why couldn`t they put them on t...</td>\n",
              "      <td>Sons of ****,</td>\n",
              "      <td>negative</td>\n",
              "      <td>sons of</td>\n",
              "      <td>[sons, of]</td>\n",
              "      <td>[sons]</td>\n",
              "      <td>[son]</td>\n",
              "    </tr>\n",
              "    <tr>\n",
              "      <th>5</th>\n",
              "      <td>28b57f3990</td>\n",
              "      <td>http://www.dothebouncy.com/smf - some shameles...</td>\n",
              "      <td>http://www.dothebouncy.com/smf - some shameles...</td>\n",
              "      <td>neutral</td>\n",
              "      <td>some shameless plugging for the best rangers f...</td>\n",
              "      <td>[some, shameless, plugging, for, the, best, ra...</td>\n",
              "      <td>[shameless, plugging, best, rangers, forum, ea...</td>\n",
              "      <td>[shameless, plug, best, ranger, forum, earth]</td>\n",
              "    </tr>\n",
              "    <tr>\n",
              "      <th>6</th>\n",
              "      <td>6e0c6d75b1</td>\n",
              "      <td>2am feedings for the baby are fun when he is a...</td>\n",
              "      <td>fun</td>\n",
              "      <td>positive</td>\n",
              "      <td>fun</td>\n",
              "      <td>[fun]</td>\n",
              "      <td>[fun]</td>\n",
              "      <td>[fun]</td>\n",
              "    </tr>\n",
              "    <tr>\n",
              "      <th>7</th>\n",
              "      <td>50e14c0bb8</td>\n",
              "      <td>Soooo high</td>\n",
              "      <td>Soooo high</td>\n",
              "      <td>neutral</td>\n",
              "      <td>soooo high</td>\n",
              "      <td>[soooo, high]</td>\n",
              "      <td>[soooo, high]</td>\n",
              "      <td>[soooo, high]</td>\n",
              "    </tr>\n",
              "    <tr>\n",
              "      <th>8</th>\n",
              "      <td>fc2cbefa9d</td>\n",
              "      <td>Journey!? Wow... u just became cooler.  hehe....</td>\n",
              "      <td>Wow... u just became cooler.</td>\n",
              "      <td>positive</td>\n",
              "      <td>wow u just became cooler</td>\n",
              "      <td>[wow, u, just, became, cooler]</td>\n",
              "      <td>[wow, u, became, cooler]</td>\n",
              "      <td>[wow, u, become, cooler]</td>\n",
              "    </tr>\n",
              "    <tr>\n",
              "      <th>9</th>\n",
              "      <td>2339a9b08b</td>\n",
              "      <td>as much as i love to be hopeful, i reckon the...</td>\n",
              "      <td>as much as i love to be hopeful, i reckon the ...</td>\n",
              "      <td>neutral</td>\n",
              "      <td>as much as i love to be hopeful i reckon the c...</td>\n",
              "      <td>[as, much, as, i, love, to, be, hopeful, i, re...</td>\n",
              "      <td>[much, love, hopeful, reckon, chances, minimal...</td>\n",
              "      <td>[much, love, hopeful, reckon, chance, minimal,...</td>\n",
              "    </tr>\n",
              "    <tr>\n",
              "      <th>10</th>\n",
              "      <td>16fab9f95b</td>\n",
              "      <td>I really really like the song Love Story by Ta...</td>\n",
              "      <td>like</td>\n",
              "      <td>positive</td>\n",
              "      <td>like</td>\n",
              "      <td>[like]</td>\n",
              "      <td>[like]</td>\n",
              "      <td>[like]</td>\n",
              "    </tr>\n",
              "    <tr>\n",
              "      <th>11</th>\n",
              "      <td>74a76f6e0a</td>\n",
              "      <td>My Sharpie is running DANGERously low on ink</td>\n",
              "      <td>DANGERously</td>\n",
              "      <td>negative</td>\n",
              "      <td>dangerously</td>\n",
              "      <td>[dangerously]</td>\n",
              "      <td>[dangerously]</td>\n",
              "      <td>[dangerously]</td>\n",
              "    </tr>\n",
              "    <tr>\n",
              "      <th>12</th>\n",
              "      <td>04dd1d2e34</td>\n",
              "      <td>i want to go to music tonight but i lost my vo...</td>\n",
              "      <td>lost</td>\n",
              "      <td>negative</td>\n",
              "      <td>lost</td>\n",
              "      <td>[lost]</td>\n",
              "      <td>[lost]</td>\n",
              "      <td>[lose]</td>\n",
              "    </tr>\n",
              "    <tr>\n",
              "      <th>13</th>\n",
              "      <td>bbe3cbf620</td>\n",
              "      <td>test test from the LG enV2</td>\n",
              "      <td>test test from the LG enV2</td>\n",
              "      <td>neutral</td>\n",
              "      <td>test test from the lg env2</td>\n",
              "      <td>[test, test, from, the, lg, env2]</td>\n",
              "      <td>[test, test, lg, env2]</td>\n",
              "      <td>[test, test, lg, env2]</td>\n",
              "    </tr>\n",
              "    <tr>\n",
              "      <th>14</th>\n",
              "      <td>8a939bfb59</td>\n",
              "      <td>Uh oh, I am sunburned</td>\n",
              "      <td>Uh oh, I am sunburned</td>\n",
              "      <td>negative</td>\n",
              "      <td>uh oh i am sunburned</td>\n",
              "      <td>[uh, oh, i, am, sunburned]</td>\n",
              "      <td>[uh, oh, sunburned]</td>\n",
              "      <td>[uh, oh, sunburn]</td>\n",
              "    </tr>\n",
              "    <tr>\n",
              "      <th>15</th>\n",
              "      <td>3440297f8b</td>\n",
              "      <td>S`ok, trying to plot alternatives as we speak...</td>\n",
              "      <td>*sigh*</td>\n",
              "      <td>negative</td>\n",
              "      <td>sigh</td>\n",
              "      <td>[sigh]</td>\n",
              "      <td>[sigh]</td>\n",
              "      <td>[sigh]</td>\n",
              "    </tr>\n",
              "    <tr>\n",
              "      <th>16</th>\n",
              "      <td>919fa93391</td>\n",
              "      <td>i`ve been sick for the past few days  and thus...</td>\n",
              "      <td>sick</td>\n",
              "      <td>negative</td>\n",
              "      <td>sick</td>\n",
              "      <td>[sick]</td>\n",
              "      <td>[sick]</td>\n",
              "      <td>[sick]</td>\n",
              "    </tr>\n",
              "    <tr>\n",
              "      <th>17</th>\n",
              "      <td>af3fed7fc3</td>\n",
              "      <td>is back home now      gonna miss every one</td>\n",
              "      <td>onna</td>\n",
              "      <td>negative</td>\n",
              "      <td>onna</td>\n",
              "      <td>[onna]</td>\n",
              "      <td>[onna]</td>\n",
              "      <td>[onna]</td>\n",
              "    </tr>\n",
              "    <tr>\n",
              "      <th>18</th>\n",
              "      <td>40e7becabf</td>\n",
              "      <td>Hes just not that into you</td>\n",
              "      <td>Hes just not that into you</td>\n",
              "      <td>neutral</td>\n",
              "      <td>hes just not that into you</td>\n",
              "      <td>[hes, just, not, that, into, you]</td>\n",
              "      <td>[hes]</td>\n",
              "      <td>[he]</td>\n",
              "    </tr>\n",
              "    <tr>\n",
              "      <th>19</th>\n",
              "      <td>04d17ef61e</td>\n",
              "      <td>oh Marly, I`m so sorry!!  I hope you find her...</td>\n",
              "      <td>oh Marly, I`m so sorry!!  I hope you find her ...</td>\n",
              "      <td>neutral</td>\n",
              "      <td>oh marly im so sorry i hope you find her soon 3 3</td>\n",
              "      <td>[oh, marly, im, so, sorry, i, hope, you, find,...</td>\n",
              "      <td>[oh, marly, im, sorry, hope, find, soon, 3, 3]</td>\n",
              "      <td>[oh, marly, im, sorry, hope, find, soon, 3, 3]</td>\n",
              "    </tr>\n",
              "  </tbody>\n",
              "</table>\n",
              "</div>"
            ],
            "text/plain": [
              "        textID                                               text  \\\n",
              "0   cb774db0d1                I`d have responded, if I were going   \n",
              "1   549e992a42      Sooo SAD I will miss you here in San Diego!!!   \n",
              "2   088c60f138                          my boss is bullying me...   \n",
              "3   9642c003ef                     what interview! leave me alone   \n",
              "4   358bd9e861   Sons of ****, why couldn`t they put them on t...   \n",
              "5   28b57f3990  http://www.dothebouncy.com/smf - some shameles...   \n",
              "6   6e0c6d75b1  2am feedings for the baby are fun when he is a...   \n",
              "7   50e14c0bb8                                         Soooo high   \n",
              "8   fc2cbefa9d   Journey!? Wow... u just became cooler.  hehe....   \n",
              "9   2339a9b08b   as much as i love to be hopeful, i reckon the...   \n",
              "10  16fab9f95b  I really really like the song Love Story by Ta...   \n",
              "11  74a76f6e0a       My Sharpie is running DANGERously low on ink   \n",
              "12  04dd1d2e34  i want to go to music tonight but i lost my vo...   \n",
              "13  bbe3cbf620                         test test from the LG enV2   \n",
              "14  8a939bfb59                              Uh oh, I am sunburned   \n",
              "15  3440297f8b   S`ok, trying to plot alternatives as we speak...   \n",
              "16  919fa93391  i`ve been sick for the past few days  and thus...   \n",
              "17  af3fed7fc3         is back home now      gonna miss every one   \n",
              "18  40e7becabf                         Hes just not that into you   \n",
              "19  04d17ef61e   oh Marly, I`m so sorry!!  I hope you find her...   \n",
              "\n",
              "                                        selected_text sentiment  \\\n",
              "0                 I`d have responded, if I were going   neutral   \n",
              "1                                            Sooo SAD  negative   \n",
              "2                                         bullying me  negative   \n",
              "3                                      leave me alone  negative   \n",
              "4                                       Sons of ****,  negative   \n",
              "5   http://www.dothebouncy.com/smf - some shameles...   neutral   \n",
              "6                                                 fun  positive   \n",
              "7                                          Soooo high   neutral   \n",
              "8                        Wow... u just became cooler.  positive   \n",
              "9   as much as i love to be hopeful, i reckon the ...   neutral   \n",
              "10                                               like  positive   \n",
              "11                                        DANGERously  negative   \n",
              "12                                               lost  negative   \n",
              "13                         test test from the LG enV2   neutral   \n",
              "14                              Uh oh, I am sunburned  negative   \n",
              "15                                             *sigh*  negative   \n",
              "16                                               sick  negative   \n",
              "17                                               onna  negative   \n",
              "18                         Hes just not that into you   neutral   \n",
              "19  oh Marly, I`m so sorry!!  I hope you find her ...   neutral   \n",
              "\n",
              "                                      normalized_text  \\\n",
              "0                   id have responded if i were going   \n",
              "1                                            sooo sad   \n",
              "2                                         bullying me   \n",
              "3                                      leave me alone   \n",
              "4                                             sons of   \n",
              "5   some shameless plugging for the best rangers f...   \n",
              "6                                                 fun   \n",
              "7                                          soooo high   \n",
              "8                            wow u just became cooler   \n",
              "9   as much as i love to be hopeful i reckon the c...   \n",
              "10                                               like   \n",
              "11                                        dangerously   \n",
              "12                                               lost   \n",
              "13                         test test from the lg env2   \n",
              "14                               uh oh i am sunburned   \n",
              "15                                               sigh   \n",
              "16                                               sick   \n",
              "17                                               onna   \n",
              "18                         hes just not that into you   \n",
              "19  oh marly im so sorry i hope you find her soon 3 3   \n",
              "\n",
              "                                       tokenized_text  \\\n",
              "0           [id, have, responded, if, i, were, going]   \n",
              "1                                         [sooo, sad]   \n",
              "2                                      [bullying, me]   \n",
              "3                                  [leave, me, alone]   \n",
              "4                                          [sons, of]   \n",
              "5   [some, shameless, plugging, for, the, best, ra...   \n",
              "6                                               [fun]   \n",
              "7                                       [soooo, high]   \n",
              "8                      [wow, u, just, became, cooler]   \n",
              "9   [as, much, as, i, love, to, be, hopeful, i, re...   \n",
              "10                                             [like]   \n",
              "11                                      [dangerously]   \n",
              "12                                             [lost]   \n",
              "13                  [test, test, from, the, lg, env2]   \n",
              "14                         [uh, oh, i, am, sunburned]   \n",
              "15                                             [sigh]   \n",
              "16                                             [sick]   \n",
              "17                                             [onna]   \n",
              "18                  [hes, just, not, that, into, you]   \n",
              "19  [oh, marly, im, so, sorry, i, hope, you, find,...   \n",
              "\n",
              "                                        stopword_text  \\\n",
              "0                              [id, responded, going]   \n",
              "1                                         [sooo, sad]   \n",
              "2                                          [bullying]   \n",
              "3                                      [leave, alone]   \n",
              "4                                              [sons]   \n",
              "5   [shameless, plugging, best, rangers, forum, ea...   \n",
              "6                                               [fun]   \n",
              "7                                       [soooo, high]   \n",
              "8                            [wow, u, became, cooler]   \n",
              "9   [much, love, hopeful, reckon, chances, minimal...   \n",
              "10                                             [like]   \n",
              "11                                      [dangerously]   \n",
              "12                                             [lost]   \n",
              "13                             [test, test, lg, env2]   \n",
              "14                                [uh, oh, sunburned]   \n",
              "15                                             [sigh]   \n",
              "16                                             [sick]   \n",
              "17                                             [onna]   \n",
              "18                                              [hes]   \n",
              "19     [oh, marly, im, sorry, hope, find, soon, 3, 3]   \n",
              "\n",
              "                                      lemmetized_text  \n",
              "0                                   [id, respond, go]  \n",
              "1                                         [sooo, sad]  \n",
              "2                                          [bullying]  \n",
              "3                                      [leave, alone]  \n",
              "4                                               [son]  \n",
              "5       [shameless, plug, best, ranger, forum, earth]  \n",
              "6                                               [fun]  \n",
              "7                                       [soooo, high]  \n",
              "8                            [wow, u, become, cooler]  \n",
              "9   [much, love, hopeful, reckon, chance, minimal,...  \n",
              "10                                             [like]  \n",
              "11                                      [dangerously]  \n",
              "12                                             [lose]  \n",
              "13                             [test, test, lg, env2]  \n",
              "14                                  [uh, oh, sunburn]  \n",
              "15                                             [sigh]  \n",
              "16                                             [sick]  \n",
              "17                                             [onna]  \n",
              "18                                               [he]  \n",
              "19     [oh, marly, im, sorry, hope, find, soon, 3, 3]  "
            ]
          },
          "execution_count": 18,
          "metadata": {},
          "output_type": "execute_result"
        }
      ],
      "source": [
        "df.head(20)"
      ]
    },
    {
      "cell_type": "markdown",
      "id": "4956ef6c",
      "metadata": {
        "id": "4956ef6c"
      },
      "source": [
        "## Feature Engineering"
      ]
    },
    {
      "cell_type": "markdown",
      "id": "a986d080",
      "metadata": {
        "id": "a986d080"
      },
      "source": [
        "### TF-IDF"
      ]
    },
    {
      "cell_type": "code",
      "execution_count": null,
      "id": "3453cca9",
      "metadata": {
        "colab": {
          "base_uri": "https://localhost:8080/"
        },
        "id": "3453cca9",
        "outputId": "70d6fd5f-0ef0-4e73-9f24-7c4c74513b41"
      },
      "outputs": [
        {
          "name": "stdout",
          "output_type": "stream",
          "text": [
            "(27265, 3000)\n"
          ]
        }
      ],
      "source": [
        "from sklearn.feature_extraction.text import TfidfVectorizer\n",
        "\n",
        "df['tfidf_text'] = df['lemmetized_text'].apply(lambda tokens: ' '.join(tokens) if isinstance(tokens, list) else '')\n",
        "\n",
        "# apply TF-IDF vectorization\n",
        "vectorizer = TfidfVectorizer(max_features=3000)  # You can adjust max_features as needed\n",
        "tfidf_matrix = vectorizer.fit_transform(df['tfidf_text'])\n",
        "\n",
        "print(tfidf_matrix.shape)  # (num_samples, num_features)\n"
      ]
    },
    {
      "cell_type": "markdown",
      "id": "e2d2799f",
      "metadata": {
        "id": "e2d2799f"
      },
      "source": [
        "### BERT Embeddings"
      ]
    },
    {
      "cell_type": "code",
      "execution_count": null,
      "id": "5e1b61fb",
      "metadata": {
        "colab": {
          "base_uri": "https://localhost:8080/",
          "height": 353,
          "referenced_widgets": [
            "75dbdf3b1c364c0ea6e45dd8cc279aa3",
            "a1d3c34fa32148fc915e2fe592e65a92",
            "e573f0f9d4964aa0b38058fae25a8d0f",
            "bc502f2cdd904e75bc07aac6075c7fb9",
            "328fca513ebd408a9c68f5bf9093e84a",
            "5475da778b7041bb837b8d0374e86a10",
            "f404ecbc62d5475aa1a8011f340b771d",
            "be0cdd3d34384231a910007658ae23c9",
            "a46273b93c5e43efbc1fdeaa7342a9a7",
            "74720f78f0ed4bb19a17a5f137f8340d",
            "c7dd84b98be341dabe76b2e07cb5502f",
            "c3cd2b15afb14180b2fe60d03a7fe724",
            "981c324ae3c1437c870af907b76387ab",
            "c92590a52c544d8c97c9ae1b6f5d1ef0",
            "50707f76920e45a6ad13ca5c97af6ba5",
            "50bcf5cc0af7496d9d4025e3fed75696",
            "adbe09b578944bdd83a0788ff66dd458",
            "5a618c3451f54bd8bd7aee5a36ecb24d",
            "5753386f6fcc4c6185cc1917db6c7ef9",
            "e5fd812edf244c989bb49da95dbbf238",
            "c451fe4a79d841588ec7b0d81e5ca5b5",
            "5c2ad872a2594ec395e7d9e2513f937d",
            "7feff08181a04b95965228a29105856c",
            "d584e225def84f2b964bc63e946ea20f",
            "e82555ae169c4b9183121a932bf12a7c",
            "5c6682af4c05420481b93630aa22fa92",
            "3339241a3b734158abad0bd626b4bd5e",
            "269bc36984ec4a28b32e0e95ec3077f0",
            "a43a0115e0f64619bfb1aa4306eacd1f",
            "ce41298f42d244c78e6b87101070d6ad",
            "b5c127a41392406f9dbaf5fb63fcd3c2",
            "77ca034df4e64b3eaf485ad033a74802",
            "5d75625eccb449a6802e81554fbd128c",
            "1ec755ecd26d4b30854924a94dfe9c18",
            "ad7822307e5f4b17976a7c19dada81fd",
            "e6a804e07a124cd293bbe4e9499ea54e",
            "4213f64738e349728aaf19cd9c4f796f",
            "dab1cd67c0524c09a573dd800b5c063d",
            "3b436fccf3a744749ce71cc08e8afedb",
            "e712ff2885e04d7ca7fbd1391897d90c",
            "66021b4bc3164eb58d9b26e845fdca4c",
            "a2e4ecd8f0364f1eaa2ea9cc036390b0",
            "d8ac78f4646e4e0f87f5a3989a75547f",
            "39b9a11bec5846f3be26625082f368eb",
            "f1fcd0dea4f745249bf1a9030a3bedfd",
            "9a053783fabc4fa7818019a3b9d3f340",
            "afd0297953e041a49c4d7a7fc340988c",
            "d14a276ce5b844b9ada0ba952c7caef9",
            "3fd6e187c6d540f5a708a76f10ea8e6c",
            "bda41741306a44c9ad4fd2bdca851b27",
            "61b17fb1e6f7467fa9f360b027e2f9c2",
            "835f74a76c564f649cee31a775f2ffad",
            "36e48b9da49b491e9793f04f80a81c0f",
            "106ea81e51ff4c67b04ca6986070ad3d",
            "2a94ec45877545de9c1fcd503b93918d"
          ]
        },
        "id": "5e1b61fb",
        "outputId": "6626c6d8-541c-4cbc-bd4f-b5fb00cbdd41"
      },
      "outputs": [
        {
          "name": "stderr",
          "output_type": "stream",
          "text": [
            "100%|██████████| 2000/2000 [00:42<00:00, 47.44it/s]\n"
          ]
        }
      ],
      "source": [
        "from transformers import DistilBertTokenizer, DistilBertModel\n",
        "import torch\n",
        "from tqdm import tqdm\n",
        "import numpy as np\n",
        "\n",
        "# Load tokenizer and model\n",
        "tokenizer = DistilBertTokenizer.from_pretrained('distilbert-base-uncased')\n",
        "model = DistilBertModel.from_pretrained('distilbert-base-uncased')\n",
        "\n",
        "\n",
        "def get_distilbert_embedding(text):\n",
        "    # Tokenize input\n",
        "    inputs = tokenizer(text, return_tensors=\"pt\", truncation=True, padding=True, max_length=512)\n",
        "\n",
        "    # Get embeddings\n",
        "    with torch.no_grad():\n",
        "        outputs = model(**inputs)\n",
        "\n",
        "    # Use the [CLS]-like representation (first token)\n",
        "    return outputs.last_hidden_state[:, 0, :].squeeze().numpy()\n",
        "\n",
        "texts = df['selected_text'].fillna('').tolist()[:2000]\n",
        "distilbert_embeddings = []\n",
        "\n",
        "for text in tqdm(texts): \n",
        "    vec = get_distilbert_embedding(text)\n",
        "    distilbert_embeddings.append(vec)\n",
        "\n",
        "# Convert to array\n",
        "X_distil = np.array(distilbert_embeddings)\n"
      ]
    },
    {
      "cell_type": "markdown",
      "id": "f81a8810",
      "metadata": {
        "id": "f81a8810"
      },
      "source": [
        "### Dependency-Based Parsing"
      ]
    },
    {
      "cell_type": "code",
      "execution_count": 21,
      "id": "0a7cdc5c",
      "metadata": {
        "colab": {
          "base_uri": "https://localhost:8080/"
        },
        "id": "0a7cdc5c",
        "outputId": "a17d8d69-2bc6-465d-f7c9-c884452a2e66"
      },
      "outputs": [
        {
          "name": "stdout",
          "output_type": "stream",
          "text": [
            "\n",
            "Dependency parsing for sentence 1:\n",
            "\n",
            "Token           | POS        | Dependency   | Head            | Children\n",
            "-------------------------------------------------------------------------------------\n",
            "I`d             | PROPN      | nsubj        | responded       | [' ']\n",
            "have            | AUX        | aux          | responded       | []\n",
            "responded       | VERB       | ROOT         | responded       | ['I`d', 'have', ',', 'going']\n",
            ",               | PUNCT      | punct        | responded       | []\n",
            "if              | SCONJ      | mark         | going           | []\n",
            "I               | PRON       | nsubj        | going           | []\n",
            "were            | AUX        | aux          | going           | []\n",
            "going           | VERB       | advcl        | responded       | ['if', 'I', 'were']\n",
            "\n",
            "Dependency parsing for sentence 2:\n",
            "\n",
            "Token           | POS        | Dependency   | Head            | Children\n",
            "-------------------------------------------------------------------------------------\n",
            "Sooo            | PROPN      | compound     | SAD             | [' ']\n",
            "SAD             | PROPN      | npadvmod     | miss            | ['Sooo']\n",
            "I               | PRON       | nsubj        | miss            | []\n",
            "will            | AUX        | aux          | miss            | []\n",
            "miss            | VERB       | ROOT         | miss            | ['SAD', 'I', 'will', 'you', 'here', 'in', '!', '!', '!']\n",
            "you             | PRON       | dobj         | miss            | []\n",
            "here            | ADV        | advmod       | miss            | []\n",
            "in              | ADP        | prep         | miss            | ['Diego']\n",
            "San             | PROPN      | compound     | Diego           | []\n",
            "Diego           | PROPN      | pobj         | in              | ['San']\n",
            "!               | PUNCT      | punct        | miss            | []\n",
            "!               | PUNCT      | punct        | miss            | []\n",
            "!               | PUNCT      | punct        | miss            | []\n",
            "\n",
            "Dependency parsing for sentence 3:\n",
            "\n",
            "Token           | POS        | Dependency   | Head            | Children\n",
            "-------------------------------------------------------------------------------------\n",
            "my              | PRON       | poss         | boss            | []\n",
            "boss            | NOUN       | nsubj        | bullying        | ['my']\n",
            "is              | AUX        | aux          | bullying        | []\n",
            "bullying        | VERB       | ROOT         | bullying        | ['boss', 'is', 'me', '...']\n",
            "me              | PRON       | dobj         | bullying        | []\n",
            "...             | PUNCT      | punct        | bullying        | []\n",
            "\n",
            "Dependency parsing for sentence 4:\n",
            "\n",
            "Token           | POS        | Dependency   | Head            | Children\n",
            "-------------------------------------------------------------------------------------\n",
            "what            | DET        | det          | interview       | [' ']\n",
            "interview       | NOUN       | ROOT         | interview       | ['what', '!']\n",
            "!               | PUNCT      | punct        | interview       | []\n",
            "leave           | VERB       | ROOT         | leave           | ['me', 'alone']\n",
            "me              | PRON       | dobj         | leave           | []\n",
            "alone           | ADV        | advmod       | leave           | []\n",
            "\n",
            "Dependency parsing for sentence 5:\n",
            "\n",
            "Token           | POS        | Dependency   | Head            | Children\n",
            "-------------------------------------------------------------------------------------\n",
            "Sons            | NOUN       | npadvmod     | put             | [' ', 'of']\n",
            "of              | ADP        | prep         | Sons            | ['*', '*', '*', '*']\n",
            "*               | NUM        | pobj         | of              | []\n",
            "*               | PUNCT      | pobj         | of              | []\n",
            "*               | PUNCT      | pobj         | of              | []\n",
            "*               | NOUN       | pobj         | of              | []\n",
            ",               | PUNCT      | punct        | put             | []\n",
            "why             | SCONJ      | advmod       | put             | []\n",
            "couldn`t        | PUNCT      | punct        | put             | []\n",
            "they            | PRON       | nsubj        | put             | []\n",
            "put             | VERB       | ROOT         | put             | ['Sons', ',', 'why', 'couldn`t', 'they', 'them', 'on']\n",
            "them            | PRON       | dobj         | put             | []\n",
            "on              | ADP        | prep         | put             | ['releases']\n",
            "the             | DET        | det          | releases        | []\n",
            "releases        | NOUN       | pobj         | on              | ['the', 'bought']\n",
            "we              | PRON       | nsubj        | bought          | []\n",
            "already         | ADV        | advmod       | bought          | []\n",
            "bought          | VERB       | relcl        | releases        | ['we', 'already']\n"
          ]
        }
      ],
      "source": [
        "import spacy\n",
        "\n",
        "# Load SpaCy English model\n",
        "nlp = spacy.load(\"en_core_web_sm\")\n",
        "\n",
        "# Process first 5 texts and print dependencies\n",
        "for i, text in enumerate(df['text'].head(5)):\n",
        "    print(f\"\\nDependency parsing for sentence {i+1}:\\n\")\n",
        "    print(f\"{'Token':<15} | {'POS':<10} | {'Dependency':<12} | {'Head':<15} | Children\")\n",
        "    print(\"-\" * 85)\n",
        "\n",
        "    doc = nlp(text)\n",
        "    for token in doc:\n",
        "        if token.text.strip():\n",
        "                children = [child.text for child in token.children]\n",
        "                print(f\"{token.text:<15} | {token.pos_:<10} | {token.dep_:<12} | {token.head.text:<15} | {children}\")\n"
      ]
    },
    {
      "cell_type": "markdown",
      "id": "a9e17ce5",
      "metadata": {
        "id": "a9e17ce5"
      },
      "source": [
        "# Model Development and Evaluation"
      ]
    },
    {
      "cell_type": "markdown",
      "id": "97e58ece",
      "metadata": {
        "id": "97e58ece"
      },
      "source": [
        "## Traditional ML Model"
      ]
    },
    {
      "cell_type": "markdown",
      "id": "WrZNvbP7QKqA",
      "metadata": {
        "id": "WrZNvbP7QKqA"
      },
      "source": [
        "### Setup For All Models"
      ]
    },
    {
      "cell_type": "code",
      "execution_count": null,
      "id": "5S6NyiyVQNyb",
      "metadata": {
        "id": "5S6NyiyVQNyb"
      },
      "outputs": [
        {
          "name": "stdout",
          "output_type": "stream",
          "text": [
            "✅ Dataset ready: 2400 train, 600 test\n"
          ]
        },
        {
          "name": "stderr",
          "output_type": "stream",
          "text": [
            "C:\\Users\\user\\AppData\\Local\\Temp\\ipykernel_10936\\2508202686.py:13: DeprecationWarning: DataFrameGroupBy.apply operated on the grouping columns. This behavior is deprecated, and in a future version of pandas the grouping columns will be excluded from the operation. Either pass `include_groups=False` to exclude the groupings or explicitly select the grouping columns after groupby to silence this warning.\n",
            "  sampled_df = df.groupby('label', group_keys=False).apply(lambda x: x.sample(n=n_per_class, random_state=42))\n"
          ]
        }
      ],
      "source": [
        "from sklearn.model_selection import train_test_split, GridSearchCV\n",
        "from sklearn.metrics import classification_report, confusion_matrix, ConfusionMatrixDisplay\n",
        "from sklearn.linear_model import LogisticRegression\n",
        "from sklearn.svm import SVC\n",
        "from sklearn.ensemble import RandomForestClassifier\n",
        "import matplotlib.pyplot as plt\n",
        "\n",
        "# Step 1: Map sentiment to label\n",
        "df['label'] = df['sentiment'].map({'negative': 0, 'neutral': 1, 'positive': 2})\n",
        "\n",
        "# Step 2: Sample 3000 rows with class balance (1000 per class if 3 classes)\n",
        "n_per_class = 1000\n",
        "sampled_df = df.groupby('label', group_keys=False).apply(lambda x: x.sample(n=n_per_class, random_state=42))\n",
        "\n",
        "# Step 3: Slice TF-IDF matrix to match sample\n",
        "X_sample = tfidf_matrix[sampled_df.index]\n",
        "y_sample = sampled_df['label']\n",
        "\n",
        "# Step 4: Train/test split\n",
        "X_train, X_test, y_train, y_test = train_test_split(\n",
        "    X_sample, y_sample, test_size=0.2, stratify=y_sample, random_state=42\n",
        ")\n",
        "\n",
        "print(f\"Dataset ready: {len(y_train)} train, {len(y_test)} test\")"
      ]
    },
    {
      "cell_type": "markdown",
      "id": "j6F1KyccBcD9",
      "metadata": {
        "id": "j6F1KyccBcD9"
      },
      "source": [
        "### Logistic Regression with Hyperparameter Tuning (GridSearchCV)"
      ]
    },
    {
      "cell_type": "code",
      "execution_count": 54,
      "id": "1e3e970d",
      "metadata": {},
      "outputs": [],
      "source": [
        "from tabulate import tabulate"
      ]
    },
    {
      "cell_type": "code",
      "execution_count": 92,
      "id": "07265420",
      "metadata": {
        "colab": {
          "base_uri": "https://localhost:8080/",
          "height": 373
        },
        "id": "07265420",
        "outputId": "c1338f99-e546-4ad6-8dd7-c2043610a57e"
      },
      "outputs": [
        {
          "name": "stdout",
          "output_type": "stream",
          "text": [
            "Fitting 3 folds for each of 16 candidates, totalling 48 fits\n",
            "Best Logistic Regression params: {'C': 1, 'max_iter': 500, 'penalty': 'l2', 'solver': 'lbfgs'}\n",
            "Logistic Regression Classification Report\n",
            "              precision    recall  f1-score   support\n",
            "\n",
            "    Negative       0.71      0.73      0.72       200\n",
            "     Neutral       0.68      0.70      0.69       200\n",
            "    Positive       0.81      0.76      0.78       200\n",
            "\n",
            "    accuracy                           0.73       600\n",
            "   macro avg       0.73      0.73      0.73       600\n",
            "weighted avg       0.73      0.73      0.73       600\n",
            "\n",
            "+----+----------------------------------------------------------------------------------------------------------------+--------------------+-----------------------+\n",
            "|    | Tweet                                                                                                          |   Actual Sentiment |   Predicted Sentiment |\n",
            "|----+----------------------------------------------------------------------------------------------------------------+--------------------+-----------------------|\n",
            "|  0 | LOL I love my MacBook too. Oh and my iMac. Can`t decide which I love more. OK 24' iMac trumps 13' MacBook      |                  2 |                     2 |\n",
            "|  1 | thanks  i have to finish schoolwork today, no rehearsal tonight though. what ru doing?                         |                  2 |                     2 |\n",
            "|  2 | _Laurie my thoughts rae with you and your family                                                               |                  1 |                     1 |\n",
            "|  3 | I Miss Daddy and Mommy                                                                                         |                  0 |                     0 |\n",
            "|  4 | he so is! <3 hence, my new forum signature!                                                                    |                  2 |                     0 |\n",
            "|  5 | excited to see my cousins this week.                                                                           |                  2 |                     2 |\n",
            "|  6 | G*morning! Rain, rain and more rain.. ! But I don`t care so much                                               |                  0 |                     0 |\n",
            "|  7 | Hey! How u feeling? I know Charla hit me to see there were any places she can go..too young  Did she have fun? |                  1 |                     1 |\n",
            "|  8 | mum`s day - ended up being happy  not that it`s my day or anything....                                         |                  2 |                     2 |\n",
            "|  9 | Cuba trip booked                                                                                               |                  1 |                     2 |\n",
            "| 10 | Smackdown is a lot more boring without Maria.                                                                  |                  0 |                     0 |\n",
            "| 11 | hope y`all enjoy the MusicBoat Cruise.  What a tough job - haha!!!                                             |                  1 |                     2 |\n",
            "| 12 | and  great seein you guys today!!! you look so happy  love it!! lets hang out soon!! love yall!                |                  2 |                     0 |\n",
            "| 13 | Woke up late & trying to get **** done before work                                                             |                  0 |                     1 |\n",
            "| 14 | Last free Friday.                                                                                              |                  0 |                     1 |\n",
            "| 15 | ohh i would def give it 2 u but tht was kenyatta`s cam not mine  sry but i want tht pic 2                      |                  0 |                     0 |\n",
            "| 16 | They took my property                                                                                          |                  0 |                     1 |\n",
            "| 17 | A Happy Mother`s Day to all moms and soon to be mom`s out there.                                               |                  2 |                     2 |\n",
            "| 18 | PRD take a long time to review!                                                                                |                  1 |                     1 |\n",
            "| 19 | _R_Roberts I LOOK forward to seeing and sharing                                                                |                  2 |                     0 |\n",
            "+----+----------------------------------------------------------------------------------------------------------------+--------------------+-----------------------+\n"
          ]
        },
        {
          "name": "stderr",
          "output_type": "stream",
          "text": [
            "d:\\anaconda\\envs\\airfrance_nlp\\Lib\\site-packages\\sklearn\\linear_model\\_logistic.py:1247: FutureWarning: 'multi_class' was deprecated in version 1.5 and will be removed in 1.7. From then on, it will always use 'multinomial'. Leave it to its default value to avoid this warning.\n",
            "  warnings.warn(\n"
          ]
        }
      ],
      "source": [
        "# Hyperparameter grid\n",
        "param_grid_logreg = {\n",
        "    'C': [0.01, 0.1, 1, 10],\n",
        "    'penalty': ['l2'],\n",
        "    'solver': ['lbfgs', 'saga'],\n",
        "    'max_iter': [500, 1000]\n",
        "}\n",
        "\n",
        "# Grid search\n",
        "grid_logreg = GridSearchCV(LogisticRegression(multi_class='multinomial'), param_grid_logreg, cv=3, scoring='f1_macro', n_jobs=-1, verbose=1)\n",
        "grid_logreg.fit(X_train, y_train)\n",
        "\n",
        "# Results\n",
        "best_logreg = grid_logreg.best_estimator_\n",
        "print(f\"Best Logistic Regression params: {grid_logreg.best_params_}\")\n",
        "y_pred_log = best_logreg.predict(X_test)\n",
        "print(\"Logistic Regression Classification Report\")\n",
        "print(classification_report(y_test, y_pred_log, target_names=['Negative', 'Neutral', 'Positive']))\n",
        "\n",
        "# Combine into DataFrame: Actual vs Predicted\n",
        "# Get the original tweet text for the test set\n",
        "test_tweets = sampled_df.loc[y_test.index, 'text'].values\n",
        "\n",
        "results_df = pd.DataFrame({\n",
        "    'Tweet': test_tweets,\n",
        "    'Actual Sentiment': y_test.values,\n",
        "    'Predicted Sentiment': y_pred_log,\n",
        "})\n",
        "\n",
        "print(tabulate(results_df.head(20), headers='keys', tablefmt='psql'))\n"
      ]
    },
    {
      "cell_type": "markdown",
      "id": "8UJAkWX2BXT9",
      "metadata": {
        "id": "8UJAkWX2BXT9"
      },
      "source": [
        "### Support Vector Machine (SVM) with Hyperparameter tuning GridSearchCV"
      ]
    },
    {
      "cell_type": "code",
      "execution_count": 91,
      "id": "bXNoGvwXBm4a",
      "metadata": {
        "colab": {
          "base_uri": "https://localhost:8080/",
          "height": 698
        },
        "id": "bXNoGvwXBm4a",
        "outputId": "a195a042-b810-43ad-a031-bce7bb998134"
      },
      "outputs": [
        {
          "name": "stdout",
          "output_type": "stream",
          "text": [
            "Fitting 3 folds for each of 12 candidates, totalling 36 fits\n",
            "Best SVM parameters: {'C': 1, 'gamma': 'scale', 'kernel': 'linear'}\n",
            "SVM Classification Report\n",
            "              precision    recall  f1-score   support\n",
            "\n",
            "    Negative       0.72      0.73      0.72       200\n",
            "     Neutral       0.69      0.70      0.70       200\n",
            "    Positive       0.81      0.78      0.79       200\n",
            "\n",
            "    accuracy                           0.74       600\n",
            "   macro avg       0.74      0.74      0.74       600\n",
            "weighted avg       0.74      0.74      0.74       600\n",
            "\n",
            "+----+----------------------------------------------------------------------------------------------------------------+--------------------+-----------------------+\n",
            "|    | Tweet                                                                                                          |   Actual Sentiment |   Predicted Sentiment |\n",
            "|----+----------------------------------------------------------------------------------------------------------------+--------------------+-----------------------|\n",
            "|  0 | LOL I love my MacBook too. Oh and my iMac. Can`t decide which I love more. OK 24' iMac trumps 13' MacBook      |                  2 |                     2 |\n",
            "|  1 | thanks  i have to finish schoolwork today, no rehearsal tonight though. what ru doing?                         |                  2 |                     2 |\n",
            "|  2 | _Laurie my thoughts rae with you and your family                                                               |                  1 |                     1 |\n",
            "|  3 | I Miss Daddy and Mommy                                                                                         |                  0 |                     0 |\n",
            "|  4 | he so is! <3 hence, my new forum signature!                                                                    |                  2 |                     0 |\n",
            "|  5 | excited to see my cousins this week.                                                                           |                  2 |                     2 |\n",
            "|  6 | G*morning! Rain, rain and more rain.. ! But I don`t care so much                                               |                  0 |                     1 |\n",
            "|  7 | Hey! How u feeling? I know Charla hit me to see there were any places she can go..too young  Did she have fun? |                  1 |                     1 |\n",
            "|  8 | mum`s day - ended up being happy  not that it`s my day or anything....                                         |                  2 |                     2 |\n",
            "|  9 | Cuba trip booked                                                                                               |                  1 |                     2 |\n",
            "| 10 | Smackdown is a lot more boring without Maria.                                                                  |                  0 |                     0 |\n",
            "| 11 | hope y`all enjoy the MusicBoat Cruise.  What a tough job - haha!!!                                             |                  1 |                     2 |\n",
            "| 12 | and  great seein you guys today!!! you look so happy  love it!! lets hang out soon!! love yall!                |                  2 |                     0 |\n",
            "| 13 | Woke up late & trying to get **** done before work                                                             |                  0 |                     1 |\n",
            "| 14 | Last free Friday.                                                                                              |                  0 |                     1 |\n",
            "| 15 | ohh i would def give it 2 u but tht was kenyatta`s cam not mine  sry but i want tht pic 2                      |                  0 |                     0 |\n",
            "| 16 | They took my property                                                                                          |                  0 |                     1 |\n",
            "| 17 | A Happy Mother`s Day to all moms and soon to be mom`s out there.                                               |                  2 |                     2 |\n",
            "| 18 | PRD take a long time to review!                                                                                |                  1 |                     1 |\n",
            "| 19 | _R_Roberts I LOOK forward to seeing and sharing                                                                |                  2 |                     2 |\n",
            "+----+----------------------------------------------------------------------------------------------------------------+--------------------+-----------------------+\n"
          ]
        }
      ],
      "source": [
        "# Hyperparameter grid\n",
        "svm_params = {\n",
        "    'C': [0.1, 1, 10],\n",
        "    'kernel': ['linear', 'rbf'],\n",
        "    'gamma': ['scale', 'auto']\n",
        "}\n",
        "\n",
        "# Grid search\n",
        "svm_grid = GridSearchCV(SVC(probability=True), svm_params, cv=3, scoring='f1_macro', n_jobs=-1, verbose=1)\n",
        "svm_grid.fit(X_train, y_train)\n",
        "\n",
        "# Results\n",
        "svm_best = svm_grid.best_estimator_\n",
        "print(f\"Best SVM parameters: {svm_grid.best_params_}\")\n",
        "y_pred_svm = svm_best.predict(X_test)\n",
        "print(\"SVM Classification Report\")\n",
        "print(classification_report(y_test, y_pred_svm, target_names=['Negative', 'Neutral', 'Positive']))\n",
        "\n",
        "# Combine into DataFrame: Actual vs Predicted\n",
        "# Get the original tweet text for the test set\n",
        "test_tweets = sampled_df.loc[y_test.index, 'text'].values\n",
        "\n",
        "results_df = pd.DataFrame({\n",
        "    'Tweet': test_tweets,\n",
        "    'Actual Sentiment': y_test.values,\n",
        "    'Predicted Sentiment': y_pred_svm\n",
        "})\n",
        "\n",
        "print(tabulate(results_df.head(20), headers='keys', tablefmt='psql'))\n",
        "\n"
      ]
    },
    {
      "cell_type": "markdown",
      "id": "aGU7nrukBqRW",
      "metadata": {
        "id": "aGU7nrukBqRW"
      },
      "source": [
        "### Random Forest Classifier with Hyperparameter Tuning GridSearchCV"
      ]
    },
    {
      "cell_type": "code",
      "execution_count": 90,
      "id": "_x70wymkBuV8",
      "metadata": {
        "colab": {
          "base_uri": "https://localhost:8080/",
          "height": 698
        },
        "id": "_x70wymkBuV8",
        "outputId": "1dd81c73-45fc-4a36-f28d-d85dd0d6fe7a"
      },
      "outputs": [
        {
          "name": "stdout",
          "output_type": "stream",
          "text": [
            "Fitting 3 folds for each of 24 candidates, totalling 72 fits\n",
            "Best Random Forest parameters: {'max_depth': None, 'min_samples_leaf': 1, 'min_samples_split': 5, 'n_estimators': 100}\n",
            "Random Forest Classification Report\n",
            "              precision    recall  f1-score   support\n",
            "\n",
            "    Negative       0.69      0.79      0.74       200\n",
            "     Neutral       0.73      0.70      0.72       200\n",
            "    Positive       0.83      0.75      0.79       200\n",
            "\n",
            "    accuracy                           0.75       600\n",
            "   macro avg       0.75      0.75      0.75       600\n",
            "weighted avg       0.75      0.75      0.75       600\n",
            "\n",
            "+----+----------------------------------------------------------------------------------------------------------------+--------------------+-----------------------+\n",
            "|    | Tweet                                                                                                          |   Actual Sentiment |   Predicted Sentiment |\n",
            "|----+----------------------------------------------------------------------------------------------------------------+--------------------+-----------------------|\n",
            "|  0 | LOL I love my MacBook too. Oh and my iMac. Can`t decide which I love more. OK 24' iMac trumps 13' MacBook      |                  2 |                     2 |\n",
            "|  1 | thanks  i have to finish schoolwork today, no rehearsal tonight though. what ru doing?                         |                  2 |                     2 |\n",
            "|  2 | _Laurie my thoughts rae with you and your family                                                               |                  1 |                     0 |\n",
            "|  3 | I Miss Daddy and Mommy                                                                                         |                  0 |                     0 |\n",
            "|  4 | he so is! <3 hence, my new forum signature!                                                                    |                  2 |                     0 |\n",
            "|  5 | excited to see my cousins this week.                                                                           |                  2 |                     2 |\n",
            "|  6 | G*morning! Rain, rain and more rain.. ! But I don`t care so much                                               |                  0 |                     0 |\n",
            "|  7 | Hey! How u feeling? I know Charla hit me to see there were any places she can go..too young  Did she have fun? |                  1 |                     1 |\n",
            "|  8 | mum`s day - ended up being happy  not that it`s my day or anything....                                         |                  2 |                     2 |\n",
            "|  9 | Cuba trip booked                                                                                               |                  1 |                     0 |\n",
            "| 10 | Smackdown is a lot more boring without Maria.                                                                  |                  0 |                     0 |\n",
            "| 11 | hope y`all enjoy the MusicBoat Cruise.  What a tough job - haha!!!                                             |                  1 |                     2 |\n",
            "| 12 | and  great seein you guys today!!! you look so happy  love it!! lets hang out soon!! love yall!                |                  2 |                     0 |\n",
            "| 13 | Woke up late & trying to get **** done before work                                                             |                  0 |                     1 |\n",
            "| 14 | Last free Friday.                                                                                              |                  0 |                     1 |\n",
            "| 15 | ohh i would def give it 2 u but tht was kenyatta`s cam not mine  sry but i want tht pic 2                      |                  0 |                     0 |\n",
            "| 16 | They took my property                                                                                          |                  0 |                     1 |\n",
            "| 17 | A Happy Mother`s Day to all moms and soon to be mom`s out there.                                               |                  2 |                     2 |\n",
            "| 18 | PRD take a long time to review!                                                                                |                  1 |                     1 |\n",
            "| 19 | _R_Roberts I LOOK forward to seeing and sharing                                                                |                  2 |                     2 |\n",
            "+----+----------------------------------------------------------------------------------------------------------------+--------------------+-----------------------+\n"
          ]
        }
      ],
      "source": [
        "# Hyperparameter grid\n",
        "rf_params = {\n",
        "    'n_estimators': [100, 200],\n",
        "    'max_depth': [None, 10, 20],\n",
        "    'min_samples_split': [2, 5],\n",
        "    'min_samples_leaf': [1, 2]\n",
        "}\n",
        "\n",
        "# Grid search\n",
        "rf_grid = GridSearchCV(RandomForestClassifier(random_state=42), rf_params, cv=3, scoring='f1_macro', n_jobs=-1, verbose=1)\n",
        "rf_grid.fit(X_train, y_train)\n",
        "\n",
        "# Results\n",
        "rf_best = rf_grid.best_estimator_\n",
        "print(f\"Best Random Forest parameters: {rf_grid.best_params_}\")\n",
        "y_pred_rf = rf_best.predict(X_test)\n",
        "print(\"Random Forest Classification Report\")\n",
        "print(classification_report(y_test, y_pred_rf, target_names=['Negative', 'Neutral', 'Positive']))\n",
        "\n",
        "results_df = pd.DataFrame({\n",
        "    'Tweet': test_tweets,\n",
        "    'Actual Sentiment': y_test.values,\n",
        "    'Predicted Sentiment': y_pred_rf\n",
        "})\n",
        "\n",
        "print(tabulate(results_df.head(20), headers='keys', tablefmt='psql'))\n"
      ]
    },
    {
      "cell_type": "markdown",
      "id": "a1489e22",
      "metadata": {},
      "source": [
        "## Transformers Model"
      ]
    },
    {
      "cell_type": "markdown",
      "id": "ac8548d3",
      "metadata": {
        "id": "ac8548d3"
      },
      "source": [
        "### Transformer -> Fine-Tune DistilBERT for Sentiment Classification with hyperparameter tuning"
      ]
    },
    {
      "cell_type": "code",
      "execution_count": null,
      "id": "338a7069",
      "metadata": {},
      "outputs": [
        {
          "name": "stderr",
          "output_type": "stream",
          "text": [
            "d:\\anaconda\\envs\\airfrance_nlp\\Lib\\site-packages\\huggingface_hub\\file_download.py:943: FutureWarning: `resume_download` is deprecated and will be removed in version 1.0.0. Downloads always resume when possible. If you want to force a new download, use `force_download=True`.\n",
            "  warnings.warn(\n"
          ]
        },
        {
          "name": "stdout",
          "output_type": "stream",
          "text": [
            "✅ Dataset ready: 2400 train, 600 test\n"
          ]
        }
      ],
      "source": [
        "from sklearn.model_selection import train_test_split\n",
        "import pandas as pd\n",
        "import torch\n",
        "from transformers import DistilBertTokenizer\n",
        "\n",
        "# Limit to first 3000 rows with non-null text and valid sentiment\n",
        "df_limited = df[['selected_text', 'sentiment']].dropna().copy()\n",
        "df_limited = df_limited[df_limited['sentiment'].isin(['positive', 'neutral', 'negative'])].iloc[:3000]\n",
        "\n",
        "# Map sentiment to labels\n",
        "df_limited['label'] = df_limited['sentiment'].map({'negative': 0, 'neutral': 1, 'positive': 2})\n",
        "\n",
        "# Split\n",
        "train_texts, test_texts, train_labels, test_labels = train_test_split(\n",
        "    df_limited['selected_text'].tolist(),\n",
        "    df_limited['label'].tolist(),\n",
        "    test_size=0.2,\n",
        "    stratify=df_limited['label'],\n",
        "    random_state=42\n",
        ")\n",
        "\n",
        "# Tokenize\n",
        "tokenizer = DistilBertTokenizer.from_pretrained('distilbert-base-uncased')\n",
        "train_encodings = tokenizer(train_texts, truncation=True, padding=True, max_length=512)\n",
        "test_encodings = tokenizer(test_texts, truncation=True, padding=True, max_length=512)\n",
        "\n",
        "# Dataset class\n",
        "class SentimentDataset(torch.utils.data.Dataset):\n",
        "    def __init__(self, encodings, labels):\n",
        "        self.encodings = encodings\n",
        "        self.labels = labels\n",
        "    def __getitem__(self, idx):\n",
        "        return {key: torch.tensor(val[idx]) for key, val in self.encodings.items()} | {'labels': torch.tensor(self.labels[idx])}\n",
        "    def __len__(self):\n",
        "        return len(self.labels)\n",
        "\n",
        "train_dataset = SentimentDataset(train_encodings, train_labels)\n",
        "test_dataset = SentimentDataset(test_encodings, test_labels)\n",
        "\n",
        "print(f\"Dataset ready: {len(train_dataset)} train, {len(test_dataset)} test\")\n"
      ]
    },
    {
      "cell_type": "code",
      "execution_count": null,
      "id": "2c274a7e",
      "metadata": {},
      "outputs": [
        {
          "name": "stderr",
          "output_type": "stream",
          "text": [
            "Some weights of DistilBertForSequenceClassification were not initialized from the model checkpoint at distilbert-base-uncased and are newly initialized: ['classifier.bias', 'classifier.weight', 'pre_classifier.bias', 'pre_classifier.weight']\n",
            "You should probably TRAIN this model on a down-stream task to be able to use it for predictions and inference.\n",
            "  0%|          | 0/450 [00:00<?, ?it/s]d:\\anaconda\\envs\\airfrance_nlp\\Lib\\site-packages\\torch\\utils\\data\\dataloader.py:665: UserWarning: 'pin_memory' argument is set as true but no accelerator is found, then device pinned memory won't be used.\n",
            "  warnings.warn(warn_msg)\n",
            "  1%|          | 5/450 [00:08<12:50,  1.73s/it]"
          ]
        },
        {
          "name": "stdout",
          "output_type": "stream",
          "text": [
            "{'loss': 1.0531, 'learning_rate': 4.9444444444444446e-05, 'epoch': 0.03}\n"
          ]
        },
        {
          "name": "stderr",
          "output_type": "stream",
          "text": [
            "  2%|▏         | 10/450 [00:17<12:47,  1.74s/it]"
          ]
        },
        {
          "name": "stdout",
          "output_type": "stream",
          "text": [
            "{'loss': 0.969, 'learning_rate': 4.888888888888889e-05, 'epoch': 0.07}\n"
          ]
        },
        {
          "name": "stderr",
          "output_type": "stream",
          "text": [
            "  3%|▎         | 15/450 [00:25<12:18,  1.70s/it]"
          ]
        },
        {
          "name": "stdout",
          "output_type": "stream",
          "text": [
            "{'loss': 1.0083, 'learning_rate': 4.8333333333333334e-05, 'epoch': 0.1}\n"
          ]
        },
        {
          "name": "stderr",
          "output_type": "stream",
          "text": [
            "  4%|▍         | 20/450 [00:34<12:44,  1.78s/it]"
          ]
        },
        {
          "name": "stdout",
          "output_type": "stream",
          "text": [
            "{'loss': 1.0445, 'learning_rate': 4.7777777777777784e-05, 'epoch': 0.13}\n"
          ]
        },
        {
          "name": "stderr",
          "output_type": "stream",
          "text": [
            "  6%|▌         | 25/450 [00:43<12:52,  1.82s/it]"
          ]
        },
        {
          "name": "stdout",
          "output_type": "stream",
          "text": [
            "{'loss': 0.9915, 'learning_rate': 4.722222222222222e-05, 'epoch': 0.17}\n"
          ]
        },
        {
          "name": "stderr",
          "output_type": "stream",
          "text": [
            "  7%|▋         | 30/450 [00:52<12:40,  1.81s/it]"
          ]
        },
        {
          "name": "stdout",
          "output_type": "stream",
          "text": [
            "{'loss': 0.8434, 'learning_rate': 4.666666666666667e-05, 'epoch': 0.2}\n"
          ]
        },
        {
          "name": "stderr",
          "output_type": "stream",
          "text": [
            "  8%|▊         | 35/450 [01:01<12:03,  1.74s/it]"
          ]
        },
        {
          "name": "stdout",
          "output_type": "stream",
          "text": [
            "{'loss': 0.835, 'learning_rate': 4.6111111111111115e-05, 'epoch': 0.23}\n"
          ]
        },
        {
          "name": "stderr",
          "output_type": "stream",
          "text": [
            "  9%|▉         | 40/450 [01:10<11:51,  1.74s/it]"
          ]
        },
        {
          "name": "stdout",
          "output_type": "stream",
          "text": [
            "{'loss': 1.1078, 'learning_rate': 4.555555555555556e-05, 'epoch': 0.27}\n"
          ]
        },
        {
          "name": "stderr",
          "output_type": "stream",
          "text": [
            " 10%|█         | 45/450 [01:18<11:13,  1.66s/it]"
          ]
        },
        {
          "name": "stdout",
          "output_type": "stream",
          "text": [
            "{'loss': 0.8721, 'learning_rate': 4.5e-05, 'epoch': 0.3}\n"
          ]
        },
        {
          "name": "stderr",
          "output_type": "stream",
          "text": [
            " 11%|█         | 50/450 [01:27<12:02,  1.81s/it]"
          ]
        },
        {
          "name": "stdout",
          "output_type": "stream",
          "text": [
            "{'loss': 0.8734, 'learning_rate': 4.4444444444444447e-05, 'epoch': 0.33}\n"
          ]
        },
        {
          "name": "stderr",
          "output_type": "stream",
          "text": [
            " 12%|█▏        | 55/450 [01:36<11:18,  1.72s/it]"
          ]
        },
        {
          "name": "stdout",
          "output_type": "stream",
          "text": [
            "{'loss': 0.8974, 'learning_rate': 4.388888888888889e-05, 'epoch': 0.37}\n"
          ]
        },
        {
          "name": "stderr",
          "output_type": "stream",
          "text": [
            " 13%|█▎        | 60/450 [01:44<10:54,  1.68s/it]"
          ]
        },
        {
          "name": "stdout",
          "output_type": "stream",
          "text": [
            "{'loss': 0.7808, 'learning_rate': 4.3333333333333334e-05, 'epoch': 0.4}\n"
          ]
        },
        {
          "name": "stderr",
          "output_type": "stream",
          "text": [
            " 14%|█▍        | 65/450 [01:52<10:55,  1.70s/it]"
          ]
        },
        {
          "name": "stdout",
          "output_type": "stream",
          "text": [
            "{'loss': 0.7169, 'learning_rate': 4.277777777777778e-05, 'epoch': 0.43}\n"
          ]
        },
        {
          "name": "stderr",
          "output_type": "stream",
          "text": [
            " 16%|█▌        | 70/450 [02:02<11:25,  1.81s/it]"
          ]
        },
        {
          "name": "stdout",
          "output_type": "stream",
          "text": [
            "{'loss': 0.7075, 'learning_rate': 4.222222222222222e-05, 'epoch': 0.47}\n"
          ]
        },
        {
          "name": "stderr",
          "output_type": "stream",
          "text": [
            " 17%|█▋        | 75/450 [02:10<10:44,  1.72s/it]"
          ]
        },
        {
          "name": "stdout",
          "output_type": "stream",
          "text": [
            "{'loss': 0.8474, 'learning_rate': 4.166666666666667e-05, 'epoch': 0.5}\n"
          ]
        },
        {
          "name": "stderr",
          "output_type": "stream",
          "text": [
            " 18%|█▊        | 80/450 [02:19<10:49,  1.76s/it]"
          ]
        },
        {
          "name": "stdout",
          "output_type": "stream",
          "text": [
            "{'loss': 0.5868, 'learning_rate': 4.111111111111111e-05, 'epoch': 0.53}\n"
          ]
        },
        {
          "name": "stderr",
          "output_type": "stream",
          "text": [
            " 19%|█▉        | 85/450 [02:28<10:53,  1.79s/it]"
          ]
        },
        {
          "name": "stdout",
          "output_type": "stream",
          "text": [
            "{'loss': 0.6617, 'learning_rate': 4.055555555555556e-05, 'epoch': 0.57}\n"
          ]
        },
        {
          "name": "stderr",
          "output_type": "stream",
          "text": [
            " 20%|██        | 90/450 [02:37<10:37,  1.77s/it]"
          ]
        },
        {
          "name": "stdout",
          "output_type": "stream",
          "text": [
            "{'loss': 0.6189, 'learning_rate': 4e-05, 'epoch': 0.6}\n"
          ]
        },
        {
          "name": "stderr",
          "output_type": "stream",
          "text": [
            " 21%|██        | 95/450 [02:45<10:09,  1.72s/it]"
          ]
        },
        {
          "name": "stdout",
          "output_type": "stream",
          "text": [
            "{'loss': 0.4822, 'learning_rate': 3.944444444444445e-05, 'epoch': 0.63}\n"
          ]
        },
        {
          "name": "stderr",
          "output_type": "stream",
          "text": [
            " 22%|██▏       | 100/450 [02:54<10:02,  1.72s/it]"
          ]
        },
        {
          "name": "stdout",
          "output_type": "stream",
          "text": [
            "{'loss': 0.4976, 'learning_rate': 3.888888888888889e-05, 'epoch': 0.67}\n"
          ]
        },
        {
          "name": "stderr",
          "output_type": "stream",
          "text": [
            " 23%|██▎       | 105/450 [03:03<10:26,  1.82s/it]"
          ]
        },
        {
          "name": "stdout",
          "output_type": "stream",
          "text": [
            "{'loss': 0.3725, 'learning_rate': 3.8333333333333334e-05, 'epoch': 0.7}\n"
          ]
        },
        {
          "name": "stderr",
          "output_type": "stream",
          "text": [
            " 24%|██▍       | 110/450 [03:12<10:38,  1.88s/it]"
          ]
        },
        {
          "name": "stdout",
          "output_type": "stream",
          "text": [
            "{'loss': 0.3522, 'learning_rate': 3.777777777777778e-05, 'epoch': 0.73}\n"
          ]
        },
        {
          "name": "stderr",
          "output_type": "stream",
          "text": [
            " 26%|██▌       | 115/450 [03:21<09:47,  1.75s/it]"
          ]
        },
        {
          "name": "stdout",
          "output_type": "stream",
          "text": [
            "{'loss': 0.6346, 'learning_rate': 3.722222222222222e-05, 'epoch': 0.77}\n"
          ]
        },
        {
          "name": "stderr",
          "output_type": "stream",
          "text": [
            " 27%|██▋       | 120/450 [03:30<09:28,  1.72s/it]"
          ]
        },
        {
          "name": "stdout",
          "output_type": "stream",
          "text": [
            "{'loss': 0.4455, 'learning_rate': 3.6666666666666666e-05, 'epoch': 0.8}\n"
          ]
        },
        {
          "name": "stderr",
          "output_type": "stream",
          "text": [
            " 28%|██▊       | 125/450 [03:39<09:48,  1.81s/it]"
          ]
        },
        {
          "name": "stdout",
          "output_type": "stream",
          "text": [
            "{'loss': 0.4796, 'learning_rate': 3.611111111111111e-05, 'epoch': 0.83}\n"
          ]
        },
        {
          "name": "stderr",
          "output_type": "stream",
          "text": [
            " 29%|██▉       | 130/450 [03:48<09:51,  1.85s/it]"
          ]
        },
        {
          "name": "stdout",
          "output_type": "stream",
          "text": [
            "{'loss': 0.4754, 'learning_rate': 3.555555555555556e-05, 'epoch': 0.87}\n"
          ]
        },
        {
          "name": "stderr",
          "output_type": "stream",
          "text": [
            " 30%|███       | 135/450 [03:57<09:24,  1.79s/it]"
          ]
        },
        {
          "name": "stdout",
          "output_type": "stream",
          "text": [
            "{'loss': 0.2699, 'learning_rate': 3.5e-05, 'epoch': 0.9}\n"
          ]
        },
        {
          "name": "stderr",
          "output_type": "stream",
          "text": [
            " 31%|███       | 140/450 [04:06<08:55,  1.73s/it]"
          ]
        },
        {
          "name": "stdout",
          "output_type": "stream",
          "text": [
            "{'loss': 0.4704, 'learning_rate': 3.444444444444445e-05, 'epoch': 0.93}\n"
          ]
        },
        {
          "name": "stderr",
          "output_type": "stream",
          "text": [
            " 32%|███▏      | 145/450 [04:15<08:52,  1.75s/it]"
          ]
        },
        {
          "name": "stdout",
          "output_type": "stream",
          "text": [
            "{'loss': 0.4729, 'learning_rate': 3.388888888888889e-05, 'epoch': 0.97}\n"
          ]
        },
        {
          "name": "stderr",
          "output_type": "stream",
          "text": [
            " 33%|███▎      | 150/450 [04:23<08:45,  1.75s/it]"
          ]
        },
        {
          "name": "stdout",
          "output_type": "stream",
          "text": [
            "{'loss': 0.3472, 'learning_rate': 3.3333333333333335e-05, 'epoch': 1.0}\n"
          ]
        },
        {
          "name": "stderr",
          "output_type": "stream",
          "text": [
            "\n",
            " 33%|███▎      | 150/450 [04:40<08:45,  1.75s/it]"
          ]
        },
        {
          "name": "stdout",
          "output_type": "stream",
          "text": [
            "{'eval_loss': 0.3820722997188568, 'eval_runtime': 16.2168, 'eval_samples_per_second': 36.999, 'eval_steps_per_second': 0.617, 'epoch': 1.0}\n"
          ]
        },
        {
          "name": "stderr",
          "output_type": "stream",
          "text": [
            " 34%|███▍      | 155/450 [04:49<14:56,  3.04s/it]"
          ]
        },
        {
          "name": "stdout",
          "output_type": "stream",
          "text": [
            "{'loss': 0.3893, 'learning_rate': 3.277777777777778e-05, 'epoch': 1.03}\n"
          ]
        },
        {
          "name": "stderr",
          "output_type": "stream",
          "text": [
            " 36%|███▌      | 160/450 [04:59<10:14,  2.12s/it]"
          ]
        },
        {
          "name": "stdout",
          "output_type": "stream",
          "text": [
            "{'loss': 0.415, 'learning_rate': 3.222222222222223e-05, 'epoch': 1.07}\n"
          ]
        },
        {
          "name": "stderr",
          "output_type": "stream",
          "text": [
            " 37%|███▋      | 165/450 [05:08<08:57,  1.89s/it]"
          ]
        },
        {
          "name": "stdout",
          "output_type": "stream",
          "text": [
            "{'loss': 0.3396, 'learning_rate': 3.1666666666666666e-05, 'epoch': 1.1}\n"
          ]
        },
        {
          "name": "stderr",
          "output_type": "stream",
          "text": [
            " 38%|███▊      | 170/450 [05:18<09:00,  1.93s/it]"
          ]
        },
        {
          "name": "stdout",
          "output_type": "stream",
          "text": [
            "{'loss': 0.2163, 'learning_rate': 3.111111111111111e-05, 'epoch': 1.13}\n"
          ]
        },
        {
          "name": "stderr",
          "output_type": "stream",
          "text": [
            " 39%|███▉      | 175/450 [05:27<08:49,  1.93s/it]"
          ]
        },
        {
          "name": "stdout",
          "output_type": "stream",
          "text": [
            "{'loss': 0.3762, 'learning_rate': 3.055555555555556e-05, 'epoch': 1.17}\n"
          ]
        },
        {
          "name": "stderr",
          "output_type": "stream",
          "text": [
            " 40%|████      | 180/450 [05:37<08:35,  1.91s/it]"
          ]
        },
        {
          "name": "stdout",
          "output_type": "stream",
          "text": [
            "{'loss': 0.2476, 'learning_rate': 3e-05, 'epoch': 1.2}\n"
          ]
        },
        {
          "name": "stderr",
          "output_type": "stream",
          "text": [
            " 41%|████      | 185/450 [05:46<08:11,  1.86s/it]"
          ]
        },
        {
          "name": "stdout",
          "output_type": "stream",
          "text": [
            "{'loss': 0.2202, 'learning_rate': 2.9444444444444448e-05, 'epoch': 1.23}\n"
          ]
        },
        {
          "name": "stderr",
          "output_type": "stream",
          "text": [
            " 42%|████▏     | 190/450 [05:56<08:22,  1.93s/it]"
          ]
        },
        {
          "name": "stdout",
          "output_type": "stream",
          "text": [
            "{'loss': 0.4134, 'learning_rate': 2.8888888888888888e-05, 'epoch': 1.27}\n"
          ]
        },
        {
          "name": "stderr",
          "output_type": "stream",
          "text": [
            " 43%|████▎     | 195/450 [06:06<08:59,  2.12s/it]"
          ]
        },
        {
          "name": "stdout",
          "output_type": "stream",
          "text": [
            "{'loss': 0.2934, 'learning_rate': 2.8333333333333335e-05, 'epoch': 1.3}\n"
          ]
        },
        {
          "name": "stderr",
          "output_type": "stream",
          "text": [
            " 44%|████▍     | 200/450 [06:16<07:56,  1.91s/it]"
          ]
        },
        {
          "name": "stdout",
          "output_type": "stream",
          "text": [
            "{'loss': 0.3989, 'learning_rate': 2.777777777777778e-05, 'epoch': 1.33}\n"
          ]
        },
        {
          "name": "stderr",
          "output_type": "stream",
          "text": [
            " 46%|████▌     | 205/450 [06:26<08:21,  2.05s/it]"
          ]
        },
        {
          "name": "stdout",
          "output_type": "stream",
          "text": [
            "{'loss': 0.2641, 'learning_rate': 2.7222222222222223e-05, 'epoch': 1.37}\n"
          ]
        },
        {
          "name": "stderr",
          "output_type": "stream",
          "text": [
            " 47%|████▋     | 210/450 [06:35<07:17,  1.82s/it]"
          ]
        },
        {
          "name": "stdout",
          "output_type": "stream",
          "text": [
            "{'loss': 0.332, 'learning_rate': 2.6666666666666667e-05, 'epoch': 1.4}\n"
          ]
        },
        {
          "name": "stderr",
          "output_type": "stream",
          "text": [
            " 48%|████▊     | 215/450 [06:44<07:05,  1.81s/it]"
          ]
        },
        {
          "name": "stdout",
          "output_type": "stream",
          "text": [
            "{'loss': 0.3849, 'learning_rate': 2.6111111111111114e-05, 'epoch': 1.43}\n"
          ]
        },
        {
          "name": "stderr",
          "output_type": "stream",
          "text": [
            " 49%|████▉     | 220/450 [06:53<07:18,  1.91s/it]"
          ]
        },
        {
          "name": "stdout",
          "output_type": "stream",
          "text": [
            "{'loss': 0.1868, 'learning_rate': 2.5555555555555554e-05, 'epoch': 1.47}\n"
          ]
        },
        {
          "name": "stderr",
          "output_type": "stream",
          "text": [
            " 50%|█████     | 225/450 [07:03<07:13,  1.93s/it]"
          ]
        },
        {
          "name": "stdout",
          "output_type": "stream",
          "text": [
            "{'loss': 0.3492, 'learning_rate': 2.5e-05, 'epoch': 1.5}\n"
          ]
        },
        {
          "name": "stderr",
          "output_type": "stream",
          "text": [
            " 51%|█████     | 230/450 [07:12<06:48,  1.86s/it]"
          ]
        },
        {
          "name": "stdout",
          "output_type": "stream",
          "text": [
            "{'loss': 0.2267, 'learning_rate': 2.4444444444444445e-05, 'epoch': 1.53}\n"
          ]
        },
        {
          "name": "stderr",
          "output_type": "stream",
          "text": [
            " 52%|█████▏    | 235/450 [07:21<06:26,  1.80s/it]"
          ]
        },
        {
          "name": "stdout",
          "output_type": "stream",
          "text": [
            "{'loss': 0.338, 'learning_rate': 2.3888888888888892e-05, 'epoch': 1.57}\n"
          ]
        },
        {
          "name": "stderr",
          "output_type": "stream",
          "text": [
            " 53%|█████▎    | 240/450 [07:30<06:34,  1.88s/it]"
          ]
        },
        {
          "name": "stdout",
          "output_type": "stream",
          "text": [
            "{'loss': 0.2843, 'learning_rate': 2.3333333333333336e-05, 'epoch': 1.6}\n"
          ]
        },
        {
          "name": "stderr",
          "output_type": "stream",
          "text": [
            " 54%|█████▍    | 245/450 [07:40<06:10,  1.81s/it]"
          ]
        },
        {
          "name": "stdout",
          "output_type": "stream",
          "text": [
            "{'loss': 0.2886, 'learning_rate': 2.277777777777778e-05, 'epoch': 1.63}\n"
          ]
        },
        {
          "name": "stderr",
          "output_type": "stream",
          "text": [
            " 56%|█████▌    | 250/450 [07:48<05:53,  1.77s/it]"
          ]
        },
        {
          "name": "stdout",
          "output_type": "stream",
          "text": [
            "{'loss': 0.2172, 'learning_rate': 2.2222222222222223e-05, 'epoch': 1.67}\n"
          ]
        },
        {
          "name": "stderr",
          "output_type": "stream",
          "text": [
            " 57%|█████▋    | 255/450 [07:58<06:06,  1.88s/it]"
          ]
        },
        {
          "name": "stdout",
          "output_type": "stream",
          "text": [
            "{'loss': 0.2736, 'learning_rate': 2.1666666666666667e-05, 'epoch': 1.7}\n"
          ]
        },
        {
          "name": "stderr",
          "output_type": "stream",
          "text": [
            " 58%|█████▊    | 260/450 [08:07<06:04,  1.92s/it]"
          ]
        },
        {
          "name": "stdout",
          "output_type": "stream",
          "text": [
            "{'loss': 0.3186, 'learning_rate': 2.111111111111111e-05, 'epoch': 1.73}\n"
          ]
        },
        {
          "name": "stderr",
          "output_type": "stream",
          "text": [
            " 59%|█████▉    | 265/450 [08:17<05:54,  1.92s/it]"
          ]
        },
        {
          "name": "stdout",
          "output_type": "stream",
          "text": [
            "{'loss': 0.4534, 'learning_rate': 2.0555555555555555e-05, 'epoch': 1.77}\n"
          ]
        },
        {
          "name": "stderr",
          "output_type": "stream",
          "text": [
            " 60%|██████    | 270/450 [08:27<06:03,  2.02s/it]"
          ]
        },
        {
          "name": "stdout",
          "output_type": "stream",
          "text": [
            "{'loss': 0.377, 'learning_rate': 2e-05, 'epoch': 1.8}\n"
          ]
        },
        {
          "name": "stderr",
          "output_type": "stream",
          "text": [
            " 61%|██████    | 275/450 [08:36<05:27,  1.87s/it]"
          ]
        },
        {
          "name": "stdout",
          "output_type": "stream",
          "text": [
            "{'loss': 0.2122, 'learning_rate': 1.9444444444444445e-05, 'epoch': 1.83}\n"
          ]
        },
        {
          "name": "stderr",
          "output_type": "stream",
          "text": [
            " 62%|██████▏   | 280/450 [08:45<05:06,  1.80s/it]"
          ]
        },
        {
          "name": "stdout",
          "output_type": "stream",
          "text": [
            "{'loss': 0.2718, 'learning_rate': 1.888888888888889e-05, 'epoch': 1.87}\n"
          ]
        },
        {
          "name": "stderr",
          "output_type": "stream",
          "text": [
            " 63%|██████▎   | 285/450 [08:54<04:52,  1.77s/it]"
          ]
        },
        {
          "name": "stdout",
          "output_type": "stream",
          "text": [
            "{'loss': 0.3106, 'learning_rate': 1.8333333333333333e-05, 'epoch': 1.9}\n"
          ]
        },
        {
          "name": "stderr",
          "output_type": "stream",
          "text": [
            " 64%|██████▍   | 290/450 [09:03<04:47,  1.79s/it]"
          ]
        },
        {
          "name": "stdout",
          "output_type": "stream",
          "text": [
            "{'loss': 0.3675, 'learning_rate': 1.777777777777778e-05, 'epoch': 1.93}\n"
          ]
        },
        {
          "name": "stderr",
          "output_type": "stream",
          "text": [
            " 66%|██████▌   | 295/450 [09:13<04:54,  1.90s/it]"
          ]
        },
        {
          "name": "stdout",
          "output_type": "stream",
          "text": [
            "{'loss': 0.3658, 'learning_rate': 1.7222222222222224e-05, 'epoch': 1.97}\n"
          ]
        },
        {
          "name": "stderr",
          "output_type": "stream",
          "text": [
            " 67%|██████▋   | 300/450 [09:22<04:48,  1.92s/it]"
          ]
        },
        {
          "name": "stdout",
          "output_type": "stream",
          "text": [
            "{'loss': 0.2977, 'learning_rate': 1.6666666666666667e-05, 'epoch': 2.0}\n"
          ]
        },
        {
          "name": "stderr",
          "output_type": "stream",
          "text": [
            "\n",
            " 67%|██████▋   | 300/450 [09:38<04:48,  1.92s/it]"
          ]
        },
        {
          "name": "stdout",
          "output_type": "stream",
          "text": [
            "{'eval_loss': 0.33420851826667786, 'eval_runtime': 15.4365, 'eval_samples_per_second': 38.869, 'eval_steps_per_second': 0.648, 'epoch': 2.0}\n"
          ]
        },
        {
          "name": "stderr",
          "output_type": "stream",
          "text": [
            " 68%|██████▊   | 305/450 [09:46<07:00,  2.90s/it]"
          ]
        },
        {
          "name": "stdout",
          "output_type": "stream",
          "text": [
            "{'loss': 0.2821, 'learning_rate': 1.6111111111111115e-05, 'epoch': 2.03}\n"
          ]
        },
        {
          "name": "stderr",
          "output_type": "stream",
          "text": [
            " 69%|██████▉   | 310/450 [09:55<04:34,  1.96s/it]"
          ]
        },
        {
          "name": "stdout",
          "output_type": "stream",
          "text": [
            "{'loss': 0.2106, 'learning_rate': 1.5555555555555555e-05, 'epoch': 2.07}\n"
          ]
        },
        {
          "name": "stderr",
          "output_type": "stream",
          "text": [
            " 70%|███████   | 315/450 [10:05<04:08,  1.84s/it]"
          ]
        },
        {
          "name": "stdout",
          "output_type": "stream",
          "text": [
            "{'loss': 0.1317, 'learning_rate': 1.5e-05, 'epoch': 2.1}\n"
          ]
        },
        {
          "name": "stderr",
          "output_type": "stream",
          "text": [
            " 71%|███████   | 320/450 [10:14<03:55,  1.81s/it]"
          ]
        },
        {
          "name": "stdout",
          "output_type": "stream",
          "text": [
            "{'loss': 0.2669, 'learning_rate': 1.4444444444444444e-05, 'epoch': 2.13}\n"
          ]
        },
        {
          "name": "stderr",
          "output_type": "stream",
          "text": [
            " 72%|███████▏  | 325/450 [10:24<04:03,  1.95s/it]"
          ]
        },
        {
          "name": "stdout",
          "output_type": "stream",
          "text": [
            "{'loss': 0.1859, 'learning_rate': 1.388888888888889e-05, 'epoch': 2.17}\n"
          ]
        },
        {
          "name": "stderr",
          "output_type": "stream",
          "text": [
            " 73%|███████▎  | 330/450 [10:33<03:50,  1.92s/it]"
          ]
        },
        {
          "name": "stdout",
          "output_type": "stream",
          "text": [
            "{'loss': 0.2362, 'learning_rate': 1.3333333333333333e-05, 'epoch': 2.2}\n"
          ]
        },
        {
          "name": "stderr",
          "output_type": "stream",
          "text": [
            " 74%|███████▍  | 335/450 [10:43<03:34,  1.87s/it]"
          ]
        },
        {
          "name": "stdout",
          "output_type": "stream",
          "text": [
            "{'loss': 0.1735, 'learning_rate': 1.2777777777777777e-05, 'epoch': 2.23}\n"
          ]
        },
        {
          "name": "stderr",
          "output_type": "stream",
          "text": [
            " 76%|███████▌  | 340/450 [10:51<03:17,  1.79s/it]"
          ]
        },
        {
          "name": "stdout",
          "output_type": "stream",
          "text": [
            "{'loss': 0.2227, 'learning_rate': 1.2222222222222222e-05, 'epoch': 2.27}\n"
          ]
        },
        {
          "name": "stderr",
          "output_type": "stream",
          "text": [
            " 77%|███████▋  | 345/450 [11:00<03:13,  1.84s/it]"
          ]
        },
        {
          "name": "stdout",
          "output_type": "stream",
          "text": [
            "{'loss': 0.102, 'learning_rate': 1.1666666666666668e-05, 'epoch': 2.3}\n"
          ]
        },
        {
          "name": "stderr",
          "output_type": "stream",
          "text": [
            " 78%|███████▊  | 350/450 [11:09<02:57,  1.78s/it]"
          ]
        },
        {
          "name": "stdout",
          "output_type": "stream",
          "text": [
            "{'loss': 0.1041, 'learning_rate': 1.1111111111111112e-05, 'epoch': 2.33}\n"
          ]
        },
        {
          "name": "stderr",
          "output_type": "stream",
          "text": [
            " 79%|███████▉  | 355/450 [11:18<02:51,  1.80s/it]"
          ]
        },
        {
          "name": "stdout",
          "output_type": "stream",
          "text": [
            "{'loss': 0.0725, 'learning_rate': 1.0555555555555555e-05, 'epoch': 2.37}\n"
          ]
        },
        {
          "name": "stderr",
          "output_type": "stream",
          "text": [
            " 80%|████████  | 360/450 [11:27<02:40,  1.78s/it]"
          ]
        },
        {
          "name": "stdout",
          "output_type": "stream",
          "text": [
            "{'loss': 0.1368, 'learning_rate': 1e-05, 'epoch': 2.4}\n"
          ]
        },
        {
          "name": "stderr",
          "output_type": "stream",
          "text": [
            " 81%|████████  | 365/450 [11:36<02:30,  1.77s/it]"
          ]
        },
        {
          "name": "stdout",
          "output_type": "stream",
          "text": [
            "{'loss': 0.1719, 'learning_rate': 9.444444444444445e-06, 'epoch': 2.43}\n"
          ]
        },
        {
          "name": "stderr",
          "output_type": "stream",
          "text": [
            " 82%|████████▏ | 370/450 [11:45<02:22,  1.78s/it]"
          ]
        },
        {
          "name": "stdout",
          "output_type": "stream",
          "text": [
            "{'loss': 0.2363, 'learning_rate': 8.88888888888889e-06, 'epoch': 2.47}\n"
          ]
        },
        {
          "name": "stderr",
          "output_type": "stream",
          "text": [
            " 83%|████████▎ | 375/450 [11:54<02:12,  1.77s/it]"
          ]
        },
        {
          "name": "stdout",
          "output_type": "stream",
          "text": [
            "{'loss': 0.1912, 'learning_rate': 8.333333333333334e-06, 'epoch': 2.5}\n"
          ]
        },
        {
          "name": "stderr",
          "output_type": "stream",
          "text": [
            " 84%|████████▍ | 380/450 [12:03<02:08,  1.83s/it]"
          ]
        },
        {
          "name": "stdout",
          "output_type": "stream",
          "text": [
            "{'loss': 0.1256, 'learning_rate': 7.777777777777777e-06, 'epoch': 2.53}\n"
          ]
        },
        {
          "name": "stderr",
          "output_type": "stream",
          "text": [
            " 86%|████████▌ | 385/450 [12:12<01:54,  1.77s/it]"
          ]
        },
        {
          "name": "stdout",
          "output_type": "stream",
          "text": [
            "{'loss': 0.1439, 'learning_rate': 7.222222222222222e-06, 'epoch': 2.57}\n"
          ]
        },
        {
          "name": "stderr",
          "output_type": "stream",
          "text": [
            " 87%|████████▋ | 390/450 [12:21<01:49,  1.82s/it]"
          ]
        },
        {
          "name": "stdout",
          "output_type": "stream",
          "text": [
            "{'loss': 0.2158, 'learning_rate': 6.666666666666667e-06, 'epoch': 2.6}\n"
          ]
        },
        {
          "name": "stderr",
          "output_type": "stream",
          "text": [
            " 88%|████████▊ | 395/450 [12:30<01:41,  1.84s/it]"
          ]
        },
        {
          "name": "stdout",
          "output_type": "stream",
          "text": [
            "{'loss': 0.2095, 'learning_rate': 6.111111111111111e-06, 'epoch': 2.63}\n"
          ]
        },
        {
          "name": "stderr",
          "output_type": "stream",
          "text": [
            " 89%|████████▉ | 400/450 [12:39<01:32,  1.84s/it]"
          ]
        },
        {
          "name": "stdout",
          "output_type": "stream",
          "text": [
            "{'loss': 0.1183, 'learning_rate': 5.555555555555556e-06, 'epoch': 2.67}\n"
          ]
        },
        {
          "name": "stderr",
          "output_type": "stream",
          "text": [
            " 90%|█████████ | 405/450 [12:48<01:21,  1.80s/it]"
          ]
        },
        {
          "name": "stdout",
          "output_type": "stream",
          "text": [
            "{'loss': 0.1216, 'learning_rate': 5e-06, 'epoch': 2.7}\n"
          ]
        },
        {
          "name": "stderr",
          "output_type": "stream",
          "text": [
            " 91%|█████████ | 410/450 [12:58<01:14,  1.87s/it]"
          ]
        },
        {
          "name": "stdout",
          "output_type": "stream",
          "text": [
            "{'loss': 0.2535, 'learning_rate': 4.444444444444445e-06, 'epoch': 2.73}\n"
          ]
        },
        {
          "name": "stderr",
          "output_type": "stream",
          "text": [
            " 92%|█████████▏| 415/450 [13:08<01:08,  1.96s/it]"
          ]
        },
        {
          "name": "stdout",
          "output_type": "stream",
          "text": [
            "{'loss': 0.1566, 'learning_rate': 3.888888888888889e-06, 'epoch': 2.77}\n"
          ]
        },
        {
          "name": "stderr",
          "output_type": "stream",
          "text": [
            " 93%|█████████▎| 420/450 [13:17<00:57,  1.90s/it]"
          ]
        },
        {
          "name": "stdout",
          "output_type": "stream",
          "text": [
            "{'loss': 0.1574, 'learning_rate': 3.3333333333333333e-06, 'epoch': 2.8}\n"
          ]
        },
        {
          "name": "stderr",
          "output_type": "stream",
          "text": [
            " 94%|█████████▍| 425/450 [13:26<00:44,  1.79s/it]"
          ]
        },
        {
          "name": "stdout",
          "output_type": "stream",
          "text": [
            "{'loss': 0.1796, 'learning_rate': 2.777777777777778e-06, 'epoch': 2.83}\n"
          ]
        },
        {
          "name": "stderr",
          "output_type": "stream",
          "text": [
            " 96%|█████████▌| 430/450 [13:35<00:35,  1.76s/it]"
          ]
        },
        {
          "name": "stdout",
          "output_type": "stream",
          "text": [
            "{'loss': 0.1513, 'learning_rate': 2.2222222222222225e-06, 'epoch': 2.87}\n"
          ]
        },
        {
          "name": "stderr",
          "output_type": "stream",
          "text": [
            " 97%|█████████▋| 435/450 [13:45<00:27,  1.86s/it]"
          ]
        },
        {
          "name": "stdout",
          "output_type": "stream",
          "text": [
            "{'loss': 0.1309, 'learning_rate': 1.6666666666666667e-06, 'epoch': 2.9}\n"
          ]
        },
        {
          "name": "stderr",
          "output_type": "stream",
          "text": [
            " 98%|█████████▊| 440/450 [13:54<00:18,  1.87s/it]"
          ]
        },
        {
          "name": "stdout",
          "output_type": "stream",
          "text": [
            "{'loss': 0.1779, 'learning_rate': 1.1111111111111112e-06, 'epoch': 2.93}\n"
          ]
        },
        {
          "name": "stderr",
          "output_type": "stream",
          "text": [
            " 99%|█████████▉| 445/450 [14:03<00:09,  1.82s/it]"
          ]
        },
        {
          "name": "stdout",
          "output_type": "stream",
          "text": [
            "{'loss': 0.1905, 'learning_rate': 5.555555555555556e-07, 'epoch': 2.97}\n"
          ]
        },
        {
          "name": "stderr",
          "output_type": "stream",
          "text": [
            "100%|██████████| 450/450 [14:12<00:00,  1.75s/it]"
          ]
        },
        {
          "name": "stdout",
          "output_type": "stream",
          "text": [
            "{'loss': 0.1361, 'learning_rate': 0.0, 'epoch': 3.0}\n"
          ]
        },
        {
          "name": "stderr",
          "output_type": "stream",
          "text": [
            "\n",
            "100%|██████████| 450/450 [14:27<00:00,  1.93s/it]"
          ]
        },
        {
          "name": "stdout",
          "output_type": "stream",
          "text": [
            "{'eval_loss': 0.3600386083126068, 'eval_runtime': 15.1503, 'eval_samples_per_second': 39.603, 'eval_steps_per_second': 0.66, 'epoch': 3.0}\n",
            "{'train_runtime': 867.3577, 'train_samples_per_second': 8.301, 'train_steps_per_second': 0.519, 'train_loss': 0.39264542897542315, 'epoch': 3.0}\n"
          ]
        },
        {
          "name": "stderr",
          "output_type": "stream",
          "text": [
            "\n"
          ]
        },
        {
          "data": {
            "text/plain": [
              "TrainOutput(global_step=450, training_loss=0.39264542897542315, metrics={'train_runtime': 867.3577, 'train_samples_per_second': 8.301, 'train_steps_per_second': 0.519, 'train_loss': 0.39264542897542315, 'epoch': 3.0})"
            ]
          },
          "execution_count": 78,
          "metadata": {},
          "output_type": "execute_result"
        }
      ],
      "source": [
        "from transformers import DistilBertForSequenceClassification, Trainer, TrainingArguments\n",
        "\n",
        "model = DistilBertForSequenceClassification.from_pretrained('distilbert-base-uncased', num_labels=3)\n",
        "\n",
        "training_args = TrainingArguments(\n",
        "    output_dir='./results',\n",
        "    evaluation_strategy=\"epoch\",\n",
        "    logging_strategy=\"steps\",\n",
        "    logging_steps=5,\n",
        "    per_device_train_batch_size=16,\n",
        "    per_device_eval_batch_size=64,\n",
        "    num_train_epochs=3,\n",
        "    weight_decay=0.01,\n",
        "    logging_dir='./logs',\n",
        "    save_strategy=\"no\",\n",
        "    report_to=\"none\",\n",
        "    disable_tqdm=False\n",
        ")\n",
        "\n",
        "trainer = Trainer(\n",
        "    model=model,\n",
        "    args=training_args,\n",
        "    train_dataset=train_dataset,\n",
        "    eval_dataset=test_dataset\n",
        ")\n",
        "\n",
        "trainer.train()\n"
      ]
    },
    {
      "cell_type": "code",
      "execution_count": 79,
      "id": "0e064470",
      "metadata": {},
      "outputs": [
        {
          "name": "stderr",
          "output_type": "stream",
          "text": [
            "100%|██████████| 10/10 [00:12<00:00,  1.29s/it]"
          ]
        },
        {
          "name": "stdout",
          "output_type": "stream",
          "text": [
            "              precision    recall  f1-score   support\n",
            "\n",
            "    Negative       0.89      0.91      0.90       169\n",
            "     Neutral       0.87      0.86      0.87       237\n",
            "    Positive       0.90      0.89      0.90       194\n",
            "\n",
            "    accuracy                           0.89       600\n",
            "   macro avg       0.89      0.89      0.89       600\n",
            "weighted avg       0.89      0.89      0.88       600\n",
            "\n"
          ]
        },
        {
          "name": "stderr",
          "output_type": "stream",
          "text": [
            "\n"
          ]
        }
      ],
      "source": [
        "from sklearn.metrics import classification_report\n",
        "\n",
        "# Make predictions\n",
        "preds_output = trainer.predict(test_dataset)\n",
        "pred_labels = torch.argmax(torch.tensor(preds_output.predictions), axis=1)\n",
        "\n",
        "# Evaluation\n",
        "print(classification_report(test_labels, pred_labels, target_names=['Negative', 'Neutral', 'Positive']))\n"
      ]
    },
    {
      "cell_type": "markdown",
      "id": "JQ7m-ROnL59m",
      "metadata": {
        "id": "JQ7m-ROnL59m"
      },
      "source": [
        "# Results and Visualizations"
      ]
    },
    {
      "cell_type": "markdown",
      "id": "IqVv1W1LAGGy",
      "metadata": {
        "id": "IqVv1W1LAGGy"
      },
      "source": [
        "## Bar Chart for Accuracy"
      ]
    },
    {
      "cell_type": "code",
      "execution_count": 80,
      "id": "e2f1e9a1",
      "metadata": {},
      "outputs": [
        {
          "data": {
            "image/png": "[encoded data removed]",
            "text/plain": [
              "<Figure size 800x500 with 1 Axes>"
            ]
          },
          "metadata": {},
          "output_type": "display_data"
        }
      ],
      "source": [
        "from sklearn.metrics import accuracy_score\n",
        "import numpy as np\n",
        "\n",
        "import matplotlib.pyplot as plt\n",
        "\n",
        "# Prepare model predictions and names\n",
        "model_preds = {\n",
        "    \"Logistic Regression\": y_pred_log,\n",
        "    \"SVM\": y_pred_svm,\n",
        "    \"Random Forest\": y_pred_rf,\n",
        "    \"DistilBERT\": pred_labels\n",
        "}\n",
        "\n",
        "# Compute accuracy for each model\n",
        "accuracies = []\n",
        "model_names = []\n",
        "for name, preds in model_preds.items():\n",
        "    # Use y_test for traditional models, test_labels for DistilBERT\n",
        "    if name == \"DistilBERT\":\n",
        "        acc = accuracy_score(test_labels, preds)\n",
        "    else:\n",
        "        acc = accuracy_score(y_test, preds)\n",
        "    accuracies.append(acc)\n",
        "    model_names.append(name)\n",
        "\n",
        "# Plot\n",
        "plt.figure(figsize=(8, 5))\n",
        "bars = plt.bar(model_names, accuracies, color=['royalblue', 'seagreen', 'orange', 'purple'])\n",
        "plt.ylabel('Accuracy')\n",
        "plt.title('Model Accuracy Comparison')\n",
        "plt.ylim(0, 1)\n",
        "for bar in bars:\n",
        "    plt.text(bar.get_x() + bar.get_width()/2, bar.get_height(), f\"{bar.get_height():.2f}\", \n",
        "             ha='center', va='bottom', fontsize=12)\n",
        "plt.tight_layout()\n",
        "plt.show()"
      ]
    },
    {
      "cell_type": "markdown",
      "id": "81t2WUW8ACZq",
      "metadata": {
        "id": "81t2WUW8ACZq"
      },
      "source": [
        "## Confusion Matrix"
      ]
    },
    {
      "cell_type": "code",
      "execution_count": 81,
      "id": "T_e_pLZ_AKYW",
      "metadata": {
        "id": "T_e_pLZ_AKYW"
      },
      "outputs": [
        {
          "data": {
            "image/png": "[encoded data removed]",
            "text/plain": [
              "<Figure size 640x480 with 2 Axes>"
            ]
          },
          "metadata": {},
          "output_type": "display_data"
        },
        {
          "data": {
            "image/png": "[encoded data removed]",
            "text/plain": [
              "<Figure size 640x480 with 2 Axes>"
            ]
          },
          "metadata": {},
          "output_type": "display_data"
        },
        {
          "data": {
            "image/png": "[encoded data removed]",
            "text/plain": [
              "<Figure size 640x480 with 2 Axes>"
            ]
          },
          "metadata": {},
          "output_type": "display_data"
        },
        {
          "data": {
            "image/png": "[encoded data removed]",
            "text/plain": [
              "<Figure size 640x480 with 2 Axes>"
            ]
          },
          "metadata": {},
          "output_type": "display_data"
        }
      ],
      "source": [
        "import matplotlib.pyplot as plt\n",
        "from sklearn.metrics import confusion_matrix, ConfusionMatrixDisplay\n",
        "\n",
        "# Logistic Regression Confusion Matrix\n",
        "cm_logreg = confusion_matrix(y_test, y_pred_log)\n",
        "disp_logreg = ConfusionMatrixDisplay(confusion_matrix=cm_logreg, display_labels=['Negative', 'Neutral', 'Positive'])\n",
        "disp_logreg.plot(cmap='Blues')\n",
        "plt.title(\"Confusion Matrix - Logistic Regression\")\n",
        "plt.show()\n",
        "\n",
        "# SVM Confusion Matrix\n",
        "cm_svm = confusion_matrix(y_test, y_pred_svm)\n",
        "disp_svm = ConfusionMatrixDisplay(confusion_matrix=cm_svm, display_labels=['Negative', 'Neutral', 'Positive'])\n",
        "disp_svm.plot(cmap='Greens')\n",
        "plt.title(\"Confusion Matrix - SVM\")\n",
        "plt.show()\n",
        "\n",
        "# Random Forest Confusion Matrix\n",
        "cm_rf = confusion_matrix(y_test, y_pred_rf)\n",
        "disp_rf = ConfusionMatrixDisplay(confusion_matrix=cm_rf, display_labels=['Negative', 'Neutral', 'Positive'])\n",
        "disp_rf.plot(cmap='Oranges')\n",
        "plt.title(\"Confusion Matrix - Random Forest\")\n",
        "plt.show()\n",
        "\n",
        "# Transformer Confusion Matrix\n",
        "cm_bert = confusion_matrix(test_labels, pred_labels)\n",
        "disp_bert = ConfusionMatrixDisplay(confusion_matrix=cm_bert, display_labels=['Negative', 'Neutral', 'Positive'])\n",
        "disp_bert.plot(cmap='Purples')\n",
        "plt.title(\"Confusion Matrix - Transformer (DistilBERT)\")\n",
        "plt.show()\n"
      ]
    },
    {
      "cell_type": "markdown",
      "id": "ZU2M8eAsSVQ0",
      "metadata": {
        "id": "ZU2M8eAsSVQ0"
      },
      "source": [
        "## Opinion Mining"
      ]
    },
    {
      "cell_type": "markdown",
      "id": "w7CCcbYYSbCT",
      "metadata": {
        "id": "w7CCcbYYSbCT"
      },
      "source": [
        "### Extract Meaningful Opinion Pairs"
      ]
    },
    {
      "cell_type": "code",
      "execution_count": 83,
      "id": "6_471G1QSebG",
      "metadata": {
        "id": "6_471G1QSebG"
      },
      "outputs": [
        {
          "data": {
            "text/html": [
              "<div>\n",
              "<style scoped>\n",
              "    .dataframe tbody tr th:only-of-type {\n",
              "        vertical-align: middle;\n",
              "    }\n",
              "\n",
              "    .dataframe tbody tr th {\n",
              "        vertical-align: top;\n",
              "    }\n",
              "\n",
              "    .dataframe thead th {\n",
              "        text-align: right;\n",
              "    }\n",
              "</style>\n",
              "<table border=\"1\" class=\"dataframe\">\n",
              "  <thead>\n",
              "    <tr style=\"text-align: right;\">\n",
              "      <th></th>\n",
              "      <th>aspect</th>\n",
              "      <th>opinion</th>\n",
              "      <th>relation</th>\n",
              "      <th>sentence</th>\n",
              "    </tr>\n",
              "  </thead>\n",
              "  <tbody>\n",
              "    <tr>\n",
              "      <th>0</th>\n",
              "      <td>hobby</td>\n",
              "      <td>fabulous</td>\n",
              "      <td>amod</td>\n",
              "      <td>well well...so sorry! let`s dance  it`s fabul...</td>\n",
              "    </tr>\n",
              "    <tr>\n",
              "      <th>1</th>\n",
              "      <td>page</td>\n",
              "      <td>seeing</td>\n",
              "      <td>dobj</td>\n",
              "      <td>that`s so weird seeing your MySpace page with...</td>\n",
              "    </tr>\n",
              "    <tr>\n",
              "      <th>2</th>\n",
              "      <td>page</td>\n",
              "      <td>delete</td>\n",
              "      <td>dobj</td>\n",
              "      <td>that`s so weird seeing your MySpace page with...</td>\n",
              "    </tr>\n",
              "    <tr>\n",
              "      <th>3</th>\n",
              "      <td>tickets</td>\n",
              "      <td>has</td>\n",
              "      <td>dobj</td>\n",
              "      <td>We want to trade with someone who has Houston...</td>\n",
              "    </tr>\n",
              "    <tr>\n",
              "      <th>4</th>\n",
              "      <td>moon</td>\n",
              "      <td>full</td>\n",
              "      <td>amod</td>\n",
              "      <td>Hey, it was a GORGEOUS, day (and night) here,...</td>\n",
              "    </tr>\n",
              "    <tr>\n",
              "      <th>5</th>\n",
              "      <td>moon</td>\n",
              "      <td>lit</td>\n",
              "      <td>nsubj</td>\n",
              "      <td>Hey, it was a GORGEOUS, day (and night) here,...</td>\n",
              "    </tr>\n",
              "    <tr>\n",
              "      <th>6</th>\n",
              "      <td>way</td>\n",
              "      <td>lit</td>\n",
              "      <td>dobj</td>\n",
              "      <td>Hey, it was a GORGEOUS, day (and night) here,...</td>\n",
              "    </tr>\n",
              "    <tr>\n",
              "      <th>7</th>\n",
              "      <td>hole</td>\n",
              "      <td>leave</td>\n",
              "      <td>dobj</td>\n",
              "      <td>i know! i just got off the phone with them. i...</td>\n",
              "    </tr>\n",
              "    <tr>\n",
              "      <th>8</th>\n",
              "      <td>hole</td>\n",
              "      <td>Giant</td>\n",
              "      <td>amod</td>\n",
              "      <td>i know! i just got off the phone with them. i...</td>\n",
              "    </tr>\n",
              "    <tr>\n",
              "      <th>9</th>\n",
              "      <td>Regions</td>\n",
              "      <td>closed</td>\n",
              "      <td>nsubj</td>\n",
              "      <td>i know! i just got off the phone with them. i...</td>\n",
              "    </tr>\n",
              "    <tr>\n",
              "      <th>10</th>\n",
              "      <td>I`m</td>\n",
              "      <td>watching</td>\n",
              "      <td>nsubj</td>\n",
              "      <td>I`m watching some of your videos in YouTube. ...</td>\n",
              "    </tr>\n",
              "    <tr>\n",
              "      <th>11</th>\n",
              "      <td>mothers</td>\n",
              "      <td>Happy</td>\n",
              "      <td>amod</td>\n",
              "      <td>Happy mothers day everybody</td>\n",
              "    </tr>\n",
              "    <tr>\n",
              "      <th>12</th>\n",
              "      <td>friends</td>\n",
              "      <td>held</td>\n",
              "      <td>nsubj</td>\n",
              "      <td>friends from Traveller`s Tales held a farewell...</td>\n",
              "    </tr>\n",
              "    <tr>\n",
              "      <th>13</th>\n",
              "      <td>party</td>\n",
              "      <td>held</td>\n",
              "      <td>dobj</td>\n",
              "      <td>friends from Traveller`s Tales held a farewell...</td>\n",
              "    </tr>\n",
              "    <tr>\n",
              "      <th>14</th>\n",
              "      <td>quote</td>\n",
              "      <td>sharing</td>\n",
              "      <td>dobj</td>\n",
              "      <td>Hi John! Thanks for sharing that quote! It`s ...</td>\n",
              "    </tr>\n",
              "  </tbody>\n",
              "</table>\n",
              "</div>"
            ],
            "text/plain": [
              "     aspect   opinion relation  \\\n",
              "0     hobby  fabulous     amod   \n",
              "1      page    seeing     dobj   \n",
              "2      page    delete     dobj   \n",
              "3   tickets       has     dobj   \n",
              "4      moon      full     amod   \n",
              "5      moon       lit    nsubj   \n",
              "6       way       lit     dobj   \n",
              "7      hole     leave     dobj   \n",
              "8      hole     Giant     amod   \n",
              "9   Regions    closed    nsubj   \n",
              "10      I`m  watching    nsubj   \n",
              "11  mothers     Happy     amod   \n",
              "12  friends      held    nsubj   \n",
              "13    party      held     dobj   \n",
              "14    quote   sharing     dobj   \n",
              "\n",
              "                                             sentence  \n",
              "0    well well...so sorry! let`s dance  it`s fabul...  \n",
              "1    that`s so weird seeing your MySpace page with...  \n",
              "2    that`s so weird seeing your MySpace page with...  \n",
              "3    We want to trade with someone who has Houston...  \n",
              "4    Hey, it was a GORGEOUS, day (and night) here,...  \n",
              "5    Hey, it was a GORGEOUS, day (and night) here,...  \n",
              "6    Hey, it was a GORGEOUS, day (and night) here,...  \n",
              "7    i know! i just got off the phone with them. i...  \n",
              "8    i know! i just got off the phone with them. i...  \n",
              "9    i know! i just got off the phone with them. i...  \n",
              "10   I`m watching some of your videos in YouTube. ...  \n",
              "11                        Happy mothers day everybody  \n",
              "12  friends from Traveller`s Tales held a farewell...  \n",
              "13  friends from Traveller`s Tales held a farewell...  \n",
              "14   Hi John! Thanks for sharing that quote! It`s ...  "
            ]
          },
          "metadata": {},
          "output_type": "display_data"
        }
      ],
      "source": [
        "opinion_pairs = []\n",
        "\n",
        "for i, text in enumerate(df['text'].dropna().sample(200, random_state=42)):  # sample 200 for speed\n",
        "    doc = nlp(text)\n",
        "    for token in doc:\n",
        "        # Adjective modifying a noun\n",
        "        if token.dep_ == 'amod' and token.head.pos_ == 'NOUN':\n",
        "            opinion_pairs.append({\n",
        "                'aspect': token.head.text,\n",
        "                'opinion': token.text,\n",
        "                'relation': 'amod',\n",
        "                'sentence': text\n",
        "            })\n",
        "        # Verb opinion about a noun (e.g. \"hate camera\")\n",
        "        elif token.pos_ == 'VERB':\n",
        "            for child in token.children:\n",
        "                if child.dep_ in ['dobj', 'nsubj'] and child.pos_ == 'NOUN':\n",
        "                    opinion_pairs.append({\n",
        "                        'aspect': child.text,\n",
        "                        'opinion': token.text,\n",
        "                        'relation': child.dep_,\n",
        "                        'sentence': text\n",
        "                    })\n",
        "\n",
        "# Convert to DataFrame for easy viewing\n",
        "import pandas as pd\n",
        "opinions_df = pd.DataFrame(opinion_pairs)\n",
        "\n",
        "# Display first few extracted pairs\n",
        "import pandas as pd\n",
        "from IPython.display import display\n",
        "display(opinions_df.head(15))\n"
      ]
    },
    {
      "cell_type": "markdown",
      "id": "VKME3KR1THjU",
      "metadata": {
        "id": "VKME3KR1THjU"
      },
      "source": [
        "### Top 10 Opinion Words"
      ]
    },
    {
      "cell_type": "code",
      "execution_count": 84,
      "id": "H7mf_FXQTalk",
      "metadata": {
        "id": "H7mf_FXQTalk"
      },
      "outputs": [
        {
          "name": "stdout",
          "output_type": "stream",
          "text": [
            "Collecting wordcloud\n",
            "  Downloading wordcloud-1.9.4-cp311-cp311-win_amd64.whl.metadata (3.5 kB)\n",
            "Requirement already satisfied: numpy>=1.6.1 in d:\\anaconda\\envs\\airfrance_nlp\\lib\\site-packages (from wordcloud) (1.26.4)\n",
            "Requirement already satisfied: pillow in d:\\anaconda\\envs\\airfrance_nlp\\lib\\site-packages (from wordcloud) (11.2.1)\n",
            "Requirement already satisfied: matplotlib in d:\\anaconda\\envs\\airfrance_nlp\\lib\\site-packages (from wordcloud) (3.10.3)\n",
            "Requirement already satisfied: contourpy>=1.0.1 in d:\\anaconda\\envs\\airfrance_nlp\\lib\\site-packages (from matplotlib->wordcloud) (1.3.2)\n",
            "Requirement already satisfied: cycler>=0.10 in d:\\anaconda\\envs\\airfrance_nlp\\lib\\site-packages (from matplotlib->wordcloud) (0.12.1)\n",
            "Requirement already satisfied: fonttools>=4.22.0 in d:\\anaconda\\envs\\airfrance_nlp\\lib\\site-packages (from matplotlib->wordcloud) (4.58.1)\n",
            "Requirement already satisfied: kiwisolver>=1.3.1 in d:\\anaconda\\envs\\airfrance_nlp\\lib\\site-packages (from matplotlib->wordcloud) (1.4.8)\n",
            "Requirement already satisfied: packaging>=20.0 in d:\\anaconda\\envs\\airfrance_nlp\\lib\\site-packages (from matplotlib->wordcloud) (24.2)\n",
            "Requirement already satisfied: pyparsing>=2.3.1 in d:\\anaconda\\envs\\airfrance_nlp\\lib\\site-packages (from matplotlib->wordcloud) (3.2.3)\n",
            "Requirement already satisfied: python-dateutil>=2.7 in d:\\anaconda\\envs\\airfrance_nlp\\lib\\site-packages (from matplotlib->wordcloud) (2.9.0.post0)\n",
            "Requirement already satisfied: six>=1.5 in d:\\anaconda\\envs\\airfrance_nlp\\lib\\site-packages (from python-dateutil>=2.7->matplotlib->wordcloud) (1.17.0)\n",
            "Downloading wordcloud-1.9.4-cp311-cp311-win_amd64.whl (299 kB)\n",
            "Installing collected packages: wordcloud\n",
            "Successfully installed wordcloud-1.9.4\n"
          ]
        }
      ],
      "source": [
        "import matplotlib.pyplot as plt\n",
        "import seaborn as sns\n",
        "\n",
        "!pip install wordcloud\n",
        "from wordcloud import WordCloud\n"
      ]
    },
    {
      "cell_type": "code",
      "execution_count": 86,
      "id": "Smtc-5R6TLwR",
      "metadata": {
        "id": "Smtc-5R6TLwR"
      },
      "outputs": [
        {
          "name": "stderr",
          "output_type": "stream",
          "text": [
            "C:\\Users\\user\\AppData\\Local\\Temp\\ipykernel_10936\\2302606294.py:6: FutureWarning: \n",
            "\n",
            "Passing `palette` without assigning `hue` is deprecated and will be removed in v0.14.0. Assign the `y` variable to `hue` and set `legend=False` for the same effect.\n",
            "\n",
            "  sns.barplot(x=top_opinions.values, y=top_opinions.index, palette=\"rocket\")\n"
          ]
        },
        {
          "data": {
            "image/png": "[encoded data removed]",
            "text/plain": [
              "<Figure size 1000x600 with 1 Axes>"
            ]
          },
          "metadata": {},
          "output_type": "display_data"
        }
      ],
      "source": [
        "# Count top opinion words\n",
        "top_opinions = opinions_df['opinion'].value_counts().nlargest(10)\n",
        "\n",
        "# Plot\n",
        "plt.figure(figsize=(10, 6))\n",
        "sns.barplot(x=top_opinions.values, y=top_opinions.index, palette=\"rocket\")\n",
        "plt.title(\"Top 10 Most Common Opinion Words\")\n",
        "plt.xlabel(\"Frequency\")\n",
        "plt.ylabel(\"Opinion Word\")\n",
        "plt.tight_layout()\n",
        "plt.show()\n"
      ]
    },
    {
      "cell_type": "markdown",
      "id": "kK0X4_--TmCy",
      "metadata": {
        "id": "kK0X4_--TmCy"
      },
      "source": [
        "### Opinion WordCloud"
      ]
    },
    {
      "cell_type": "code",
      "execution_count": 87,
      "id": "bArxV-XBUEIu",
      "metadata": {
        "id": "bArxV-XBUEIu"
      },
      "outputs": [
        {
          "data": {
            "image/png": "[encoded data removed]",
            "text/plain": [
              "<Figure size 1200x600 with 1 Axes>"
            ]
          },
          "metadata": {},
          "output_type": "display_data"
        }
      ],
      "source": [
        "# Join all opinion words into one string\n",
        "opinion_text = \" \".join(opinions_df['opinion'].dropna().astype(str).tolist())\n",
        "\n",
        "# Create word cloud\n",
        "wordcloud = WordCloud(width=800, height=400, background_color='white', colormap='plasma').generate(opinion_text)\n",
        "\n",
        "# Display it\n",
        "plt.figure(figsize=(12, 6))\n",
        "plt.imshow(wordcloud, interpolation='bilinear')\n",
        "plt.axis('off')\n",
        "plt.title(\"WordCloud of Opinion Words\", fontsize=16)\n",
        "plt.show()\n"
      ]
    },
    {
      "cell_type": "markdown",
      "id": "69l-GOOjU-Ue",
      "metadata": {
        "id": "69l-GOOjU-Ue"
      },
      "source": [
        "# ABSA using spaCy + VADER"
      ]
    },
    {
      "cell_type": "code",
      "execution_count": 89,
      "id": "gaXsjypvVBIG",
      "metadata": {
        "id": "gaXsjypvVBIG"
      },
      "outputs": [
        {
          "data": {
            "text/html": [
              "<div>\n",
              "<style scoped>\n",
              "    .dataframe tbody tr th:only-of-type {\n",
              "        vertical-align: middle;\n",
              "    }\n",
              "\n",
              "    .dataframe tbody tr th {\n",
              "        vertical-align: top;\n",
              "    }\n",
              "\n",
              "    .dataframe thead th {\n",
              "        text-align: right;\n",
              "    }\n",
              "</style>\n",
              "<table border=\"1\" class=\"dataframe\">\n",
              "  <thead>\n",
              "    <tr style=\"text-align: right;\">\n",
              "      <th></th>\n",
              "      <th>sentence</th>\n",
              "      <th>aspect</th>\n",
              "      <th>opinion_word</th>\n",
              "      <th>relation</th>\n",
              "      <th>sentiment</th>\n",
              "    </tr>\n",
              "  </thead>\n",
              "  <tbody>\n",
              "    <tr>\n",
              "      <th>0</th>\n",
              "      <td>well well...so sorry! let`s dance  it`s fabul...</td>\n",
              "      <td>hobby</td>\n",
              "      <td>fabulous</td>\n",
              "      <td>amod</td>\n",
              "      <td>positive</td>\n",
              "    </tr>\n",
              "    <tr>\n",
              "      <th>1</th>\n",
              "      <td>that`s so weird seeing your MySpace page with...</td>\n",
              "      <td>page</td>\n",
              "      <td>seeing</td>\n",
              "      <td>dobj</td>\n",
              "      <td>negative</td>\n",
              "    </tr>\n",
              "    <tr>\n",
              "      <th>2</th>\n",
              "      <td>that`s so weird seeing your MySpace page with...</td>\n",
              "      <td>page</td>\n",
              "      <td>delete</td>\n",
              "      <td>dobj</td>\n",
              "      <td>negative</td>\n",
              "    </tr>\n",
              "    <tr>\n",
              "      <th>3</th>\n",
              "      <td>We want to trade with someone who has Houston...</td>\n",
              "      <td>tickets</td>\n",
              "      <td>has</td>\n",
              "      <td>dobj</td>\n",
              "      <td>negative</td>\n",
              "    </tr>\n",
              "    <tr>\n",
              "      <th>4</th>\n",
              "      <td>Hey, it was a GORGEOUS, day (and night) here,...</td>\n",
              "      <td>moon</td>\n",
              "      <td>full</td>\n",
              "      <td>amod</td>\n",
              "      <td>positive</td>\n",
              "    </tr>\n",
              "    <tr>\n",
              "      <th>5</th>\n",
              "      <td>Hey, it was a GORGEOUS, day (and night) here,...</td>\n",
              "      <td>moon</td>\n",
              "      <td>lit</td>\n",
              "      <td>nsubj</td>\n",
              "      <td>positive</td>\n",
              "    </tr>\n",
              "    <tr>\n",
              "      <th>6</th>\n",
              "      <td>Hey, it was a GORGEOUS, day (and night) here,...</td>\n",
              "      <td>way</td>\n",
              "      <td>lit</td>\n",
              "      <td>dobj</td>\n",
              "      <td>positive</td>\n",
              "    </tr>\n",
              "    <tr>\n",
              "      <th>7</th>\n",
              "      <td>i know! i just got off the phone with them. i...</td>\n",
              "      <td>hole</td>\n",
              "      <td>leave</td>\n",
              "      <td>dobj</td>\n",
              "      <td>negative</td>\n",
              "    </tr>\n",
              "    <tr>\n",
              "      <th>8</th>\n",
              "      <td>i know! i just got off the phone with them. i...</td>\n",
              "      <td>hole</td>\n",
              "      <td>giant</td>\n",
              "      <td>amod</td>\n",
              "      <td>negative</td>\n",
              "    </tr>\n",
              "    <tr>\n",
              "      <th>9</th>\n",
              "      <td>i know! i just got off the phone with them. i...</td>\n",
              "      <td>regions</td>\n",
              "      <td>closed</td>\n",
              "      <td>nsubj</td>\n",
              "      <td>negative</td>\n",
              "    </tr>\n",
              "    <tr>\n",
              "      <th>10</th>\n",
              "      <td>I`m watching some of your videos in YouTube. ...</td>\n",
              "      <td>i`m</td>\n",
              "      <td>watching</td>\n",
              "      <td>nsubj</td>\n",
              "      <td>positive</td>\n",
              "    </tr>\n",
              "    <tr>\n",
              "      <th>11</th>\n",
              "      <td>Happy mothers day everybody</td>\n",
              "      <td>mothers</td>\n",
              "      <td>happy</td>\n",
              "      <td>amod</td>\n",
              "      <td>positive</td>\n",
              "    </tr>\n",
              "    <tr>\n",
              "      <th>12</th>\n",
              "      <td>friends from Traveller`s Tales held a farewell...</td>\n",
              "      <td>friends</td>\n",
              "      <td>held</td>\n",
              "      <td>nsubj</td>\n",
              "      <td>negative</td>\n",
              "    </tr>\n",
              "    <tr>\n",
              "      <th>13</th>\n",
              "      <td>friends from Traveller`s Tales held a farewell...</td>\n",
              "      <td>party</td>\n",
              "      <td>held</td>\n",
              "      <td>dobj</td>\n",
              "      <td>negative</td>\n",
              "    </tr>\n",
              "    <tr>\n",
              "      <th>14</th>\n",
              "      <td>Hi John! Thanks for sharing that quote! It`s ...</td>\n",
              "      <td>quote</td>\n",
              "      <td>sharing</td>\n",
              "      <td>dobj</td>\n",
              "      <td>positive</td>\n",
              "    </tr>\n",
              "  </tbody>\n",
              "</table>\n",
              "</div>"
            ],
            "text/plain": [
              "                                             sentence   aspect opinion_word  \\\n",
              "0    well well...so sorry! let`s dance  it`s fabul...    hobby     fabulous   \n",
              "1    that`s so weird seeing your MySpace page with...     page       seeing   \n",
              "2    that`s so weird seeing your MySpace page with...     page       delete   \n",
              "3    We want to trade with someone who has Houston...  tickets          has   \n",
              "4    Hey, it was a GORGEOUS, day (and night) here,...     moon         full   \n",
              "5    Hey, it was a GORGEOUS, day (and night) here,...     moon          lit   \n",
              "6    Hey, it was a GORGEOUS, day (and night) here,...      way          lit   \n",
              "7    i know! i just got off the phone with them. i...     hole        leave   \n",
              "8    i know! i just got off the phone with them. i...     hole        giant   \n",
              "9    i know! i just got off the phone with them. i...  regions       closed   \n",
              "10   I`m watching some of your videos in YouTube. ...      i`m     watching   \n",
              "11                        Happy mothers day everybody  mothers        happy   \n",
              "12  friends from Traveller`s Tales held a farewell...  friends         held   \n",
              "13  friends from Traveller`s Tales held a farewell...    party         held   \n",
              "14   Hi John! Thanks for sharing that quote! It`s ...    quote      sharing   \n",
              "\n",
              "   relation sentiment  \n",
              "0      amod  positive  \n",
              "1      dobj  negative  \n",
              "2      dobj  negative  \n",
              "3      dobj  negative  \n",
              "4      amod  positive  \n",
              "5     nsubj  positive  \n",
              "6      dobj  positive  \n",
              "7      dobj  negative  \n",
              "8      amod  negative  \n",
              "9     nsubj  negative  \n",
              "10    nsubj  positive  \n",
              "11     amod  positive  \n",
              "12    nsubj  negative  \n",
              "13     dobj  negative  \n",
              "14     dobj  positive  "
            ]
          },
          "execution_count": 89,
          "metadata": {},
          "output_type": "execute_result"
        }
      ],
      "source": [
        "import spacy\n",
        "from nltk.sentiment import SentimentIntensityAnalyzer\n",
        "import pandas as pd\n",
        "\n",
        "# Load models\n",
        "nlp = spacy.load(\"en_core_web_sm\")\n",
        "sia = SentimentIntensityAnalyzer()\n",
        "\n",
        "# Store results\n",
        "absa_results = []\n",
        "\n",
        "# Sample 200 sentences (for performance)\n",
        "sample_texts = df['text'].dropna().sample(200, random_state=42).tolist()\n",
        "\n",
        "for sentence in sample_texts:\n",
        "    doc = nlp(sentence)\n",
        "\n",
        "    # Get overall sentiment of the sentence\n",
        "    sentiment_score = sia.polarity_scores(sentence)['compound']\n",
        "    if sentiment_score >= 0.05:\n",
        "        sent_label = 'positive'\n",
        "    elif sentiment_score <= -0.05:\n",
        "        sent_label = 'negative'\n",
        "    else:\n",
        "        sent_label = 'neutral'\n",
        "\n",
        "    # Extract aspects via opinion-based dependency parsing\n",
        "    for token in doc:\n",
        "        # Adjective modifying a noun\n",
        "        if token.dep_ == 'amod' and token.head.pos_ == 'NOUN':\n",
        "            absa_results.append({\n",
        "                'sentence': sentence,\n",
        "                'aspect': token.head.text.lower(),\n",
        "                'opinion_word': token.text.lower(),\n",
        "                'relation': 'amod',\n",
        "                'sentiment': sent_label\n",
        "            })\n",
        "\n",
        "        # Verb opinion towards a noun\n",
        "        elif token.pos_ == 'VERB':\n",
        "            for child in token.children:\n",
        "                if child.dep_ in ['dobj', 'nsubj'] and child.pos_ == 'NOUN':\n",
        "                    absa_results.append({\n",
        "                        'sentence': sentence,\n",
        "                        'aspect': child.text.lower(),\n",
        "                        'opinion_word': token.text.lower(),\n",
        "                        'relation': child.dep_,\n",
        "                        'sentiment': sent_label\n",
        "                    })\n",
        "\n",
        "# Convert to DataFrame\n",
        "absa_df = pd.DataFrame(absa_results)\n",
        "\n",
        "# Show preview\n",
        "absa_df.head(15)\n",
        "\n"
      ]
    }
  ],
  "metadata": {
    "accelerator": "GPU",
    "colab": {
      "gpuType": "T4",
      "provenance": []
    },
    "kernelspec": {
      "display_name": "airfrance_nlp",
      "language": "python",
      "name": "python3"
    },
    "language_info": {
      "codemirror_mode": {
        "name": "ipython",
        "version": 3
      },
      "file_extension": ".py",
      "mimetype": "text/x-python",
      "name": "python",
      "nbconvert_exporter": "python",
      "pygments_lexer": "ipython3",
      "version": "3.11.11"
    },
    "widgets": {
      "application/vnd.jupyter.widget-state+json": {
        "106ea81e51ff4c67b04ca6986070ad3d": {
          "model_module": "@jupyter-widgets/base",
          "model_module_version": "1.2.0",
          "model_name": "LayoutModel",
          "state": {
            "_model_module": "@jupyter-widgets/base",
            "_model_module_version": "1.2.0",
            "_model_name": "LayoutModel",
            "_view_count": null,
            "_view_module": "@jupyter-widgets/base",
            "_view_module_version": "1.2.0",
            "_view_name": "LayoutView",
            "align_content": null,
            "align_items": null,
            "align_self": null,
            "border": null,
            "bottom": null,
            "display": null,
            "flex": null,
            "flex_flow": null,
            "grid_area": null,
            "grid_auto_columns": null,
            "grid_auto_flow": null,
            "grid_auto_rows": null,
            "grid_column": null,
            "grid_gap": null,
            "grid_row": null,
            "grid_template_areas": null,
            "grid_template_columns": null,
            "grid_template_rows": null,
            "height": null,
            "justify_content": null,
            "justify_items": null,
            "left": null,
            "margin": null,
            "max_height": null,
            "max_width": null,
            "min_height": null,
            "min_width": null,
            "object_fit": null,
            "object_position": null,
            "order": null,
            "overflow": null,
            "overflow_x": null,
            "overflow_y": null,
            "padding": null,
            "right": null,
            "top": null,
            "visibility": null,
            "width": null
          }
        },
        "1ec755ecd26d4b30854924a94dfe9c18": {
          "model_module": "@jupyter-widgets/controls",
          "model_module_version": "1.5.0",
          "model_name": "HBoxModel",
          "state": {
            "_dom_classes": [],
            "_model_module": "@jupyter-widgets/controls",
            "_model_module_version": "1.5.0",
            "_model_name": "HBoxModel",
            "_view_count": null,
            "_view_module": "@jupyter-widgets/controls",
            "_view_module_version": "1.5.0",
            "_view_name": "HBoxView",
            "box_style": "",
            "children": [
              "IPY_MODEL_ad7822307e5f4b17976a7c19dada81fd",
              "IPY_MODEL_e6a804e07a124cd293bbe4e9499ea54e",
              "IPY_MODEL_4213f64738e349728aaf19cd9c4f796f"
            ],
            "layout": "IPY_MODEL_dab1cd67c0524c09a573dd800b5c063d"
          }
        },
        "269bc36984ec4a28b32e0e95ec3077f0": {
          "model_module": "@jupyter-widgets/base",
          "model_module_version": "1.2.0",
          "model_name": "LayoutModel",
          "state": {
            "_model_module": "@jupyter-widgets/base",
            "_model_module_version": "1.2.0",
            "_model_name": "LayoutModel",
            "_view_count": null,
            "_view_module": "@jupyter-widgets/base",
            "_view_module_version": "1.2.0",
            "_view_name": "LayoutView",
            "align_content": null,
            "align_items": null,
            "align_self": null,
            "border": null,
            "bottom": null,
            "display": null,
            "flex": null,
            "flex_flow": null,
            "grid_area": null,
            "grid_auto_columns": null,
            "grid_auto_flow": null,
            "grid_auto_rows": null,
            "grid_column": null,
            "grid_gap": null,
            "grid_row": null,
            "grid_template_areas": null,
            "grid_template_columns": null,
            "grid_template_rows": null,
            "height": null,
            "justify_content": null,
            "justify_items": null,
            "left": null,
            "margin": null,
            "max_height": null,
            "max_width": null,
            "min_height": null,
            "min_width": null,
            "object_fit": null,
            "object_position": null,
            "order": null,
            "overflow": null,
            "overflow_x": null,
            "overflow_y": null,
            "padding": null,
            "right": null,
            "top": null,
            "visibility": null,
            "width": null
          }
        },
        "2a94ec45877545de9c1fcd503b93918d": {
          "model_module": "@jupyter-widgets/controls",
          "model_module_version": "1.5.0",
          "model_name": "DescriptionStyleModel",
          "state": {
            "_model_module": "@jupyter-widgets/controls",
            "_model_module_version": "1.5.0",
            "_model_name": "DescriptionStyleModel",
            "_view_count": null,
            "_view_module": "@jupyter-widgets/base",
            "_view_module_version": "1.2.0",
            "_view_name": "StyleView",
            "description_width": ""
          }
        },
        "328fca513ebd408a9c68f5bf9093e84a": {
          "model_module": "@jupyter-widgets/base",
          "model_module_version": "1.2.0",
          "model_name": "LayoutModel",
          "state": {
            "_model_module": "@jupyter-widgets/base",
            "_model_module_version": "1.2.0",
            "_model_name": "LayoutModel",
            "_view_count": null,
            "_view_module": "@jupyter-widgets/base",
            "_view_module_version": "1.2.0",
            "_view_name": "LayoutView",
            "align_content": null,
            "align_items": null,
            "align_self": null,
            "border": null,
            "bottom": null,
            "display": null,
            "flex": null,
            "flex_flow": null,
            "grid_area": null,
            "grid_auto_columns": null,
            "grid_auto_flow": null,
            "grid_auto_rows": null,
            "grid_column": null,
            "grid_gap": null,
            "grid_row": null,
            "grid_template_areas": null,
            "grid_template_columns": null,
            "grid_template_rows": null,
            "height": null,
            "justify_content": null,
            "justify_items": null,
            "left": null,
            "margin": null,
            "max_height": null,
            "max_width": null,
            "min_height": null,
            "min_width": null,
            "object_fit": null,
            "object_position": null,
            "order": null,
            "overflow": null,
            "overflow_x": null,
            "overflow_y": null,
            "padding": null,
            "right": null,
            "top": null,
            "visibility": null,
            "width": null
          }
        },
        "3339241a3b734158abad0bd626b4bd5e": {
          "model_module": "@jupyter-widgets/base",
          "model_module_version": "1.2.0",
          "model_name": "LayoutModel",
          "state": {
            "_model_module": "@jupyter-widgets/base",
            "_model_module_version": "1.2.0",
            "_model_name": "LayoutModel",
            "_view_count": null,
            "_view_module": "@jupyter-widgets/base",
            "_view_module_version": "1.2.0",
            "_view_name": "LayoutView",
            "align_content": null,
            "align_items": null,
            "align_self": null,
            "border": null,
            "bottom": null,
            "display": null,
            "flex": null,
            "flex_flow": null,
            "grid_area": null,
            "grid_auto_columns": null,
            "grid_auto_flow": null,
            "grid_auto_rows": null,
            "grid_column": null,
            "grid_gap": null,
            "grid_row": null,
            "grid_template_areas": null,
            "grid_template_columns": null,
            "grid_template_rows": null,
            "height": null,
            "justify_content": null,
            "justify_items": null,
            "left": null,
            "margin": null,
            "max_height": null,
            "max_width": null,
            "min_height": null,
            "min_width": null,
            "object_fit": null,
            "object_position": null,
            "order": null,
            "overflow": null,
            "overflow_x": null,
            "overflow_y": null,
            "padding": null,
            "right": null,
            "top": null,
            "visibility": null,
            "width": null
          }
        },
        "36e48b9da49b491e9793f04f80a81c0f": {
          "model_module": "@jupyter-widgets/controls",
          "model_module_version": "1.5.0",
          "model_name": "ProgressStyleModel",
          "state": {
            "_model_module": "@jupyter-widgets/controls",
            "_model_module_version": "1.5.0",
            "_model_name": "ProgressStyleModel",
            "_view_count": null,
            "_view_module": "@jupyter-widgets/base",
            "_view_module_version": "1.2.0",
            "_view_name": "StyleView",
            "bar_color": null,
            "description_width": ""
          }
        },
        "39b9a11bec5846f3be26625082f368eb": {
          "model_module": "@jupyter-widgets/controls",
          "model_module_version": "1.5.0",
          "model_name": "DescriptionStyleModel",
          "state": {
            "_model_module": "@jupyter-widgets/controls",
            "_model_module_version": "1.5.0",
            "_model_name": "DescriptionStyleModel",
            "_view_count": null,
            "_view_module": "@jupyter-widgets/base",
            "_view_module_version": "1.2.0",
            "_view_name": "StyleView",
            "description_width": ""
          }
        },
        "3b436fccf3a744749ce71cc08e8afedb": {
          "model_module": "@jupyter-widgets/base",
          "model_module_version": "1.2.0",
          "model_name": "LayoutModel",
          "state": {
            "_model_module": "@jupyter-widgets/base",
            "_model_module_version": "1.2.0",
            "_model_name": "LayoutModel",
            "_view_count": null,
            "_view_module": "@jupyter-widgets/base",
            "_view_module_version": "1.2.0",
            "_view_name": "LayoutView",
            "align_content": null,
            "align_items": null,
            "align_self": null,
            "border": null,
            "bottom": null,
            "display": null,
            "flex": null,
            "flex_flow": null,
            "grid_area": null,
            "grid_auto_columns": null,
            "grid_auto_flow": null,
            "grid_auto_rows": null,
            "grid_column": null,
            "grid_gap": null,
            "grid_row": null,
            "grid_template_areas": null,
            "grid_template_columns": null,
            "grid_template_rows": null,
            "height": null,
            "justify_content": null,
            "justify_items": null,
            "left": null,
            "margin": null,
            "max_height": null,
            "max_width": null,
            "min_height": null,
            "min_width": null,
            "object_fit": null,
            "object_position": null,
            "order": null,
            "overflow": null,
            "overflow_x": null,
            "overflow_y": null,
            "padding": null,
            "right": null,
            "top": null,
            "visibility": null,
            "width": null
          }
        },
        "3fd6e187c6d540f5a708a76f10ea8e6c": {
          "model_module": "@jupyter-widgets/base",
          "model_module_version": "1.2.0",
          "model_name": "LayoutModel",
          "state": {
            "_model_module": "@jupyter-widgets/base",
            "_model_module_version": "1.2.0",
            "_model_name": "LayoutModel",
            "_view_count": null,
            "_view_module": "@jupyter-widgets/base",
            "_view_module_version": "1.2.0",
            "_view_name": "LayoutView",
            "align_content": null,
            "align_items": null,
            "align_self": null,
            "border": null,
            "bottom": null,
            "display": null,
            "flex": null,
            "flex_flow": null,
            "grid_area": null,
            "grid_auto_columns": null,
            "grid_auto_flow": null,
            "grid_auto_rows": null,
            "grid_column": null,
            "grid_gap": null,
            "grid_row": null,
            "grid_template_areas": null,
            "grid_template_columns": null,
            "grid_template_rows": null,
            "height": null,
            "justify_content": null,
            "justify_items": null,
            "left": null,
            "margin": null,
            "max_height": null,
            "max_width": null,
            "min_height": null,
            "min_width": null,
            "object_fit": null,
            "object_position": null,
            "order": null,
            "overflow": null,
            "overflow_x": null,
            "overflow_y": null,
            "padding": null,
            "right": null,
            "top": null,
            "visibility": null,
            "width": null
          }
        },
        "4213f64738e349728aaf19cd9c4f796f": {
          "model_module": "@jupyter-widgets/controls",
          "model_module_version": "1.5.0",
          "model_name": "HTMLModel",
          "state": {
            "_dom_classes": [],
            "_model_module": "@jupyter-widgets/controls",
            "_model_module_version": "1.5.0",
            "_model_name": "HTMLModel",
            "_view_count": null,
            "_view_module": "@jupyter-widgets/controls",
            "_view_module_version": "1.5.0",
            "_view_name": "HTMLView",
            "description": "",
            "description_tooltip": null,
            "layout": "IPY_MODEL_d8ac78f4646e4e0f87f5a3989a75547f",
            "placeholder": "​",
            "style": "IPY_MODEL_39b9a11bec5846f3be26625082f368eb",
            "value": " 483/483 [00:00&lt;00:00, 47.0kB/s]"
          }
        },
        "50707f76920e45a6ad13ca5c97af6ba5": {
          "model_module": "@jupyter-widgets/controls",
          "model_module_version": "1.5.0",
          "model_name": "HTMLModel",
          "state": {
            "_dom_classes": [],
            "_model_module": "@jupyter-widgets/controls",
            "_model_module_version": "1.5.0",
            "_model_name": "HTMLModel",
            "_view_count": null,
            "_view_module": "@jupyter-widgets/controls",
            "_view_module_version": "1.5.0",
            "_view_name": "HTMLView",
            "description": "",
            "description_tooltip": null,
            "layout": "IPY_MODEL_c451fe4a79d841588ec7b0d81e5ca5b5",
            "placeholder": "​",
            "style": "IPY_MODEL_5c2ad872a2594ec395e7d9e2513f937d",
            "value": " 232k/232k [00:00&lt;00:00, 2.47MB/s]"
          }
        },
        "50bcf5cc0af7496d9d4025e3fed75696": {
          "model_module": "@jupyter-widgets/base",
          "model_module_version": "1.2.0",
          "model_name": "LayoutModel",
          "state": {
            "_model_module": "@jupyter-widgets/base",
            "_model_module_version": "1.2.0",
            "_model_name": "LayoutModel",
            "_view_count": null,
            "_view_module": "@jupyter-widgets/base",
            "_view_module_version": "1.2.0",
            "_view_name": "LayoutView",
            "align_content": null,
            "align_items": null,
            "align_self": null,
            "border": null,
            "bottom": null,
            "display": null,
            "flex": null,
            "flex_flow": null,
            "grid_area": null,
            "grid_auto_columns": null,
            "grid_auto_flow": null,
            "grid_auto_rows": null,
            "grid_column": null,
            "grid_gap": null,
            "grid_row": null,
            "grid_template_areas": null,
            "grid_template_columns": null,
            "grid_template_rows": null,
            "height": null,
            "justify_content": null,
            "justify_items": null,
            "left": null,
            "margin": null,
            "max_height": null,
            "max_width": null,
            "min_height": null,
            "min_width": null,
            "object_fit": null,
            "object_position": null,
            "order": null,
            "overflow": null,
            "overflow_x": null,
            "overflow_y": null,
            "padding": null,
            "right": null,
            "top": null,
            "visibility": null,
            "width": null
          }
        },
        "5475da778b7041bb837b8d0374e86a10": {
          "model_module": "@jupyter-widgets/base",
          "model_module_version": "1.2.0",
          "model_name": "LayoutModel",
          "state": {
            "_model_module": "@jupyter-widgets/base",
            "_model_module_version": "1.2.0",
            "_model_name": "LayoutModel",
            "_view_count": null,
            "_view_module": "@jupyter-widgets/base",
            "_view_module_version": "1.2.0",
            "_view_name": "LayoutView",
            "align_content": null,
            "align_items": null,
            "align_self": null,
            "border": null,
            "bottom": null,
            "display": null,
            "flex": null,
            "flex_flow": null,
            "grid_area": null,
            "grid_auto_columns": null,
            "grid_auto_flow": null,
            "grid_auto_rows": null,
            "grid_column": null,
            "grid_gap": null,
            "grid_row": null,
            "grid_template_areas": null,
            "grid_template_columns": null,
            "grid_template_rows": null,
            "height": null,
            "justify_content": null,
            "justify_items": null,
            "left": null,
            "margin": null,
            "max_height": null,
            "max_width": null,
            "min_height": null,
            "min_width": null,
            "object_fit": null,
            "object_position": null,
            "order": null,
            "overflow": null,
            "overflow_x": null,
            "overflow_y": null,
            "padding": null,
            "right": null,
            "top": null,
            "visibility": null,
            "width": null
          }
        },
        "5753386f6fcc4c6185cc1917db6c7ef9": {
          "model_module": "@jupyter-widgets/base",
          "model_module_version": "1.2.0",
          "model_name": "LayoutModel",
          "state": {
            "_model_module": "@jupyter-widgets/base",
            "_model_module_version": "1.2.0",
            "_model_name": "LayoutModel",
            "_view_count": null,
            "_view_module": "@jupyter-widgets/base",
            "_view_module_version": "1.2.0",
            "_view_name": "LayoutView",
            "align_content": null,
            "align_items": null,
            "align_self": null,
            "border": null,
            "bottom": null,
            "display": null,
            "flex": null,
            "flex_flow": null,
            "grid_area": null,
            "grid_auto_columns": null,
            "grid_auto_flow": null,
            "grid_auto_rows": null,
            "grid_column": null,
            "grid_gap": null,
            "grid_row": null,
            "grid_template_areas": null,
            "grid_template_columns": null,
            "grid_template_rows": null,
            "height": null,
            "justify_content": null,
            "justify_items": null,
            "left": null,
            "margin": null,
            "max_height": null,
            "max_width": null,
            "min_height": null,
            "min_width": null,
            "object_fit": null,
            "object_position": null,
            "order": null,
            "overflow": null,
            "overflow_x": null,
            "overflow_y": null,
            "padding": null,
            "right": null,
            "top": null,
            "visibility": null,
            "width": null
          }
        },
        "5a618c3451f54bd8bd7aee5a36ecb24d": {
          "model_module": "@jupyter-widgets/controls",
          "model_module_version": "1.5.0",
          "model_name": "DescriptionStyleModel",
          "state": {
            "_model_module": "@jupyter-widgets/controls",
            "_model_module_version": "1.5.0",
            "_model_name": "DescriptionStyleModel",
            "_view_count": null,
            "_view_module": "@jupyter-widgets/base",
            "_view_module_version": "1.2.0",
            "_view_name": "StyleView",
            "description_width": ""
          }
        },
        "5c2ad872a2594ec395e7d9e2513f937d": {
          "model_module": "@jupyter-widgets/controls",
          "model_module_version": "1.5.0",
          "model_name": "DescriptionStyleModel",
          "state": {
            "_model_module": "@jupyter-widgets/controls",
            "_model_module_version": "1.5.0",
            "_model_name": "DescriptionStyleModel",
            "_view_count": null,
            "_view_module": "@jupyter-widgets/base",
            "_view_module_version": "1.2.0",
            "_view_name": "StyleView",
            "description_width": ""
          }
        },
        "5c6682af4c05420481b93630aa22fa92": {
          "model_module": "@jupyter-widgets/controls",
          "model_module_version": "1.5.0",
          "model_name": "HTMLModel",
          "state": {
            "_dom_classes": [],
            "_model_module": "@jupyter-widgets/controls",
            "_model_module_version": "1.5.0",
            "_model_name": "HTMLModel",
            "_view_count": null,
            "_view_module": "@jupyter-widgets/controls",
            "_view_module_version": "1.5.0",
            "_view_name": "HTMLView",
            "description": "",
            "description_tooltip": null,
            "layout": "IPY_MODEL_77ca034df4e64b3eaf485ad033a74802",
            "placeholder": "​",
            "style": "IPY_MODEL_5d75625eccb449a6802e81554fbd128c",
            "value": " 466k/466k [00:00&lt;00:00, 2.82MB/s]"
          }
        },
        "5d75625eccb449a6802e81554fbd128c": {
          "model_module": "@jupyter-widgets/controls",
          "model_module_version": "1.5.0",
          "model_name": "DescriptionStyleModel",
          "state": {
            "_model_module": "@jupyter-widgets/controls",
            "_model_module_version": "1.5.0",
            "_model_name": "DescriptionStyleModel",
            "_view_count": null,
            "_view_module": "@jupyter-widgets/base",
            "_view_module_version": "1.2.0",
            "_view_name": "StyleView",
            "description_width": ""
          }
        },
        "61b17fb1e6f7467fa9f360b027e2f9c2": {
          "model_module": "@jupyter-widgets/controls",
          "model_module_version": "1.5.0",
          "model_name": "DescriptionStyleModel",
          "state": {
            "_model_module": "@jupyter-widgets/controls",
            "_model_module_version": "1.5.0",
            "_model_name": "DescriptionStyleModel",
            "_view_count": null,
            "_view_module": "@jupyter-widgets/base",
            "_view_module_version": "1.2.0",
            "_view_name": "StyleView",
            "description_width": ""
          }
        },
        "66021b4bc3164eb58d9b26e845fdca4c": {
          "model_module": "@jupyter-widgets/base",
          "model_module_version": "1.2.0",
          "model_name": "LayoutModel",
          "state": {
            "_model_module": "@jupyter-widgets/base",
            "_model_module_version": "1.2.0",
            "_model_name": "LayoutModel",
            "_view_count": null,
            "_view_module": "@jupyter-widgets/base",
            "_view_module_version": "1.2.0",
            "_view_name": "LayoutView",
            "align_content": null,
            "align_items": null,
            "align_self": null,
            "border": null,
            "bottom": null,
            "display": null,
            "flex": null,
            "flex_flow": null,
            "grid_area": null,
            "grid_auto_columns": null,
            "grid_auto_flow": null,
            "grid_auto_rows": null,
            "grid_column": null,
            "grid_gap": null,
            "grid_row": null,
            "grid_template_areas": null,
            "grid_template_columns": null,
            "grid_template_rows": null,
            "height": null,
            "justify_content": null,
            "justify_items": null,
            "left": null,
            "margin": null,
            "max_height": null,
            "max_width": null,
            "min_height": null,
            "min_width": null,
            "object_fit": null,
            "object_position": null,
            "order": null,
            "overflow": null,
            "overflow_x": null,
            "overflow_y": null,
            "padding": null,
            "right": null,
            "top": null,
            "visibility": null,
            "width": null
          }
        },
        "74720f78f0ed4bb19a17a5f137f8340d": {
          "model_module": "@jupyter-widgets/base",
          "model_module_version": "1.2.0",
          "model_name": "LayoutModel",
          "state": {
            "_model_module": "@jupyter-widgets/base",
            "_model_module_version": "1.2.0",
            "_model_name": "LayoutModel",
            "_view_count": null,
            "_view_module": "@jupyter-widgets/base",
            "_view_module_version": "1.2.0",
            "_view_name": "LayoutView",
            "align_content": null,
            "align_items": null,
            "align_self": null,
            "border": null,
            "bottom": null,
            "display": null,
            "flex": null,
            "flex_flow": null,
            "grid_area": null,
            "grid_auto_columns": null,
            "grid_auto_flow": null,
            "grid_auto_rows": null,
            "grid_column": null,
            "grid_gap": null,
            "grid_row": null,
            "grid_template_areas": null,
            "grid_template_columns": null,
            "grid_template_rows": null,
            "height": null,
            "justify_content": null,
            "justify_items": null,
            "left": null,
            "margin": null,
            "max_height": null,
            "max_width": null,
            "min_height": null,
            "min_width": null,
            "object_fit": null,
            "object_position": null,
            "order": null,
            "overflow": null,
            "overflow_x": null,
            "overflow_y": null,
            "padding": null,
            "right": null,
            "top": null,
            "visibility": null,
            "width": null
          }
        },
        "75dbdf3b1c364c0ea6e45dd8cc279aa3": {
          "model_module": "@jupyter-widgets/controls",
          "model_module_version": "1.5.0",
          "model_name": "HBoxModel",
          "state": {
            "_dom_classes": [],
            "_model_module": "@jupyter-widgets/controls",
            "_model_module_version": "1.5.0",
            "_model_name": "HBoxModel",
            "_view_count": null,
            "_view_module": "@jupyter-widgets/controls",
            "_view_module_version": "1.5.0",
            "_view_name": "HBoxView",
            "box_style": "",
            "children": [
              "IPY_MODEL_a1d3c34fa32148fc915e2fe592e65a92",
              "IPY_MODEL_e573f0f9d4964aa0b38058fae25a8d0f",
              "IPY_MODEL_bc502f2cdd904e75bc07aac6075c7fb9"
            ],
            "layout": "IPY_MODEL_328fca513ebd408a9c68f5bf9093e84a"
          }
        },
        "77ca034df4e64b3eaf485ad033a74802": {
          "model_module": "@jupyter-widgets/base",
          "model_module_version": "1.2.0",
          "model_name": "LayoutModel",
          "state": {
            "_model_module": "@jupyter-widgets/base",
            "_model_module_version": "1.2.0",
            "_model_name": "LayoutModel",
            "_view_count": null,
            "_view_module": "@jupyter-widgets/base",
            "_view_module_version": "1.2.0",
            "_view_name": "LayoutView",
            "align_content": null,
            "align_items": null,
            "align_self": null,
            "border": null,
            "bottom": null,
            "display": null,
            "flex": null,
            "flex_flow": null,
            "grid_area": null,
            "grid_auto_columns": null,
            "grid_auto_flow": null,
            "grid_auto_rows": null,
            "grid_column": null,
            "grid_gap": null,
            "grid_row": null,
            "grid_template_areas": null,
            "grid_template_columns": null,
            "grid_template_rows": null,
            "height": null,
            "justify_content": null,
            "justify_items": null,
            "left": null,
            "margin": null,
            "max_height": null,
            "max_width": null,
            "min_height": null,
            "min_width": null,
            "object_fit": null,
            "object_position": null,
            "order": null,
            "overflow": null,
            "overflow_x": null,
            "overflow_y": null,
            "padding": null,
            "right": null,
            "top": null,
            "visibility": null,
            "width": null
          }
        },
        "7feff08181a04b95965228a29105856c": {
          "model_module": "@jupyter-widgets/controls",
          "model_module_version": "1.5.0",
          "model_name": "HBoxModel",
          "state": {
            "_dom_classes": [],
            "_model_module": "@jupyter-widgets/controls",
            "_model_module_version": "1.5.0",
            "_model_name": "HBoxModel",
            "_view_count": null,
            "_view_module": "@jupyter-widgets/controls",
            "_view_module_version": "1.5.0",
            "_view_name": "HBoxView",
            "box_style": "",
            "children": [
              "IPY_MODEL_d584e225def84f2b964bc63e946ea20f",
              "IPY_MODEL_e82555ae169c4b9183121a932bf12a7c",
              "IPY_MODEL_5c6682af4c05420481b93630aa22fa92"
            ],
            "layout": "IPY_MODEL_3339241a3b734158abad0bd626b4bd5e"
          }
        },
        "835f74a76c564f649cee31a775f2ffad": {
          "model_module": "@jupyter-widgets/base",
          "model_module_version": "1.2.0",
          "model_name": "LayoutModel",
          "state": {
            "_model_module": "@jupyter-widgets/base",
            "_model_module_version": "1.2.0",
            "_model_name": "LayoutModel",
            "_view_count": null,
            "_view_module": "@jupyter-widgets/base",
            "_view_module_version": "1.2.0",
            "_view_name": "LayoutView",
            "align_content": null,
            "align_items": null,
            "align_self": null,
            "border": null,
            "bottom": null,
            "display": null,
            "flex": null,
            "flex_flow": null,
            "grid_area": null,
            "grid_auto_columns": null,
            "grid_auto_flow": null,
            "grid_auto_rows": null,
            "grid_column": null,
            "grid_gap": null,
            "grid_row": null,
            "grid_template_areas": null,
            "grid_template_columns": null,
            "grid_template_rows": null,
            "height": null,
            "justify_content": null,
            "justify_items": null,
            "left": null,
            "margin": null,
            "max_height": null,
            "max_width": null,
            "min_height": null,
            "min_width": null,
            "object_fit": null,
            "object_position": null,
            "order": null,
            "overflow": null,
            "overflow_x": null,
            "overflow_y": null,
            "padding": null,
            "right": null,
            "top": null,
            "visibility": null,
            "width": null
          }
        },
        "981c324ae3c1437c870af907b76387ab": {
          "model_module": "@jupyter-widgets/controls",
          "model_module_version": "1.5.0",
          "model_name": "HTMLModel",
          "state": {
            "_dom_classes": [],
            "_model_module": "@jupyter-widgets/controls",
            "_model_module_version": "1.5.0",
            "_model_name": "HTMLModel",
            "_view_count": null,
            "_view_module": "@jupyter-widgets/controls",
            "_view_module_version": "1.5.0",
            "_view_name": "HTMLView",
            "description": "",
            "description_tooltip": null,
            "layout": "IPY_MODEL_adbe09b578944bdd83a0788ff66dd458",
            "placeholder": "​",
            "style": "IPY_MODEL_5a618c3451f54bd8bd7aee5a36ecb24d",
            "value": "vocab.txt: 100%"
          }
        },
        "9a053783fabc4fa7818019a3b9d3f340": {
          "model_module": "@jupyter-widgets/controls",
          "model_module_version": "1.5.0",
          "model_name": "HTMLModel",
          "state": {
            "_dom_classes": [],
            "_model_module": "@jupyter-widgets/controls",
            "_model_module_version": "1.5.0",
            "_model_name": "HTMLModel",
            "_view_count": null,
            "_view_module": "@jupyter-widgets/controls",
            "_view_module_version": "1.5.0",
            "_view_name": "HTMLView",
            "description": "",
            "description_tooltip": null,
            "layout": "IPY_MODEL_bda41741306a44c9ad4fd2bdca851b27",
            "placeholder": "​",
            "style": "IPY_MODEL_61b17fb1e6f7467fa9f360b027e2f9c2",
            "value": "model.safetensors: 100%"
          }
        },
        "a1d3c34fa32148fc915e2fe592e65a92": {
          "model_module": "@jupyter-widgets/controls",
          "model_module_version": "1.5.0",
          "model_name": "HTMLModel",
          "state": {
            "_dom_classes": [],
            "_model_module": "@jupyter-widgets/controls",
            "_model_module_version": "1.5.0",
            "_model_name": "HTMLModel",
            "_view_count": null,
            "_view_module": "@jupyter-widgets/controls",
            "_view_module_version": "1.5.0",
            "_view_name": "HTMLView",
            "description": "",
            "description_tooltip": null,
            "layout": "IPY_MODEL_5475da778b7041bb837b8d0374e86a10",
            "placeholder": "​",
            "style": "IPY_MODEL_f404ecbc62d5475aa1a8011f340b771d",
            "value": "tokenizer_config.json: 100%"
          }
        },
        "a2e4ecd8f0364f1eaa2ea9cc036390b0": {
          "model_module": "@jupyter-widgets/controls",
          "model_module_version": "1.5.0",
          "model_name": "ProgressStyleModel",
          "state": {
            "_model_module": "@jupyter-widgets/controls",
            "_model_module_version": "1.5.0",
            "_model_name": "ProgressStyleModel",
            "_view_count": null,
            "_view_module": "@jupyter-widgets/base",
            "_view_module_version": "1.2.0",
            "_view_name": "StyleView",
            "bar_color": null,
            "description_width": ""
          }
        },
        "a43a0115e0f64619bfb1aa4306eacd1f": {
          "model_module": "@jupyter-widgets/controls",
          "model_module_version": "1.5.0",
          "model_name": "DescriptionStyleModel",
          "state": {
            "_model_module": "@jupyter-widgets/controls",
            "_model_module_version": "1.5.0",
            "_model_name": "DescriptionStyleModel",
            "_view_count": null,
            "_view_module": "@jupyter-widgets/base",
            "_view_module_version": "1.2.0",
            "_view_name": "StyleView",
            "description_width": ""
          }
        },
        "a46273b93c5e43efbc1fdeaa7342a9a7": {
          "model_module": "@jupyter-widgets/controls",
          "model_module_version": "1.5.0",
          "model_name": "ProgressStyleModel",
          "state": {
            "_model_module": "@jupyter-widgets/controls",
            "_model_module_version": "1.5.0",
            "_model_name": "ProgressStyleModel",
            "_view_count": null,
            "_view_module": "@jupyter-widgets/base",
            "_view_module_version": "1.2.0",
            "_view_name": "StyleView",
            "bar_color": null,
            "description_width": ""
          }
        },
        "ad7822307e5f4b17976a7c19dada81fd": {
          "model_module": "@jupyter-widgets/controls",
          "model_module_version": "1.5.0",
          "model_name": "HTMLModel",
          "state": {
            "_dom_classes": [],
            "_model_module": "@jupyter-widgets/controls",
            "_model_module_version": "1.5.0",
            "_model_name": "HTMLModel",
            "_view_count": null,
            "_view_module": "@jupyter-widgets/controls",
            "_view_module_version": "1.5.0",
            "_view_name": "HTMLView",
            "description": "",
            "description_tooltip": null,
            "layout": "IPY_MODEL_3b436fccf3a744749ce71cc08e8afedb",
            "placeholder": "​",
            "style": "IPY_MODEL_e712ff2885e04d7ca7fbd1391897d90c",
            "value": "config.json: 100%"
          }
        },
        "adbe09b578944bdd83a0788ff66dd458": {
          "model_module": "@jupyter-widgets/base",
          "model_module_version": "1.2.0",
          "model_name": "LayoutModel",
          "state": {
            "_model_module": "@jupyter-widgets/base",
            "_model_module_version": "1.2.0",
            "_model_name": "LayoutModel",
            "_view_count": null,
            "_view_module": "@jupyter-widgets/base",
            "_view_module_version": "1.2.0",
            "_view_name": "LayoutView",
            "align_content": null,
            "align_items": null,
            "align_self": null,
            "border": null,
            "bottom": null,
            "display": null,
            "flex": null,
            "flex_flow": null,
            "grid_area": null,
            "grid_auto_columns": null,
            "grid_auto_flow": null,
            "grid_auto_rows": null,
            "grid_column": null,
            "grid_gap": null,
            "grid_row": null,
            "grid_template_areas": null,
            "grid_template_columns": null,
            "grid_template_rows": null,
            "height": null,
            "justify_content": null,
            "justify_items": null,
            "left": null,
            "margin": null,
            "max_height": null,
            "max_width": null,
            "min_height": null,
            "min_width": null,
            "object_fit": null,
            "object_position": null,
            "order": null,
            "overflow": null,
            "overflow_x": null,
            "overflow_y": null,
            "padding": null,
            "right": null,
            "top": null,
            "visibility": null,
            "width": null
          }
        },
        "afd0297953e041a49c4d7a7fc340988c": {
          "model_module": "@jupyter-widgets/controls",
          "model_module_version": "1.5.0",
          "model_name": "FloatProgressModel",
          "state": {
            "_dom_classes": [],
            "_model_module": "@jupyter-widgets/controls",
            "_model_module_version": "1.5.0",
            "_model_name": "FloatProgressModel",
            "_view_count": null,
            "_view_module": "@jupyter-widgets/controls",
            "_view_module_version": "1.5.0",
            "_view_name": "ProgressView",
            "bar_style": "success",
            "description": "",
            "description_tooltip": null,
            "layout": "IPY_MODEL_835f74a76c564f649cee31a775f2ffad",
            "max": 267954768,
            "min": 0,
            "orientation": "horizontal",
            "style": "IPY_MODEL_36e48b9da49b491e9793f04f80a81c0f",
            "value": 267954768
          }
        },
        "b5c127a41392406f9dbaf5fb63fcd3c2": {
          "model_module": "@jupyter-widgets/controls",
          "model_module_version": "1.5.0",
          "model_name": "ProgressStyleModel",
          "state": {
            "_model_module": "@jupyter-widgets/controls",
            "_model_module_version": "1.5.0",
            "_model_name": "ProgressStyleModel",
            "_view_count": null,
            "_view_module": "@jupyter-widgets/base",
            "_view_module_version": "1.2.0",
            "_view_name": "StyleView",
            "bar_color": null,
            "description_width": ""
          }
        },
        "bc502f2cdd904e75bc07aac6075c7fb9": {
          "model_module": "@jupyter-widgets/controls",
          "model_module_version": "1.5.0",
          "model_name": "HTMLModel",
          "state": {
            "_dom_classes": [],
            "_model_module": "@jupyter-widgets/controls",
            "_model_module_version": "1.5.0",
            "_model_name": "HTMLModel",
            "_view_count": null,
            "_view_module": "@jupyter-widgets/controls",
            "_view_module_version": "1.5.0",
            "_view_name": "HTMLView",
            "description": "",
            "description_tooltip": null,
            "layout": "IPY_MODEL_74720f78f0ed4bb19a17a5f137f8340d",
            "placeholder": "​",
            "style": "IPY_MODEL_c7dd84b98be341dabe76b2e07cb5502f",
            "value": " 48.0/48.0 [00:00&lt;00:00, 4.89kB/s]"
          }
        },
        "bda41741306a44c9ad4fd2bdca851b27": {
          "model_module": "@jupyter-widgets/base",
          "model_module_version": "1.2.0",
          "model_name": "LayoutModel",
          "state": {
            "_model_module": "@jupyter-widgets/base",
            "_model_module_version": "1.2.0",
            "_model_name": "LayoutModel",
            "_view_count": null,
            "_view_module": "@jupyter-widgets/base",
            "_view_module_version": "1.2.0",
            "_view_name": "LayoutView",
            "align_content": null,
            "align_items": null,
            "align_self": null,
            "border": null,
            "bottom": null,
            "display": null,
            "flex": null,
            "flex_flow": null,
            "grid_area": null,
            "grid_auto_columns": null,
            "grid_auto_flow": null,
            "grid_auto_rows": null,
            "grid_column": null,
            "grid_gap": null,
            "grid_row": null,
            "grid_template_areas": null,
            "grid_template_columns": null,
            "grid_template_rows": null,
            "height": null,
            "justify_content": null,
            "justify_items": null,
            "left": null,
            "margin": null,
            "max_height": null,
            "max_width": null,
            "min_height": null,
            "min_width": null,
            "object_fit": null,
            "object_position": null,
            "order": null,
            "overflow": null,
            "overflow_x": null,
            "overflow_y": null,
            "padding": null,
            "right": null,
            "top": null,
            "visibility": null,
            "width": null
          }
        },
        "be0cdd3d34384231a910007658ae23c9": {
          "model_module": "@jupyter-widgets/base",
          "model_module_version": "1.2.0",
          "model_name": "LayoutModel",
          "state": {
            "_model_module": "@jupyter-widgets/base",
            "_model_module_version": "1.2.0",
            "_model_name": "LayoutModel",
            "_view_count": null,
            "_view_module": "@jupyter-widgets/base",
            "_view_module_version": "1.2.0",
            "_view_name": "LayoutView",
            "align_content": null,
            "align_items": null,
            "align_self": null,
            "border": null,
            "bottom": null,
            "display": null,
            "flex": null,
            "flex_flow": null,
            "grid_area": null,
            "grid_auto_columns": null,
            "grid_auto_flow": null,
            "grid_auto_rows": null,
            "grid_column": null,
            "grid_gap": null,
            "grid_row": null,
            "grid_template_areas": null,
            "grid_template_columns": null,
            "grid_template_rows": null,
            "height": null,
            "justify_content": null,
            "justify_items": null,
            "left": null,
            "margin": null,
            "max_height": null,
            "max_width": null,
            "min_height": null,
            "min_width": null,
            "object_fit": null,
            "object_position": null,
            "order": null,
            "overflow": null,
            "overflow_x": null,
            "overflow_y": null,
            "padding": null,
            "right": null,
            "top": null,
            "visibility": null,
            "width": null
          }
        },
        "c3cd2b15afb14180b2fe60d03a7fe724": {
          "model_module": "@jupyter-widgets/controls",
          "model_module_version": "1.5.0",
          "model_name": "HBoxModel",
          "state": {
            "_dom_classes": [],
            "_model_module": "@jupyter-widgets/controls",
            "_model_module_version": "1.5.0",
            "_model_name": "HBoxModel",
            "_view_count": null,
            "_view_module": "@jupyter-widgets/controls",
            "_view_module_version": "1.5.0",
            "_view_name": "HBoxView",
            "box_style": "",
            "children": [
              "IPY_MODEL_981c324ae3c1437c870af907b76387ab",
              "IPY_MODEL_c92590a52c544d8c97c9ae1b6f5d1ef0",
              "IPY_MODEL_50707f76920e45a6ad13ca5c97af6ba5"
            ],
            "layout": "IPY_MODEL_50bcf5cc0af7496d9d4025e3fed75696"
          }
        },
        "c451fe4a79d841588ec7b0d81e5ca5b5": {
          "model_module": "@jupyter-widgets/base",
          "model_module_version": "1.2.0",
          "model_name": "LayoutModel",
          "state": {
            "_model_module": "@jupyter-widgets/base",
            "_model_module_version": "1.2.0",
            "_model_name": "LayoutModel",
            "_view_count": null,
            "_view_module": "@jupyter-widgets/base",
            "_view_module_version": "1.2.0",
            "_view_name": "LayoutView",
            "align_content": null,
            "align_items": null,
            "align_self": null,
            "border": null,
            "bottom": null,
            "display": null,
            "flex": null,
            "flex_flow": null,
            "grid_area": null,
            "grid_auto_columns": null,
            "grid_auto_flow": null,
            "grid_auto_rows": null,
            "grid_column": null,
            "grid_gap": null,
            "grid_row": null,
            "grid_template_areas": null,
            "grid_template_columns": null,
            "grid_template_rows": null,
            "height": null,
            "justify_content": null,
            "justify_items": null,
            "left": null,
            "margin": null,
            "max_height": null,
            "max_width": null,
            "min_height": null,
            "min_width": null,
            "object_fit": null,
            "object_position": null,
            "order": null,
            "overflow": null,
            "overflow_x": null,
            "overflow_y": null,
            "padding": null,
            "right": null,
            "top": null,
            "visibility": null,
            "width": null
          }
        },
        "c7dd84b98be341dabe76b2e07cb5502f": {
          "model_module": "@jupyter-widgets/controls",
          "model_module_version": "1.5.0",
          "model_name": "DescriptionStyleModel",
          "state": {
            "_model_module": "@jupyter-widgets/controls",
            "_model_module_version": "1.5.0",
            "_model_name": "DescriptionStyleModel",
            "_view_count": null,
            "_view_module": "@jupyter-widgets/base",
            "_view_module_version": "1.2.0",
            "_view_name": "StyleView",
            "description_width": ""
          }
        },
        "c92590a52c544d8c97c9ae1b6f5d1ef0": {
          "model_module": "@jupyter-widgets/controls",
          "model_module_version": "1.5.0",
          "model_name": "FloatProgressModel",
          "state": {
            "_dom_classes": [],
            "_model_module": "@jupyter-widgets/controls",
            "_model_module_version": "1.5.0",
            "_model_name": "FloatProgressModel",
            "_view_count": null,
            "_view_module": "@jupyter-widgets/controls",
            "_view_module_version": "1.5.0",
            "_view_name": "ProgressView",
            "bar_style": "success",
            "description": "",
            "description_tooltip": null,
            "layout": "IPY_MODEL_5753386f6fcc4c6185cc1917db6c7ef9",
            "max": 231508,
            "min": 0,
            "orientation": "horizontal",
            "style": "IPY_MODEL_e5fd812edf244c989bb49da95dbbf238",
            "value": 231508
          }
        },
        "ce41298f42d244c78e6b87101070d6ad": {
          "model_module": "@jupyter-widgets/base",
          "model_module_version": "1.2.0",
          "model_name": "LayoutModel",
          "state": {
            "_model_module": "@jupyter-widgets/base",
            "_model_module_version": "1.2.0",
            "_model_name": "LayoutModel",
            "_view_count": null,
            "_view_module": "@jupyter-widgets/base",
            "_view_module_version": "1.2.0",
            "_view_name": "LayoutView",
            "align_content": null,
            "align_items": null,
            "align_self": null,
            "border": null,
            "bottom": null,
            "display": null,
            "flex": null,
            "flex_flow": null,
            "grid_area": null,
            "grid_auto_columns": null,
            "grid_auto_flow": null,
            "grid_auto_rows": null,
            "grid_column": null,
            "grid_gap": null,
            "grid_row": null,
            "grid_template_areas": null,
            "grid_template_columns": null,
            "grid_template_rows": null,
            "height": null,
            "justify_content": null,
            "justify_items": null,
            "left": null,
            "margin": null,
            "max_height": null,
            "max_width": null,
            "min_height": null,
            "min_width": null,
            "object_fit": null,
            "object_position": null,
            "order": null,
            "overflow": null,
            "overflow_x": null,
            "overflow_y": null,
            "padding": null,
            "right": null,
            "top": null,
            "visibility": null,
            "width": null
          }
        },
        "d14a276ce5b844b9ada0ba952c7caef9": {
          "model_module": "@jupyter-widgets/controls",
          "model_module_version": "1.5.0",
          "model_name": "HTMLModel",
          "state": {
            "_dom_classes": [],
            "_model_module": "@jupyter-widgets/controls",
            "_model_module_version": "1.5.0",
            "_model_name": "HTMLModel",
            "_view_count": null,
            "_view_module": "@jupyter-widgets/controls",
            "_view_module_version": "1.5.0",
            "_view_name": "HTMLView",
            "description": "",
            "description_tooltip": null,
            "layout": "IPY_MODEL_106ea81e51ff4c67b04ca6986070ad3d",
            "placeholder": "​",
            "style": "IPY_MODEL_2a94ec45877545de9c1fcd503b93918d",
            "value": " 268M/268M [00:03&lt;00:00, 111MB/s]"
          }
        },
        "d584e225def84f2b964bc63e946ea20f": {
          "model_module": "@jupyter-widgets/controls",
          "model_module_version": "1.5.0",
          "model_name": "HTMLModel",
          "state": {
            "_dom_classes": [],
            "_model_module": "@jupyter-widgets/controls",
            "_model_module_version": "1.5.0",
            "_model_name": "HTMLModel",
            "_view_count": null,
            "_view_module": "@jupyter-widgets/controls",
            "_view_module_version": "1.5.0",
            "_view_name": "HTMLView",
            "description": "",
            "description_tooltip": null,
            "layout": "IPY_MODEL_269bc36984ec4a28b32e0e95ec3077f0",
            "placeholder": "​",
            "style": "IPY_MODEL_a43a0115e0f64619bfb1aa4306eacd1f",
            "value": "tokenizer.json: 100%"
          }
        },
        "d8ac78f4646e4e0f87f5a3989a75547f": {
          "model_module": "@jupyter-widgets/base",
          "model_module_version": "1.2.0",
          "model_name": "LayoutModel",
          "state": {
            "_model_module": "@jupyter-widgets/base",
            "_model_module_version": "1.2.0",
            "_model_name": "LayoutModel",
            "_view_count": null,
            "_view_module": "@jupyter-widgets/base",
            "_view_module_version": "1.2.0",
            "_view_name": "LayoutView",
            "align_content": null,
            "align_items": null,
            "align_self": null,
            "border": null,
            "bottom": null,
            "display": null,
            "flex": null,
            "flex_flow": null,
            "grid_area": null,
            "grid_auto_columns": null,
            "grid_auto_flow": null,
            "grid_auto_rows": null,
            "grid_column": null,
            "grid_gap": null,
            "grid_row": null,
            "grid_template_areas": null,
            "grid_template_columns": null,
            "grid_template_rows": null,
            "height": null,
            "justify_content": null,
            "justify_items": null,
            "left": null,
            "margin": null,
            "max_height": null,
            "max_width": null,
            "min_height": null,
            "min_width": null,
            "object_fit": null,
            "object_position": null,
            "order": null,
            "overflow": null,
            "overflow_x": null,
            "overflow_y": null,
            "padding": null,
            "right": null,
            "top": null,
            "visibility": null,
            "width": null
          }
        },
        "dab1cd67c0524c09a573dd800b5c063d": {
          "model_module": "@jupyter-widgets/base",
          "model_module_version": "1.2.0",
          "model_name": "LayoutModel",
          "state": {
            "_model_module": "@jupyter-widgets/base",
            "_model_module_version": "1.2.0",
            "_model_name": "LayoutModel",
            "_view_count": null,
            "_view_module": "@jupyter-widgets/base",
            "_view_module_version": "1.2.0",
            "_view_name": "LayoutView",
            "align_content": null,
            "align_items": null,
            "align_self": null,
            "border": null,
            "bottom": null,
            "display": null,
            "flex": null,
            "flex_flow": null,
            "grid_area": null,
            "grid_auto_columns": null,
            "grid_auto_flow": null,
            "grid_auto_rows": null,
            "grid_column": null,
            "grid_gap": null,
            "grid_row": null,
            "grid_template_areas": null,
            "grid_template_columns": null,
            "grid_template_rows": null,
            "height": null,
            "justify_content": null,
            "justify_items": null,
            "left": null,
            "margin": null,
            "max_height": null,
            "max_width": null,
            "min_height": null,
            "min_width": null,
            "object_fit": null,
            "object_position": null,
            "order": null,
            "overflow": null,
            "overflow_x": null,
            "overflow_y": null,
            "padding": null,
            "right": null,
            "top": null,
            "visibility": null,
            "width": null
          }
        },
        "e573f0f9d4964aa0b38058fae25a8d0f": {
          "model_module": "@jupyter-widgets/controls",
          "model_module_version": "1.5.0",
          "model_name": "FloatProgressModel",
          "state": {
            "_dom_classes": [],
            "_model_module": "@jupyter-widgets/controls",
            "_model_module_version": "1.5.0",
            "_model_name": "FloatProgressModel",
            "_view_count": null,
            "_view_module": "@jupyter-widgets/controls",
            "_view_module_version": "1.5.0",
            "_view_name": "ProgressView",
            "bar_style": "success",
            "description": "",
            "description_tooltip": null,
            "layout": "IPY_MODEL_be0cdd3d34384231a910007658ae23c9",
            "max": 48,
            "min": 0,
            "orientation": "horizontal",
            "style": "IPY_MODEL_a46273b93c5e43efbc1fdeaa7342a9a7",
            "value": 48
          }
        },
        "e5fd812edf244c989bb49da95dbbf238": {
          "model_module": "@jupyter-widgets/controls",
          "model_module_version": "1.5.0",
          "model_name": "ProgressStyleModel",
          "state": {
            "_model_module": "@jupyter-widgets/controls",
            "_model_module_version": "1.5.0",
            "_model_name": "ProgressStyleModel",
            "_view_count": null,
            "_view_module": "@jupyter-widgets/base",
            "_view_module_version": "1.2.0",
            "_view_name": "StyleView",
            "bar_color": null,
            "description_width": ""
          }
        },
        "e6a804e07a124cd293bbe4e9499ea54e": {
          "model_module": "@jupyter-widgets/controls",
          "model_module_version": "1.5.0",
          "model_name": "FloatProgressModel",
          "state": {
            "_dom_classes": [],
            "_model_module": "@jupyter-widgets/controls",
            "_model_module_version": "1.5.0",
            "_model_name": "FloatProgressModel",
            "_view_count": null,
            "_view_module": "@jupyter-widgets/controls",
            "_view_module_version": "1.5.0",
            "_view_name": "ProgressView",
            "bar_style": "success",
            "description": "",
            "description_tooltip": null,
            "layout": "IPY_MODEL_66021b4bc3164eb58d9b26e845fdca4c",
            "max": 483,
            "min": 0,
            "orientation": "horizontal",
            "style": "IPY_MODEL_a2e4ecd8f0364f1eaa2ea9cc036390b0",
            "value": 483
          }
        },
        "e712ff2885e04d7ca7fbd1391897d90c": {
          "model_module": "@jupyter-widgets/controls",
          "model_module_version": "1.5.0",
          "model_name": "DescriptionStyleModel",
          "state": {
            "_model_module": "@jupyter-widgets/controls",
            "_model_module_version": "1.5.0",
            "_model_name": "DescriptionStyleModel",
            "_view_count": null,
            "_view_module": "@jupyter-widgets/base",
            "_view_module_version": "1.2.0",
            "_view_name": "StyleView",
            "description_width": ""
          }
        },
        "e82555ae169c4b9183121a932bf12a7c": {
          "model_module": "@jupyter-widgets/controls",
          "model_module_version": "1.5.0",
          "model_name": "FloatProgressModel",
          "state": {
            "_dom_classes": [],
            "_model_module": "@jupyter-widgets/controls",
            "_model_module_version": "1.5.0",
            "_model_name": "FloatProgressModel",
            "_view_count": null,
            "_view_module": "@jupyter-widgets/controls",
            "_view_module_version": "1.5.0",
            "_view_name": "ProgressView",
            "bar_style": "success",
            "description": "",
            "description_tooltip": null,
            "layout": "IPY_MODEL_ce41298f42d244c78e6b87101070d6ad",
            "max": 466062,
            "min": 0,
            "orientation": "horizontal",
            "style": "IPY_MODEL_b5c127a41392406f9dbaf5fb63fcd3c2",
            "value": 466062
          }
        },
        "f1fcd0dea4f745249bf1a9030a3bedfd": {
          "model_module": "@jupyter-widgets/controls",
          "model_module_version": "1.5.0",
          "model_name": "HBoxModel",
          "state": {
            "_dom_classes": [],
            "_model_module": "@jupyter-widgets/controls",
            "_model_module_version": "1.5.0",
            "_model_name": "HBoxModel",
            "_view_count": null,
            "_view_module": "@jupyter-widgets/controls",
            "_view_module_version": "1.5.0",
            "_view_name": "HBoxView",
            "box_style": "",
            "children": [
              "IPY_MODEL_9a053783fabc4fa7818019a3b9d3f340",
              "IPY_MODEL_afd0297953e041a49c4d7a7fc340988c",
              "IPY_MODEL_d14a276ce5b844b9ada0ba952c7caef9"
            ],
            "layout": "IPY_MODEL_3fd6e187c6d540f5a708a76f10ea8e6c"
          }
        },
        "f404ecbc62d5475aa1a8011f340b771d": {
          "model_module": "@jupyter-widgets/controls",
          "model_module_version": "1.5.0",
          "model_name": "DescriptionStyleModel",
          "state": {
            "_model_module": "@jupyter-widgets/controls",
            "_model_module_version": "1.5.0",
            "_model_name": "DescriptionStyleModel",
            "_view_count": null,
            "_view_module": "@jupyter-widgets/base",
            "_view_module_version": "1.2.0",
            "_view_name": "StyleView",
            "description_width": ""
          }
        }
      }
    }
  },
  "nbformat": 4,
  "nbformat_minor": 5
}
